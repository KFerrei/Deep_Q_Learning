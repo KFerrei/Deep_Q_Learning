{
  "cells": [
    {
      "cell_type": "markdown",
      "id": "1122bff3-d09c-4954-a089-b4b4872c8b27",
      "metadata": {
        "id": "1122bff3-d09c-4954-a089-b4b4872c8b27"
      },
      "source": [
        "# Skeleton Notebook Deep Q-Learning Project (MHBF)"
      ]
    },
    {
      "cell_type": "code",
      "execution_count": 2,
      "id": "9d3afca4-944a-4a0e-a34b-bf5444ce7ffb",
      "metadata": {
        "id": "9d3afca4-944a-4a0e-a34b-bf5444ce7ffb"
      },
      "outputs": [
        {
          "name": "stdout",
          "output_type": "stream",
          "text": [
            "The autoreload extension is already loaded. To reload it, use:\n",
            "  %reload_ext autoreload\n"
          ]
        }
      ],
      "source": [
        "%matplotlib inline\n",
        "%load_ext autoreload\n",
        "%autoreload 2\n",
        "\n",
        "# Import required packages\n",
        "import gym\n",
        "import gym_grid\n",
        "\n",
        "import matplotlib.pyplot as plt\n",
        "\n",
        "import numpy as np\n",
        "import random\n",
        "\n",
        "import torch\n",
        "import torch.nn as nn\n",
        "import torch.optim as optim\n",
        "import torch.nn.functional as F\n",
        "\n",
        "from IPython import display\n",
        "from collections import namedtuple, deque\n",
        "from tqdm import tqdm\n",
        "\n",
        "import warnings\n",
        "warnings.filterwarnings(\"ignore\")"
      ]
    },
    {
      "cell_type": "code",
      "execution_count": 28,
      "id": "5599cf0b-5a75-44c1-b54b-79d1c94266a1",
      "metadata": {
        "colab": {
          "base_uri": "https://localhost:8080/"
        },
        "id": "5599cf0b-5a75-44c1-b54b-79d1c94266a1",
        "outputId": "e3f23c75-f154-41ae-d46d-12f5fabc0207"
      },
      "outputs": [
        {
          "name": "stdout",
          "output_type": "stream",
          "text": [
            "cpu\n"
          ]
        }
      ],
      "source": [
        "device = torch.device('cpu')\n",
        "print(device)"
      ]
    },
    {
      "cell_type": "markdown",
      "id": "5cba614b-63eb-4e8b-8c46-bad02735c0fb",
      "metadata": {
        "id": "5cba614b-63eb-4e8b-8c46-bad02735c0fb"
      },
      "source": [
        "# 0. Environment Implementation"
      ]
    },
    {
      "cell_type": "code",
      "execution_count": 29,
      "id": "e6077c2c-8f41-42d3-9aee-8803adedd189",
      "metadata": {
        "colab": {
          "base_uri": "https://localhost:8080/",
          "height": 109
        },
        "id": "e6077c2c-8f41-42d3-9aee-8803adedd189",
        "outputId": "fb42ae50-91fb-4a82-9ca9-06d06b59142d"
      },
      "outputs": [
        {
          "data": {
            "image/png": "[encoded data removed]",
            "text/plain": [
              "<Figure size 1000x1000 with 1 Axes>"
            ]
          },
          "metadata": {},
          "output_type": "display_data"
        }
      ],
      "source": [
        "# Visualize the environment\n",
        "plt.figure(figsize=(10, 10))\n",
        "# T-Maze Environment\n",
        "env = gym.make(\"LinearTrack-v0\")\n",
        "#env = gym.make(\"DeadlyGrid-v0\")\n",
        "_, obs_to_render = env.reset_with_render()\n",
        "env.reset()\n",
        "env.render(obs_to_render)"
      ]
    },
    {
      "cell_type": "code",
      "execution_count": 30,
      "id": "695a5017-5dce-4413-aee0-3b4050cd03a7",
      "metadata": {
        "colab": {
          "base_uri": "https://localhost:8080/"
        },
        "id": "695a5017-5dce-4413-aee0-3b4050cd03a7",
        "outputId": "6a8cb2e0-7bce-4e5d-a22c-a47159f36b0c"
      },
      "outputs": [
        {
          "name": "stdout",
          "output_type": "stream",
          "text": [
            "State space:  Box(3, 32, 4)\n",
            "State shape:  (3, 32, 4)\n",
            "Action space:  Discrete(3)\n",
            "Number of actions:  3\n"
          ]
        }
      ],
      "source": [
        "print('State space: ', env.observation_space)\n",
        "print('State shape: ', env.observation_space.shape)\n",
        "print('Action space: ', env.action_space)\n",
        "print('Number of actions: ', env.action_space.n)"
      ]
    },
    {
      "cell_type": "markdown",
      "id": "858d0861-0176-43bb-a699-e2498dd9bdfb",
      "metadata": {
        "id": "858d0861-0176-43bb-a699-e2498dd9bdfb"
      },
      "source": [
        "# 1. Definition of model and params"
      ]
    },
    {
      "cell_type": "code",
      "execution_count": 31,
      "id": "c47b7035-60dd-4b62-950c-043fe2c47f61",
      "metadata": {
        "id": "c47b7035-60dd-4b62-950c-043fe2c47f61"
      },
      "outputs": [],
      "source": [
        "# Discount factor\n",
        "GAMMA = 0.99\n",
        "# Learning rate\n",
        "LEARNING_RATE = 0.001\n",
        "# Capacity of the replay buffer\n",
        "BUFFER_SIZE = 1000\n",
        "# Update target net every ... episodes\n",
        "UPDATE_EVERY= 500\n",
        "# Batch size\n",
        "BATCH_SIZE = 128\n",
        "# Eval Episode\n",
        "EVAL_EPISODE = 500\n",
        "# Number of eval\n",
        "N_EVAL = 50\n",
        "# Hidden Units\n",
        "HIDDEN_UNITS = 128\n",
        "# Hidden layers\n",
        "HIDDEN_LAYERS = 1\n",
        "# Number of training episodes\n",
        "N_EPISODES = 50000\n",
        "# Initial value of epsilon\n",
        "EPSILON_START = 1.0\n",
        "# End value of epsilon\n",
        "EPSILON_END = 0.01\n",
        "# Epsilon decay\n",
        "EPSILON_DECAY = (EPSILON_START - EPSILON_END) / N_EPISODES\n",
        "# Initial value of epsilon\n",
        "BETA_START = 0.4\n",
        "# End value of epsilon\n",
        "BETA_END = 1.0\n",
        "# Epsilon decay\n",
        "BETA_DECAY = (BETA_START - BETA_END) / N_EPISODES\n",
        "# SEED\n",
        "SEED = 6\n",
        "\n",
        "params = {'gamma': GAMMA, 'lr': LEARNING_RATE, 'bacth_size': BATCH_SIZE,\n",
        "          'buffer_size': BUFFER_SIZE, 'update_step': UPDATE_EVERY,\n",
        "          'hidden_unit': HIDDEN_UNITS, 'hidden_laye': HIDDEN_LAYERS,'n_episode': N_EPISODES}"
      ]
    },
    {
      "cell_type": "code",
      "execution_count": 48,
      "id": "c03cf8c0-edc2-4c56-b4ab-4d88af756c2b",
      "metadata": {
        "id": "c03cf8c0-edc2-4c56-b4ab-4d88af756c2b"
      },
      "outputs": [],
      "source": [
        "class DQN(nn.Module):\n",
        "    def __init__(self, input_dim, output_dim, hidden_units, hidden_layers):\n",
        "        super(DQN, self).__init__()\n",
        "\n",
        "        self.action_space_size = output_dim\n",
        "        self.hidden_layers = hidden_layers\n",
        "        self.layer_in = nn.Linear(input_dim, hidden_units)\n",
        "        self.hidden_layer= nn.Linear(hidden_units, hidden_units)\n",
        "        self.layer_out = nn.Linear(hidden_units, output_dim)\n",
        "\n",
        "    def forward(self, x):\n",
        "        x = F.relu(self.layer_in(x.float()))\n",
        "        for i in range(self.hidden_layers):\n",
        "            x = F.relu(self.hidden_layer(x))\n",
        "        x = self.layer_out(x)\n",
        "        return x\n",
        "\n",
        "    def action(self, state, epsilon):\n",
        "        if random.random() > epsilon:\n",
        "            q_value = self.forward(state)\n",
        "            action  = int(torch.argmax(q_value, dim=-1))\n",
        "        else:\n",
        "            action = random.randrange(self.action_space_size)\n",
        "        return action"
      ]
    },
    {
      "cell_type": "code",
      "execution_count": 33,
      "id": "4c3d24d4-28ad-4357-ab02-706476e10201",
      "metadata": {
        "id": "4c3d24d4-28ad-4357-ab02-706476e10201"
      },
      "outputs": [],
      "source": [
        "def test_agent(model, gamma):\n",
        "    done = False\n",
        "    episode_return = 0\n",
        "    i = 0\n",
        "    state = torch.tensor(env.reset(), dtype=torch.float32).flatten().to(device)\n",
        "    with torch.no_grad():\n",
        "        while not done:\n",
        "            action = model.action(state, 0)\n",
        "            state, reward, done, info = env.step(action)\n",
        "            state = torch.tensor(state, dtype=torch.float32).flatten().to(device)\n",
        "            episode_return += gamma**i * reward\n",
        "            i += 1\n",
        "    return episode_return"
      ]
    },
    {
      "cell_type": "code",
      "execution_count": 34,
      "id": "-9W_mSDJI_Am",
      "metadata": {
        "id": "-9W_mSDJI_Am"
      },
      "outputs": [],
      "source": [
        "def set_seed(seed):\n",
        "    torch.manual_seed(seed)\n",
        "    if torch.cuda.is_available():\n",
        "        torch.cuda.manual_seed_all(seed)\n",
        "    np.random.seed(seed)\n",
        "    random.seed(seed)\n",
        "\n",
        "def initialize_weights_to_zero(m):\n",
        "    if isinstance(m, nn.Linear):\n",
        "        nn.init.constant_(m.weight, 0)\n",
        "        if m.bias is not None:\n",
        "            nn.init.constant_(m.bias, 0)"
      ]
    },
    {
      "cell_type": "markdown",
      "id": "93f24766-bdb9-43a4-bd58-0af0a20d6ac7",
      "metadata": {
        "id": "93f24766-bdb9-43a4-bd58-0af0a20d6ac7"
      },
      "source": [
        "# 2. Baseline"
      ]
    },
    {
      "cell_type": "code",
      "execution_count": 50,
      "id": "2948b05e-5a16-49fd-81c7-4ddf3f81d1fa",
      "metadata": {
        "colab": {
          "base_uri": "https://localhost:8080/",
          "height": 401
        },
        "id": "2948b05e-5a16-49fd-81c7-4ddf3f81d1fa",
        "outputId": "fea67fe0-fd66-4d01-fe81-c9195f44d3ae"
      },
      "outputs": [
        {
          "data": {
            "image/png": "[encoded data removed]",
            "text/plain": [
              "<Figure size 640x480 with 1 Axes>"
            ]
          },
          "metadata": {},
          "output_type": "display_data"
        },
        {
          "name": "stderr",
          "output_type": "stream",
          "text": [
            " 21%|██▏       | 10672/50000 [09:03<33:23, 19.63it/s]\n"
          ]
        },
        {
          "ename": "KeyboardInterrupt",
          "evalue": "",
          "output_type": "error",
          "traceback": [
            "\u001b[0;31m---------------------------------------------------------------------------\u001b[0m",
            "\u001b[0;31mKeyboardInterrupt\u001b[0m                         Traceback (most recent call last)",
            "Cell \u001b[0;32mIn[50], line 37\u001b[0m\n\u001b[1;32m     35\u001b[0m     optimizer\u001b[38;5;241m.\u001b[39mzero_grad()\n\u001b[1;32m     36\u001b[0m     loss\u001b[38;5;241m.\u001b[39mbackward()\n\u001b[0;32m---> 37\u001b[0m     optimizer\u001b[38;5;241m.\u001b[39mstep()\n\u001b[1;32m     38\u001b[0m     state \u001b[38;5;241m=\u001b[39m next_state\n\u001b[1;32m     40\u001b[0m results_baseline[\u001b[38;5;124m'\u001b[39m\u001b[38;5;124mrewards_train\u001b[39m\u001b[38;5;124m'\u001b[39m]\u001b[38;5;241m.\u001b[39mappend(r_train)\n",
            "File \u001b[0;32m~/miniconda3/envs/aand/lib/python3.12/site-packages/torch/optim/optimizer.py:391\u001b[0m, in \u001b[0;36mOptimizer.profile_hook_step.<locals>.wrapper\u001b[0;34m(*args, **kwargs)\u001b[0m\n\u001b[1;32m    386\u001b[0m         \u001b[38;5;28;01melse\u001b[39;00m:\n\u001b[1;32m    387\u001b[0m             \u001b[38;5;28;01mraise\u001b[39;00m \u001b[38;5;167;01mRuntimeError\u001b[39;00m(\n\u001b[1;32m    388\u001b[0m                 \u001b[38;5;124mf\u001b[39m\u001b[38;5;124m\"\u001b[39m\u001b[38;5;132;01m{\u001b[39;00mfunc\u001b[38;5;132;01m}\u001b[39;00m\u001b[38;5;124m must return None or a tuple of (new_args, new_kwargs), but got \u001b[39m\u001b[38;5;132;01m{\u001b[39;00mresult\u001b[38;5;132;01m}\u001b[39;00m\u001b[38;5;124m.\u001b[39m\u001b[38;5;124m\"\u001b[39m\n\u001b[1;32m    389\u001b[0m             )\n\u001b[0;32m--> 391\u001b[0m out \u001b[38;5;241m=\u001b[39m func(\u001b[38;5;241m*\u001b[39margs, \u001b[38;5;241m*\u001b[39m\u001b[38;5;241m*\u001b[39mkwargs)\n\u001b[1;32m    392\u001b[0m \u001b[38;5;28mself\u001b[39m\u001b[38;5;241m.\u001b[39m_optimizer_step_code()\n\u001b[1;32m    394\u001b[0m \u001b[38;5;66;03m# call optimizer step post hooks\u001b[39;00m\n",
            "File \u001b[0;32m~/miniconda3/envs/aand/lib/python3.12/site-packages/torch/optim/optimizer.py:76\u001b[0m, in \u001b[0;36m_use_grad_for_differentiable.<locals>._use_grad\u001b[0;34m(self, *args, **kwargs)\u001b[0m\n\u001b[1;32m     74\u001b[0m     torch\u001b[38;5;241m.\u001b[39mset_grad_enabled(\u001b[38;5;28mself\u001b[39m\u001b[38;5;241m.\u001b[39mdefaults[\u001b[38;5;124m'\u001b[39m\u001b[38;5;124mdifferentiable\u001b[39m\u001b[38;5;124m'\u001b[39m])\n\u001b[1;32m     75\u001b[0m     torch\u001b[38;5;241m.\u001b[39m_dynamo\u001b[38;5;241m.\u001b[39mgraph_break()\n\u001b[0;32m---> 76\u001b[0m     ret \u001b[38;5;241m=\u001b[39m func(\u001b[38;5;28mself\u001b[39m, \u001b[38;5;241m*\u001b[39margs, \u001b[38;5;241m*\u001b[39m\u001b[38;5;241m*\u001b[39mkwargs)\n\u001b[1;32m     77\u001b[0m \u001b[38;5;28;01mfinally\u001b[39;00m:\n\u001b[1;32m     78\u001b[0m     torch\u001b[38;5;241m.\u001b[39m_dynamo\u001b[38;5;241m.\u001b[39mgraph_break()\n",
            "File \u001b[0;32m~/miniconda3/envs/aand/lib/python3.12/site-packages/torch/optim/adam.py:168\u001b[0m, in \u001b[0;36mAdam.step\u001b[0;34m(self, closure)\u001b[0m\n\u001b[1;32m    157\u001b[0m     beta1, beta2 \u001b[38;5;241m=\u001b[39m group[\u001b[38;5;124m'\u001b[39m\u001b[38;5;124mbetas\u001b[39m\u001b[38;5;124m'\u001b[39m]\n\u001b[1;32m    159\u001b[0m     has_complex \u001b[38;5;241m=\u001b[39m \u001b[38;5;28mself\u001b[39m\u001b[38;5;241m.\u001b[39m_init_group(\n\u001b[1;32m    160\u001b[0m         group,\n\u001b[1;32m    161\u001b[0m         params_with_grad,\n\u001b[0;32m   (...)\u001b[0m\n\u001b[1;32m    165\u001b[0m         max_exp_avg_sqs,\n\u001b[1;32m    166\u001b[0m         state_steps)\n\u001b[0;32m--> 168\u001b[0m     adam(\n\u001b[1;32m    169\u001b[0m         params_with_grad,\n\u001b[1;32m    170\u001b[0m         grads,\n\u001b[1;32m    171\u001b[0m         exp_avgs,\n\u001b[1;32m    172\u001b[0m         exp_avg_sqs,\n\u001b[1;32m    173\u001b[0m         max_exp_avg_sqs,\n\u001b[1;32m    174\u001b[0m         state_steps,\n\u001b[1;32m    175\u001b[0m         amsgrad\u001b[38;5;241m=\u001b[39mgroup[\u001b[38;5;124m'\u001b[39m\u001b[38;5;124mamsgrad\u001b[39m\u001b[38;5;124m'\u001b[39m],\n\u001b[1;32m    176\u001b[0m         has_complex\u001b[38;5;241m=\u001b[39mhas_complex,\n\u001b[1;32m    177\u001b[0m         beta1\u001b[38;5;241m=\u001b[39mbeta1,\n\u001b[1;32m    178\u001b[0m         beta2\u001b[38;5;241m=\u001b[39mbeta2,\n\u001b[1;32m    179\u001b[0m         lr\u001b[38;5;241m=\u001b[39mgroup[\u001b[38;5;124m'\u001b[39m\u001b[38;5;124mlr\u001b[39m\u001b[38;5;124m'\u001b[39m],\n\u001b[1;32m    180\u001b[0m         weight_decay\u001b[38;5;241m=\u001b[39mgroup[\u001b[38;5;124m'\u001b[39m\u001b[38;5;124mweight_decay\u001b[39m\u001b[38;5;124m'\u001b[39m],\n\u001b[1;32m    181\u001b[0m         eps\u001b[38;5;241m=\u001b[39mgroup[\u001b[38;5;124m'\u001b[39m\u001b[38;5;124meps\u001b[39m\u001b[38;5;124m'\u001b[39m],\n\u001b[1;32m    182\u001b[0m         maximize\u001b[38;5;241m=\u001b[39mgroup[\u001b[38;5;124m'\u001b[39m\u001b[38;5;124mmaximize\u001b[39m\u001b[38;5;124m'\u001b[39m],\n\u001b[1;32m    183\u001b[0m         foreach\u001b[38;5;241m=\u001b[39mgroup[\u001b[38;5;124m'\u001b[39m\u001b[38;5;124mforeach\u001b[39m\u001b[38;5;124m'\u001b[39m],\n\u001b[1;32m    184\u001b[0m         capturable\u001b[38;5;241m=\u001b[39mgroup[\u001b[38;5;124m'\u001b[39m\u001b[38;5;124mcapturable\u001b[39m\u001b[38;5;124m'\u001b[39m],\n\u001b[1;32m    185\u001b[0m         differentiable\u001b[38;5;241m=\u001b[39mgroup[\u001b[38;5;124m'\u001b[39m\u001b[38;5;124mdifferentiable\u001b[39m\u001b[38;5;124m'\u001b[39m],\n\u001b[1;32m    186\u001b[0m         fused\u001b[38;5;241m=\u001b[39mgroup[\u001b[38;5;124m'\u001b[39m\u001b[38;5;124mfused\u001b[39m\u001b[38;5;124m'\u001b[39m],\n\u001b[1;32m    187\u001b[0m         grad_scale\u001b[38;5;241m=\u001b[39m\u001b[38;5;28mgetattr\u001b[39m(\u001b[38;5;28mself\u001b[39m, \u001b[38;5;124m\"\u001b[39m\u001b[38;5;124mgrad_scale\u001b[39m\u001b[38;5;124m\"\u001b[39m, \u001b[38;5;28;01mNone\u001b[39;00m),\n\u001b[1;32m    188\u001b[0m         found_inf\u001b[38;5;241m=\u001b[39m\u001b[38;5;28mgetattr\u001b[39m(\u001b[38;5;28mself\u001b[39m, \u001b[38;5;124m\"\u001b[39m\u001b[38;5;124mfound_inf\u001b[39m\u001b[38;5;124m\"\u001b[39m, \u001b[38;5;28;01mNone\u001b[39;00m),\n\u001b[1;32m    189\u001b[0m     )\n\u001b[1;32m    191\u001b[0m \u001b[38;5;28;01mreturn\u001b[39;00m loss\n",
            "File \u001b[0;32m~/miniconda3/envs/aand/lib/python3.12/site-packages/torch/optim/adam.py:318\u001b[0m, in \u001b[0;36madam\u001b[0;34m(params, grads, exp_avgs, exp_avg_sqs, max_exp_avg_sqs, state_steps, foreach, capturable, differentiable, fused, grad_scale, found_inf, has_complex, amsgrad, beta1, beta2, lr, weight_decay, eps, maximize)\u001b[0m\n\u001b[1;32m    315\u001b[0m \u001b[38;5;28;01melse\u001b[39;00m:\n\u001b[1;32m    316\u001b[0m     func \u001b[38;5;241m=\u001b[39m _single_tensor_adam\n\u001b[0;32m--> 318\u001b[0m func(params,\n\u001b[1;32m    319\u001b[0m      grads,\n\u001b[1;32m    320\u001b[0m      exp_avgs,\n\u001b[1;32m    321\u001b[0m      exp_avg_sqs,\n\u001b[1;32m    322\u001b[0m      max_exp_avg_sqs,\n\u001b[1;32m    323\u001b[0m      state_steps,\n\u001b[1;32m    324\u001b[0m      amsgrad\u001b[38;5;241m=\u001b[39mamsgrad,\n\u001b[1;32m    325\u001b[0m      has_complex\u001b[38;5;241m=\u001b[39mhas_complex,\n\u001b[1;32m    326\u001b[0m      beta1\u001b[38;5;241m=\u001b[39mbeta1,\n\u001b[1;32m    327\u001b[0m      beta2\u001b[38;5;241m=\u001b[39mbeta2,\n\u001b[1;32m    328\u001b[0m      lr\u001b[38;5;241m=\u001b[39mlr,\n\u001b[1;32m    329\u001b[0m      weight_decay\u001b[38;5;241m=\u001b[39mweight_decay,\n\u001b[1;32m    330\u001b[0m      eps\u001b[38;5;241m=\u001b[39meps,\n\u001b[1;32m    331\u001b[0m      maximize\u001b[38;5;241m=\u001b[39mmaximize,\n\u001b[1;32m    332\u001b[0m      capturable\u001b[38;5;241m=\u001b[39mcapturable,\n\u001b[1;32m    333\u001b[0m      differentiable\u001b[38;5;241m=\u001b[39mdifferentiable,\n\u001b[1;32m    334\u001b[0m      grad_scale\u001b[38;5;241m=\u001b[39mgrad_scale,\n\u001b[1;32m    335\u001b[0m      found_inf\u001b[38;5;241m=\u001b[39mfound_inf)\n",
            "File \u001b[0;32m~/miniconda3/envs/aand/lib/python3.12/site-packages/torch/optim/adam.py:394\u001b[0m, in \u001b[0;36m_single_tensor_adam\u001b[0;34m(params, grads, exp_avgs, exp_avg_sqs, max_exp_avg_sqs, state_steps, grad_scale, found_inf, amsgrad, has_complex, beta1, beta2, lr, weight_decay, eps, maximize, capturable, differentiable)\u001b[0m\n\u001b[1;32m    392\u001b[0m \u001b[38;5;66;03m# Decay the first and second moment running average coefficient\u001b[39;00m\n\u001b[1;32m    393\u001b[0m exp_avg\u001b[38;5;241m.\u001b[39mlerp_(grad, \u001b[38;5;241m1\u001b[39m \u001b[38;5;241m-\u001b[39m beta1)\n\u001b[0;32m--> 394\u001b[0m exp_avg_sq\u001b[38;5;241m.\u001b[39mmul_(beta2)\u001b[38;5;241m.\u001b[39maddcmul_(grad, grad\u001b[38;5;241m.\u001b[39mconj(), value\u001b[38;5;241m=\u001b[39m\u001b[38;5;241m1\u001b[39m \u001b[38;5;241m-\u001b[39m beta2)\n\u001b[1;32m    396\u001b[0m \u001b[38;5;28;01mif\u001b[39;00m capturable \u001b[38;5;129;01mor\u001b[39;00m differentiable:\n\u001b[1;32m    397\u001b[0m     step \u001b[38;5;241m=\u001b[39m step_t\n",
            "\u001b[0;31mKeyboardInterrupt\u001b[0m: "
          ]
        }
      ],
      "source": [
        "set_seed(SEED)\n",
        "model_baseline = DQN(env.observation_space.shape[0] * env.observation_space.shape[1] * env.observation_space.shape[2],\n",
        "                     env.action_space.n,\n",
        "                     HIDDEN_UNITS,\n",
        "                     HIDDEN_LAYERS).to(device)\n",
        "optimizer = optim.Adam(params=model_baseline.parameters(), lr=LEARNING_RATE)\n",
        "\n",
        "results_baseline = {\n",
        "    'params' : params,\n",
        "    'epochs_save' : [],\n",
        "    'weights': {},\n",
        "    'rewards_test': [],\n",
        "    'rewards_train': []\n",
        "}\n",
        "\n",
        "step = 0\n",
        "eps = EPSILON_START\n",
        "\n",
        "for step in tqdm(range(N_EPISODES)):\n",
        "    done = False\n",
        "    state = torch.from_numpy(env.reset().flatten()).to(device)\n",
        "    r_train = 0\n",
        "    while not done:\n",
        "        action = model_baseline.action(state, eps)\n",
        "        next_state, reward, done, info = env.step(action)\n",
        "        next_state = torch.from_numpy(next_state.flatten()).to(device)\n",
        "        r_train += reward\n",
        "\n",
        "        next_state_values = model_baseline(next_state).max().detach()\n",
        "        state_action_values = model_baseline(state)[action]\n",
        "\n",
        "        expected_q_value = reward + GAMMA * next_state_values * (1 - done)\n",
        "        loss = nn.MSELoss()(state_action_values, expected_q_value)\n",
        "\n",
        "        optimizer.zero_grad()\n",
        "        loss.backward()\n",
        "        optimizer.step()\n",
        "        state = next_state\n",
        "\n",
        "    results_baseline['rewards_train'].append(r_train)\n",
        "\n",
        "    if step%EVAL_EPISODE == 0:\n",
        "        r_test = []\n",
        "        for j in range(N_EVAL):\n",
        "            r = test_agent(model_baseline, GAMMA)\n",
        "            r_test.append(r)\n",
        "\n",
        "        results_baseline['weights'][step] = model_baseline.state_dict()\n",
        "        results_baseline['rewards_test'].append(np.mean(r_test))\n",
        "        results_baseline['epochs_save'].append(step)\n",
        "\n",
        "        display.clear_output(True)\n",
        "        plt.plot(results_baseline['rewards_train'], label = \"reward train\")\n",
        "        plt.plot(results_baseline['epochs_save'],results_baseline['rewards_test'], label = \"reward test\")\n",
        "        plt.legend()\n",
        "        plt.show()\n",
        "    eps -= EPSILON_DECAY\n",
        "torch.save(results_baseline, 'results_baseline.pth')"
      ]
    },
    {
      "cell_type": "code",
      "execution_count": 42,
      "id": "ec4ca369",
      "metadata": {},
      "outputs": [
        {
          "ename": "RuntimeError",
          "evalue": "mat1 and mat2 must have the same dtype, but got Byte and Float",
          "output_type": "error",
          "traceback": [
            "\u001b[0;31m---------------------------------------------------------------------------\u001b[0m",
            "\u001b[0;31mRuntimeError\u001b[0m                              Traceback (most recent call last)",
            "Cell \u001b[0;32mIn[42], line 1\u001b[0m\n\u001b[0;32m----> 1\u001b[0m \u001b[38;5;28mprint\u001b[39m(model_baseline(next_state))\n",
            "File \u001b[0;32m~/miniconda3/envs/aand/lib/python3.12/site-packages/torch/nn/modules/module.py:1532\u001b[0m, in \u001b[0;36mModule._wrapped_call_impl\u001b[0;34m(self, *args, **kwargs)\u001b[0m\n\u001b[1;32m   1530\u001b[0m     \u001b[38;5;28;01mreturn\u001b[39;00m \u001b[38;5;28mself\u001b[39m\u001b[38;5;241m.\u001b[39m_compiled_call_impl(\u001b[38;5;241m*\u001b[39margs, \u001b[38;5;241m*\u001b[39m\u001b[38;5;241m*\u001b[39mkwargs)  \u001b[38;5;66;03m# type: ignore[misc]\u001b[39;00m\n\u001b[1;32m   1531\u001b[0m \u001b[38;5;28;01melse\u001b[39;00m:\n\u001b[0;32m-> 1532\u001b[0m     \u001b[38;5;28;01mreturn\u001b[39;00m \u001b[38;5;28mself\u001b[39m\u001b[38;5;241m.\u001b[39m_call_impl(\u001b[38;5;241m*\u001b[39margs, \u001b[38;5;241m*\u001b[39m\u001b[38;5;241m*\u001b[39mkwargs)\n",
            "File \u001b[0;32m~/miniconda3/envs/aand/lib/python3.12/site-packages/torch/nn/modules/module.py:1541\u001b[0m, in \u001b[0;36mModule._call_impl\u001b[0;34m(self, *args, **kwargs)\u001b[0m\n\u001b[1;32m   1536\u001b[0m \u001b[38;5;66;03m# If we don't have any hooks, we want to skip the rest of the logic in\u001b[39;00m\n\u001b[1;32m   1537\u001b[0m \u001b[38;5;66;03m# this function, and just call forward.\u001b[39;00m\n\u001b[1;32m   1538\u001b[0m \u001b[38;5;28;01mif\u001b[39;00m \u001b[38;5;129;01mnot\u001b[39;00m (\u001b[38;5;28mself\u001b[39m\u001b[38;5;241m.\u001b[39m_backward_hooks \u001b[38;5;129;01mor\u001b[39;00m \u001b[38;5;28mself\u001b[39m\u001b[38;5;241m.\u001b[39m_backward_pre_hooks \u001b[38;5;129;01mor\u001b[39;00m \u001b[38;5;28mself\u001b[39m\u001b[38;5;241m.\u001b[39m_forward_hooks \u001b[38;5;129;01mor\u001b[39;00m \u001b[38;5;28mself\u001b[39m\u001b[38;5;241m.\u001b[39m_forward_pre_hooks\n\u001b[1;32m   1539\u001b[0m         \u001b[38;5;129;01mor\u001b[39;00m _global_backward_pre_hooks \u001b[38;5;129;01mor\u001b[39;00m _global_backward_hooks\n\u001b[1;32m   1540\u001b[0m         \u001b[38;5;129;01mor\u001b[39;00m _global_forward_hooks \u001b[38;5;129;01mor\u001b[39;00m _global_forward_pre_hooks):\n\u001b[0;32m-> 1541\u001b[0m     \u001b[38;5;28;01mreturn\u001b[39;00m forward_call(\u001b[38;5;241m*\u001b[39margs, \u001b[38;5;241m*\u001b[39m\u001b[38;5;241m*\u001b[39mkwargs)\n\u001b[1;32m   1543\u001b[0m \u001b[38;5;28;01mtry\u001b[39;00m:\n\u001b[1;32m   1544\u001b[0m     result \u001b[38;5;241m=\u001b[39m \u001b[38;5;28;01mNone\u001b[39;00m\n",
            "Cell \u001b[0;32mIn[32], line 12\u001b[0m, in \u001b[0;36mDQN.forward\u001b[0;34m(self, x)\u001b[0m\n\u001b[1;32m     11\u001b[0m \u001b[38;5;28;01mdef\u001b[39;00m \u001b[38;5;21mforward\u001b[39m(\u001b[38;5;28mself\u001b[39m, x):\n\u001b[0;32m---> 12\u001b[0m     x \u001b[38;5;241m=\u001b[39m F\u001b[38;5;241m.\u001b[39mrelu(\u001b[38;5;28mself\u001b[39m\u001b[38;5;241m.\u001b[39mlayer_in(x))\n\u001b[1;32m     13\u001b[0m     \u001b[38;5;28;01mfor\u001b[39;00m i \u001b[38;5;129;01min\u001b[39;00m \u001b[38;5;28mrange\u001b[39m(\u001b[38;5;28mself\u001b[39m\u001b[38;5;241m.\u001b[39mhidden_layers):\n\u001b[1;32m     14\u001b[0m         x \u001b[38;5;241m=\u001b[39m F\u001b[38;5;241m.\u001b[39mrelu(\u001b[38;5;28mself\u001b[39m\u001b[38;5;241m.\u001b[39mhidden_layer(x))\n",
            "File \u001b[0;32m~/miniconda3/envs/aand/lib/python3.12/site-packages/torch/nn/modules/module.py:1532\u001b[0m, in \u001b[0;36mModule._wrapped_call_impl\u001b[0;34m(self, *args, **kwargs)\u001b[0m\n\u001b[1;32m   1530\u001b[0m     \u001b[38;5;28;01mreturn\u001b[39;00m \u001b[38;5;28mself\u001b[39m\u001b[38;5;241m.\u001b[39m_compiled_call_impl(\u001b[38;5;241m*\u001b[39margs, \u001b[38;5;241m*\u001b[39m\u001b[38;5;241m*\u001b[39mkwargs)  \u001b[38;5;66;03m# type: ignore[misc]\u001b[39;00m\n\u001b[1;32m   1531\u001b[0m \u001b[38;5;28;01melse\u001b[39;00m:\n\u001b[0;32m-> 1532\u001b[0m     \u001b[38;5;28;01mreturn\u001b[39;00m \u001b[38;5;28mself\u001b[39m\u001b[38;5;241m.\u001b[39m_call_impl(\u001b[38;5;241m*\u001b[39margs, \u001b[38;5;241m*\u001b[39m\u001b[38;5;241m*\u001b[39mkwargs)\n",
            "File \u001b[0;32m~/miniconda3/envs/aand/lib/python3.12/site-packages/torch/nn/modules/module.py:1541\u001b[0m, in \u001b[0;36mModule._call_impl\u001b[0;34m(self, *args, **kwargs)\u001b[0m\n\u001b[1;32m   1536\u001b[0m \u001b[38;5;66;03m# If we don't have any hooks, we want to skip the rest of the logic in\u001b[39;00m\n\u001b[1;32m   1537\u001b[0m \u001b[38;5;66;03m# this function, and just call forward.\u001b[39;00m\n\u001b[1;32m   1538\u001b[0m \u001b[38;5;28;01mif\u001b[39;00m \u001b[38;5;129;01mnot\u001b[39;00m (\u001b[38;5;28mself\u001b[39m\u001b[38;5;241m.\u001b[39m_backward_hooks \u001b[38;5;129;01mor\u001b[39;00m \u001b[38;5;28mself\u001b[39m\u001b[38;5;241m.\u001b[39m_backward_pre_hooks \u001b[38;5;129;01mor\u001b[39;00m \u001b[38;5;28mself\u001b[39m\u001b[38;5;241m.\u001b[39m_forward_hooks \u001b[38;5;129;01mor\u001b[39;00m \u001b[38;5;28mself\u001b[39m\u001b[38;5;241m.\u001b[39m_forward_pre_hooks\n\u001b[1;32m   1539\u001b[0m         \u001b[38;5;129;01mor\u001b[39;00m _global_backward_pre_hooks \u001b[38;5;129;01mor\u001b[39;00m _global_backward_hooks\n\u001b[1;32m   1540\u001b[0m         \u001b[38;5;129;01mor\u001b[39;00m _global_forward_hooks \u001b[38;5;129;01mor\u001b[39;00m _global_forward_pre_hooks):\n\u001b[0;32m-> 1541\u001b[0m     \u001b[38;5;28;01mreturn\u001b[39;00m forward_call(\u001b[38;5;241m*\u001b[39margs, \u001b[38;5;241m*\u001b[39m\u001b[38;5;241m*\u001b[39mkwargs)\n\u001b[1;32m   1543\u001b[0m \u001b[38;5;28;01mtry\u001b[39;00m:\n\u001b[1;32m   1544\u001b[0m     result \u001b[38;5;241m=\u001b[39m \u001b[38;5;28;01mNone\u001b[39;00m\n",
            "File \u001b[0;32m~/miniconda3/envs/aand/lib/python3.12/site-packages/torch/nn/modules/linear.py:116\u001b[0m, in \u001b[0;36mLinear.forward\u001b[0;34m(self, input)\u001b[0m\n\u001b[1;32m    115\u001b[0m \u001b[38;5;28;01mdef\u001b[39;00m \u001b[38;5;21mforward\u001b[39m(\u001b[38;5;28mself\u001b[39m, \u001b[38;5;28minput\u001b[39m: Tensor) \u001b[38;5;241m-\u001b[39m\u001b[38;5;241m>\u001b[39m Tensor:\n\u001b[0;32m--> 116\u001b[0m     \u001b[38;5;28;01mreturn\u001b[39;00m F\u001b[38;5;241m.\u001b[39mlinear(\u001b[38;5;28minput\u001b[39m, \u001b[38;5;28mself\u001b[39m\u001b[38;5;241m.\u001b[39mweight, \u001b[38;5;28mself\u001b[39m\u001b[38;5;241m.\u001b[39mbias)\n",
            "\u001b[0;31mRuntimeError\u001b[0m: mat1 and mat2 must have the same dtype, but got Byte and Float"
          ]
        }
      ],
      "source": [
        "print(model_baseline(next_state))"
      ]
    },
    {
      "cell_type": "code",
      "execution_count": 15,
      "id": "a5bac821-daf9-486c-b87c-95a0c7ab245f",
      "metadata": {
        "colab": {
          "base_uri": "https://localhost:8080/",
          "height": 207
        },
        "id": "a5bac821-daf9-486c-b87c-95a0c7ab245f",
        "outputId": "e9c8b569-e391-4f45-e989-fae80b5b35ee"
      },
      "outputs": [
        {
          "ename": "RuntimeError",
          "evalue": "Placeholder storage has not been allocated on MPS device!",
          "output_type": "error",
          "traceback": [
            "\u001b[0;31m---------------------------------------------------------------------------\u001b[0m",
            "\u001b[0;31mRuntimeError\u001b[0m                              Traceback (most recent call last)",
            "Cell \u001b[0;32mIn[15], line 8\u001b[0m\n\u001b[1;32m      6\u001b[0m \u001b[38;5;28;01mwith\u001b[39;00m torch\u001b[38;5;241m.\u001b[39mno_grad():\n\u001b[1;32m      7\u001b[0m         \u001b[38;5;28;01mwhile\u001b[39;00m \u001b[38;5;129;01mnot\u001b[39;00m done:\n\u001b[0;32m----> 8\u001b[0m             action \u001b[38;5;241m=\u001b[39m model_baseline\u001b[38;5;241m.\u001b[39maction(state, \u001b[38;5;241m0\u001b[39m)\n\u001b[1;32m      9\u001b[0m             state, rew , done, _, obs_to_render \u001b[38;5;241m=\u001b[39m env\u001b[38;5;241m.\u001b[39mstep_with_render(action)\n\u001b[1;32m     10\u001b[0m             state \u001b[38;5;241m=\u001b[39m torch\u001b[38;5;241m.\u001b[39mtensor(state, dtype\u001b[38;5;241m=\u001b[39mtorch\u001b[38;5;241m.\u001b[39mfloat32)\u001b[38;5;241m.\u001b[39mflatten()\u001b[38;5;241m.\u001b[39mto(device)\n",
            "Cell \u001b[0;32mIn[8], line 20\u001b[0m, in \u001b[0;36mDQN.action\u001b[0;34m(self, state, epsilon)\u001b[0m\n\u001b[1;32m     18\u001b[0m \u001b[38;5;28;01mdef\u001b[39;00m \u001b[38;5;21maction\u001b[39m(\u001b[38;5;28mself\u001b[39m, state, epsilon):\n\u001b[1;32m     19\u001b[0m     \u001b[38;5;28;01mif\u001b[39;00m random\u001b[38;5;241m.\u001b[39mrandom() \u001b[38;5;241m>\u001b[39m epsilon:\n\u001b[0;32m---> 20\u001b[0m         q_value \u001b[38;5;241m=\u001b[39m \u001b[38;5;28mself\u001b[39m\u001b[38;5;241m.\u001b[39mforward(state)\n\u001b[1;32m     21\u001b[0m         action  \u001b[38;5;241m=\u001b[39m \u001b[38;5;28mint\u001b[39m(torch\u001b[38;5;241m.\u001b[39margmax(q_value, dim\u001b[38;5;241m=\u001b[39m\u001b[38;5;241m-\u001b[39m\u001b[38;5;241m1\u001b[39m))\n\u001b[1;32m     22\u001b[0m     \u001b[38;5;28;01melse\u001b[39;00m:\n",
            "Cell \u001b[0;32mIn[8], line 12\u001b[0m, in \u001b[0;36mDQN.forward\u001b[0;34m(self, x)\u001b[0m\n\u001b[1;32m     11\u001b[0m \u001b[38;5;28;01mdef\u001b[39;00m \u001b[38;5;21mforward\u001b[39m(\u001b[38;5;28mself\u001b[39m, x):\n\u001b[0;32m---> 12\u001b[0m     x \u001b[38;5;241m=\u001b[39m F\u001b[38;5;241m.\u001b[39mrelu(\u001b[38;5;28mself\u001b[39m\u001b[38;5;241m.\u001b[39mlayer_in(x))\n\u001b[1;32m     13\u001b[0m     \u001b[38;5;28;01mfor\u001b[39;00m i \u001b[38;5;129;01min\u001b[39;00m \u001b[38;5;28mrange\u001b[39m(\u001b[38;5;28mself\u001b[39m\u001b[38;5;241m.\u001b[39mhidden_layers):\n\u001b[1;32m     14\u001b[0m         x \u001b[38;5;241m=\u001b[39m F\u001b[38;5;241m.\u001b[39mrelu(\u001b[38;5;28mself\u001b[39m\u001b[38;5;241m.\u001b[39mhidden_layer(x))\n",
            "File \u001b[0;32m~/miniconda3/envs/aand/lib/python3.12/site-packages/torch/nn/modules/module.py:1532\u001b[0m, in \u001b[0;36mModule._wrapped_call_impl\u001b[0;34m(self, *args, **kwargs)\u001b[0m\n\u001b[1;32m   1530\u001b[0m     \u001b[38;5;28;01mreturn\u001b[39;00m \u001b[38;5;28mself\u001b[39m\u001b[38;5;241m.\u001b[39m_compiled_call_impl(\u001b[38;5;241m*\u001b[39margs, \u001b[38;5;241m*\u001b[39m\u001b[38;5;241m*\u001b[39mkwargs)  \u001b[38;5;66;03m# type: ignore[misc]\u001b[39;00m\n\u001b[1;32m   1531\u001b[0m \u001b[38;5;28;01melse\u001b[39;00m:\n\u001b[0;32m-> 1532\u001b[0m     \u001b[38;5;28;01mreturn\u001b[39;00m \u001b[38;5;28mself\u001b[39m\u001b[38;5;241m.\u001b[39m_call_impl(\u001b[38;5;241m*\u001b[39margs, \u001b[38;5;241m*\u001b[39m\u001b[38;5;241m*\u001b[39mkwargs)\n",
            "File \u001b[0;32m~/miniconda3/envs/aand/lib/python3.12/site-packages/torch/nn/modules/module.py:1541\u001b[0m, in \u001b[0;36mModule._call_impl\u001b[0;34m(self, *args, **kwargs)\u001b[0m\n\u001b[1;32m   1536\u001b[0m \u001b[38;5;66;03m# If we don't have any hooks, we want to skip the rest of the logic in\u001b[39;00m\n\u001b[1;32m   1537\u001b[0m \u001b[38;5;66;03m# this function, and just call forward.\u001b[39;00m\n\u001b[1;32m   1538\u001b[0m \u001b[38;5;28;01mif\u001b[39;00m \u001b[38;5;129;01mnot\u001b[39;00m (\u001b[38;5;28mself\u001b[39m\u001b[38;5;241m.\u001b[39m_backward_hooks \u001b[38;5;129;01mor\u001b[39;00m \u001b[38;5;28mself\u001b[39m\u001b[38;5;241m.\u001b[39m_backward_pre_hooks \u001b[38;5;129;01mor\u001b[39;00m \u001b[38;5;28mself\u001b[39m\u001b[38;5;241m.\u001b[39m_forward_hooks \u001b[38;5;129;01mor\u001b[39;00m \u001b[38;5;28mself\u001b[39m\u001b[38;5;241m.\u001b[39m_forward_pre_hooks\n\u001b[1;32m   1539\u001b[0m         \u001b[38;5;129;01mor\u001b[39;00m _global_backward_pre_hooks \u001b[38;5;129;01mor\u001b[39;00m _global_backward_hooks\n\u001b[1;32m   1540\u001b[0m         \u001b[38;5;129;01mor\u001b[39;00m _global_forward_hooks \u001b[38;5;129;01mor\u001b[39;00m _global_forward_pre_hooks):\n\u001b[0;32m-> 1541\u001b[0m     \u001b[38;5;28;01mreturn\u001b[39;00m forward_call(\u001b[38;5;241m*\u001b[39margs, \u001b[38;5;241m*\u001b[39m\u001b[38;5;241m*\u001b[39mkwargs)\n\u001b[1;32m   1543\u001b[0m \u001b[38;5;28;01mtry\u001b[39;00m:\n\u001b[1;32m   1544\u001b[0m     result \u001b[38;5;241m=\u001b[39m \u001b[38;5;28;01mNone\u001b[39;00m\n",
            "File \u001b[0;32m~/miniconda3/envs/aand/lib/python3.12/site-packages/torch/nn/modules/linear.py:116\u001b[0m, in \u001b[0;36mLinear.forward\u001b[0;34m(self, input)\u001b[0m\n\u001b[1;32m    115\u001b[0m \u001b[38;5;28;01mdef\u001b[39;00m \u001b[38;5;21mforward\u001b[39m(\u001b[38;5;28mself\u001b[39m, \u001b[38;5;28minput\u001b[39m: Tensor) \u001b[38;5;241m-\u001b[39m\u001b[38;5;241m>\u001b[39m Tensor:\n\u001b[0;32m--> 116\u001b[0m     \u001b[38;5;28;01mreturn\u001b[39;00m F\u001b[38;5;241m.\u001b[39mlinear(\u001b[38;5;28minput\u001b[39m, \u001b[38;5;28mself\u001b[39m\u001b[38;5;241m.\u001b[39mweight, \u001b[38;5;28mself\u001b[39m\u001b[38;5;241m.\u001b[39mbias)\n",
            "\u001b[0;31mRuntimeError\u001b[0m: Placeholder storage has not been allocated on MPS device!"
          ]
        },
        {
          "data": {
            "image/png": "[encoded data removed]",
            "text/plain": [
              "<Figure size 640x480 with 1 Axes>"
            ]
          },
          "metadata": {},
          "output_type": "display_data"
        }
      ],
      "source": [
        "state, obs_to_render = env.reset_with_render()\n",
        "state = torch.tensor(state, dtype=torch.float32).flatten().to(device)\n",
        "env.render(obs_to_render)\n",
        "done = False\n",
        "tot_rew_test = 0\n",
        "with torch.no_grad():\n",
        "        while not done:\n",
        "            action = model_baseline.action(state, 0)\n",
        "            state, rew , done, _, obs_to_render = env.step_with_render(action)\n",
        "            state = torch.tensor(state, dtype=torch.float32).flatten().to(device)\n",
        "            tot_rew_test += rew\n",
        "            env.render(obs_to_render)\n",
        "            display.display(plt.gcf())\n",
        "            display.clear_output(wait=True)\n",
        "print(tot_rew_test)"
      ]
    },
    {
      "cell_type": "markdown",
      "id": "1433e377-490a-4d07-9f75-1282e3cb6be4",
      "metadata": {
        "id": "1433e377-490a-4d07-9f75-1282e3cb6be4"
      },
      "source": [
        "# 3. Replay Buffer"
      ]
    },
    {
      "cell_type": "code",
      "execution_count": null,
      "id": "6244f4c8-f179-497e-abea-3ab095b1ec8f",
      "metadata": {
        "colab": {
          "background_save": true
        },
        "id": "6244f4c8-f179-497e-abea-3ab095b1ec8f"
      },
      "outputs": [],
      "source": [
        "class ReplayBuffer:\n",
        "    def __init__(self, data_names, buffer_size, batch_size):\n",
        "        self.data_keys = data_names\n",
        "        self.data_dict = {}\n",
        "        self.buffer_size = buffer_size\n",
        "        self.batch_size = batch_size\n",
        "        self.reset()\n",
        "\n",
        "    def reset(self):\n",
        "        for name in self.data_keys:\n",
        "            self.data_dict[name] = deque(maxlen=self.buffer_size)\n",
        "\n",
        "    def push(self, data):\n",
        "        \"\"\"Add a transition to the buffer.\"\"\"\n",
        "        for key in self.data_keys:\n",
        "            self.data_dict[key].append(data[key])\n",
        "\n",
        "    def sample(self):\n",
        "        \"\"\"Sample a batch of transitions.\"\"\"\n",
        "        indices = random.sample(range(len(self)), self.batch_size)\n",
        "        batch = [{key: self.data_dict[key][i] for key in self.data_keys} for i in indices]\n",
        "        return batch\n",
        "\n",
        "    def __len__(self):\n",
        "        return len(next(iter(self.data_dict.values())))"
      ]
    },
    {
      "cell_type": "code",
      "execution_count": null,
      "id": "e2b56db6-608b-4193-a7f4-b5f30cef1b0c",
      "metadata": {
        "colab": {
          "background_save": true
        },
        "id": "e2b56db6-608b-4193-a7f4-b5f30cef1b0c",
        "outputId": "f40e9420-a623-44ec-a69f-6388f44f1c47"
      },
      "outputs": [
        {
          "data": {
            "image/png": "[encoded data removed]",
            "text/plain": [
              "<Figure size 640x480 with 1 Axes>"
            ]
          },
          "metadata": {},
          "output_type": "display_data"
        },
        {
          "name": "stderr",
          "output_type": "stream",
          "text": [
            "100%|██████████| 150000/150000 [1:40:30<00:00, 24.87it/s]\n"
          ]
        }
      ],
      "source": [
        "set_seed(SEED)\n",
        "model_replay_buffer = DQN(env.observation_space.shape[0] * env.observation_space.shape[1] * env.observation_space.shape[2],\n",
        "                          env.action_space.n,\n",
        "                          HIDDEN_UNITS,\n",
        "                          HIDDEN_LAYERS).to(device)\n",
        "replay_buffer = ReplayBuffer(['state', 'action', 'reward', 'next_state', 'done'],\n",
        "                             BUFFER_SIZE, BATCH_SIZE)\n",
        "\n",
        "optimizer = optim.Adam(params=model_replay_buffer.parameters(), lr=LEARNING_RATE)\n",
        "\n",
        "step = 0\n",
        "\n",
        "results_rb = {\n",
        "    'params' : params,\n",
        "    'epochs_save' : [],\n",
        "    'weights': {},\n",
        "    'rewards_test': [],\n",
        "    'rewards_train': []\n",
        "}\n",
        "\n",
        "eps = EPSILON_START\n",
        "for step in tqdm(range(N_EPISODES)):\n",
        "    done = False\n",
        "    state = torch.tensor(env.reset(), dtype=torch.float32).flatten().to(device)\n",
        "    r_train = 0\n",
        "    while not done:\n",
        "        action = model_replay_buffer.action(state, eps)\n",
        "        next_state, reward, done, info = env.step(action)\n",
        "        next_state = torch.tensor(next_state, dtype=torch.float32).flatten().to(device)\n",
        "        replay_buffer.push({'state':state, 'action':action, 'reward':reward,\n",
        "                            'next_state':next_state, 'done':done})\n",
        "        r_train += reward\n",
        "\n",
        "    if len(replay_buffer) >= replay_buffer.batch_size:\n",
        "        batch = replay_buffer.sample()\n",
        "\n",
        "        states = torch.stack([b['state'] for b in batch]).to(device)\n",
        "        actions = torch.tensor([b['action'] for b in batch]).to(device)\n",
        "        rewards = torch.tensor([b['reward'] for b in batch]).to(device)\n",
        "        next_states = torch.stack([b['next_state'] for b in batch]).to(device)\n",
        "        dones = torch.tensor([b['done'] for b in batch], dtype=torch.float32).to(device)\n",
        "\n",
        "        state_action_values = model_replay_buffer(states).gather(1, actions.unsqueeze(1)).squeeze(1)\n",
        "        next_state_values = model_replay_buffer(next_states).max(1)[0].detach()\n",
        "        expected_q_values = rewards + GAMMA * next_state_values * (1 - dones)\n",
        "\n",
        "        loss = nn.MSELoss()(state_action_values, expected_q_value)\n",
        "        optimizer.zero_grad()\n",
        "        loss.backward()\n",
        "        optimizer.step()\n",
        "\n",
        "    results_rb['rewards_train'].append(r_train)\n",
        "\n",
        "    if step%EVAL_EPISODE == 0:\n",
        "        r_test = []\n",
        "        for j in range(10):\n",
        "            r = test_agent(model_replay_buffer, GAMMA)\n",
        "            r_test.append(r)\n",
        "        results_rb['weights'][step] = model_replay_buffer.state_dict()\n",
        "        results_rb['rewards_test'].append(np.mean(r_test))\n",
        "        results_rb['epochs_save'].append(step)\n",
        "\n",
        "        display.clear_output(True)\n",
        "        plt.plot(results_rb['rewards_train'], label = \"reward train\")\n",
        "        plt.plot(results_rb['epochs_save'],results_rb['rewards_test'], label = \"reward test\")\n",
        "        plt.legend()\n",
        "        plt.show()\n",
        "\n",
        "    eps -= EPSILON_DECAY\n",
        "torch.save(results_rb, 'results_rb.pth')"
      ]
    },
    {
      "cell_type": "code",
      "execution_count": null,
      "id": "JwiaZpgjTP83",
      "metadata": {
        "colab": {
          "background_save": true
        },
        "id": "JwiaZpgjTP83",
        "outputId": "b47d1c6c-1c10-41ea-a05a-85a1a5d172f4"
      },
      "outputs": [
        {
          "data": {
            "image/png": "[encoded data removed]",
            "text/plain": [
              "<Figure size 640x480 with 1 Axes>"
            ]
          },
          "metadata": {},
          "output_type": "display_data"
        }
      ],
      "source": [
        "state, obs_to_render = env.reset_with_render()\n",
        "state = torch.tensor(state, dtype=torch.float32).flatten().to(device)\n",
        "env.render(obs_to_render)\n",
        "done = False\n",
        "tot_rew_test = 0\n",
        "with torch.no_grad():\n",
        "        while not done:\n",
        "            action = model_replay_buffer.action(state, 0)\n",
        "            state, rew , done, _, obs_to_render = env.step_with_render(action)\n",
        "            state = torch.tensor(state, dtype=torch.float32).flatten().to(device)\n",
        "            tot_rew_test += rew\n",
        "            env.render(obs_to_render)\n",
        "            display.display(plt.gcf())\n",
        "            display.clear_output(wait=True)\n",
        "print(tot_rew_test)"
      ]
    },
    {
      "cell_type": "markdown",
      "id": "62510892-1faa-41c1-9bc3-239064c2f727",
      "metadata": {
        "id": "62510892-1faa-41c1-9bc3-239064c2f727"
      },
      "source": [
        "# 4. Target Network"
      ]
    },
    {
      "cell_type": "code",
      "execution_count": null,
      "id": "76316b1c-614d-4aa0-93fb-1219e3cc6e07",
      "metadata": {
        "id": "76316b1c-614d-4aa0-93fb-1219e3cc6e07"
      },
      "outputs": [],
      "source": [
        "set_seed(SEED)\n",
        "model_tn = DQN(env.observation_space.shape[0] * env.observation_space.shape[1] * env.observation_space.shape[2],\n",
        "                          env.action_space.n,\n",
        "                          HIDDEN_UNITS,\n",
        "                          HIDDEN_LAYERS).to(device)\n",
        "\n",
        "model_tn_target = DQN(env.observation_space.shape[0] * env.observation_space.shape[1] * env.observation_space.shape[2],\n",
        "                          env.action_space.n,\n",
        "                          HIDDEN_UNITS,\n",
        "                          HIDDEN_LAYERS).to(device)\n",
        "\n",
        "model_tn_target.load_state_dict(model_tn.state_dict())\n",
        "\n",
        "replay_buffer = ReplayBuffer(['state', 'action', 'reward', 'next_state', 'done'],\n",
        "                             BUFFER_SIZE, BATCH_SIZE)\n",
        "\n",
        "optimizer = optim.Adam(params=model_tn.parameters(), lr=LEARNING_RATE)\n",
        "\n",
        "step = 0\n",
        "\n",
        "results_tm = {\n",
        "    'params' : params,\n",
        "    'epochs_save' : [],\n",
        "    'weights': {},\n",
        "    'rewards_test': [],\n",
        "    'rewards_train': []\n",
        "}\n",
        "\n",
        "eps = EPSILON_START\n",
        "for step in tqdm(range(N_EPISODES)):\n",
        "    done = False\n",
        "    state = torch.tensor(env.reset(), dtype=torch.float32).flatten().to(device)\n",
        "    r_train = 0\n",
        "    while not done:\n",
        "        action = model_tn.action(state, eps)\n",
        "        next_state, reward, done, info = env.step(action)\n",
        "        next_state = torch.tensor(next_state, dtype=torch.float32).flatten().to(device)\n",
        "        replay_buffer.push({'state':state, 'action':action, 'reward':reward,\n",
        "                            'next_state':next_state, 'done':done})\n",
        "        r_train += reward\n",
        "\n",
        "    results_tm['rewards_train'].append(r_train)\n",
        "\n",
        "    if len(replay_buffer) >= replay_buffer.batch_size:\n",
        "        batch = replay_buffer.sample()\n",
        "\n",
        "        states = torch.stack([b['state'] for b in batch]).to(device)\n",
        "        actions = torch.tensor([b['action'] for b in batch]).to(device)\n",
        "        rewards = torch.tensor([b['reward'] for b in batch]).to(device)\n",
        "        next_states = torch.stack([b['next_state'] for b in batch]).to(device)\n",
        "        dones = torch.tensor([b['done'] for b in batch], dtype=torch.float32).to(device)\n",
        "\n",
        "        state_action_values = model_tn(states).gather(1, actions.unsqueeze(1)).squeeze(1)\n",
        "        next_state_values = model_tn_target(next_states).max(1)[0].detach()\n",
        "        expected_q_values = rewards + GAMMA * next_state_values * (1 - dones)\n",
        "\n",
        "        loss = nn.MSELoss()(state_action_values, expected_q_value)\n",
        "        optimizer.zero_grad()\n",
        "        loss.backward()\n",
        "        optimizer.step()\n",
        "\n",
        "    if step % UPDATE_EVERY == 0:\n",
        "        model_tn_target.load_state_dict(model_tn.state_dict())\n",
        "\n",
        "    if step%EVAL_EPISODE == 0:\n",
        "        r_test = []\n",
        "        for j in range(10):\n",
        "            r = test_agent(model_tn, GAMMA)\n",
        "            r_test.append(r)\n",
        "        results_tm['weights'][step] = model_tn.state_dict()\n",
        "        results_tm['rewards_test'].append(np.mean(r_test))\n",
        "        results_tm['epochs_save'].append(step)\n",
        "\n",
        "        display.clear_output(True)\n",
        "        plt.plot(results_tm['rewards_train'], label = \"reward train\")\n",
        "        plt.plot(results_tm['epochs_save'], results_tm['rewards_test'], label = \"reward test\")\n",
        "        plt.legend()\n",
        "        plt.show()\n",
        "\n",
        "    eps -= EPSILON_DECAY\n",
        "torch.save(results_tm, 'results_tm.pth')"
      ]
    },
    {
      "cell_type": "code",
      "execution_count": null,
      "id": "D-Gd5wSWTeBC",
      "metadata": {
        "id": "D-Gd5wSWTeBC"
      },
      "outputs": [],
      "source": [
        "state, obs_to_render = env.reset_with_render()\n",
        "state = torch.tensor(state, dtype=torch.float32).flatten().to(device)\n",
        "env.render(obs_to_render)\n",
        "done = False\n",
        "tot_rew_test = 0\n",
        "with torch.no_grad():\n",
        "        while not done:\n",
        "            action = model_tn.action(state, 0)\n",
        "            state, rew , done, _, obs_to_render = env.step_with_render(action)\n",
        "            state = torch.tensor(state, dtype=torch.float32).flatten().to(device)\n",
        "            tot_rew_test += rew\n",
        "            env.render(obs_to_render)\n",
        "            display.display(plt.gcf())\n",
        "            display.clear_output(wait=True)\n",
        "print(tot_rew_test)"
      ]
    },
    {
      "cell_type": "markdown",
      "id": "4a1d0713-4f56-4560-bbbf-bea2c0cb3909",
      "metadata": {
        "id": "4a1d0713-4f56-4560-bbbf-bea2c0cb3909"
      },
      "source": [
        "# 5. Loss Function Comparaison"
      ]
    },
    {
      "cell_type": "code",
      "execution_count": null,
      "id": "43f1d5d2-ee04-4cc8-bca7-71ff2ef1695c",
      "metadata": {
        "id": "43f1d5d2-ee04-4cc8-bca7-71ff2ef1695c"
      },
      "outputs": [],
      "source": [
        "set_seed(SEED)\n",
        "model_lf = DQN(env.observation_space.shape[0] * env.observation_space.shape[1] * env.observation_space.shape[2],\n",
        "                          env.action_space.n,\n",
        "                          HIDDEN_UNITS,\n",
        "                          HIDDEN_LAYERS).to(device)\n",
        "\n",
        "model_lf_target = DQN(env.observation_space.shape[0] * env.observation_space.shape[1] * env.observation_space.shape[2],\n",
        "                          env.action_space.n,\n",
        "                          HIDDEN_UNITS,\n",
        "                          HIDDEN_LAYERS).to(device)\n",
        "\n",
        "model_lf_target.load_state_dict(model_lf.state_dict())\n",
        "\n",
        "replay_buffer = ReplayBuffer(['state', 'action', 'reward', 'next_state', 'done'],\n",
        "                             BUFFER_SIZE, BATCH_SIZE)\n",
        "\n",
        "optimizer = optim.Adam(params=model_lf.parameters(), lr=LEARNING_RATE)\n",
        "\n",
        "results_lf = {\n",
        "    'params' : params,\n",
        "    'epochs_save' : [],\n",
        "    'weights': {},\n",
        "    'rewards_test': [],\n",
        "    'rewards_train': []\n",
        "}\n",
        "\n",
        "step = 0\n",
        "eps = EPSILON_START\n",
        "for step in tqdm(range(N_EPISODES)):\n",
        "    done = False\n",
        "    state = torch.tensor(env.reset(), dtype=torch.float32).flatten().to(device)\n",
        "    r_train = 0\n",
        "    while not done:\n",
        "        action = model_lf.action(state, eps)\n",
        "        next_state, reward, done, info = env.step(action)\n",
        "        next_state = torch.tensor(next_state, dtype=torch.float32).flatten().to(device)\n",
        "        replay_buffer.push({'state':state, 'action':action, 'reward':reward,\n",
        "                            'next_state':next_state, 'done':done})\n",
        "        r_train += reward\n",
        "\n",
        "    results_lf['rewards_train'].append(r_train)\n",
        "\n",
        "    if len(replay_buffer) >= replay_buffer.batch_size:\n",
        "        batch = replay_buffer.sample()\n",
        "\n",
        "        states = torch.stack([b['state'] for b in batch]).to(device)\n",
        "        actions = torch.tensor([b['action'] for b in batch]).to(device)\n",
        "        rewards = torch.tensor([b['reward'] for b in batch]).to(device)\n",
        "        next_states = torch.stack([b['next_state'] for b in batch]).to(device)\n",
        "        dones = torch.tensor([b['done'] for b in batch], dtype=torch.float32).to(device)\n",
        "\n",
        "        state_action_values = model_lf(states).gather(1, actions.unsqueeze(1)).squeeze(1)\n",
        "        next_state_values = model_lf_target(next_states).max(1)[0].detach()\n",
        "        expected_q_values = rewards + GAMMA * next_state_values * (1 - dones)\n",
        "\n",
        "        loss = nn.SmoothL1Loss()(state_action_values, expected_q_value)\n",
        "        optimizer.zero_grad()\n",
        "        loss.backward()\n",
        "        optimizer.step()\n",
        "\n",
        "    if step % UPDATE_EVERY == 0:\n",
        "        model_lf_target.load_state_dict(model_lf.state_dict())\n",
        "\n",
        "    if step%EVAL_EPISODE == 0:\n",
        "        r_test = []\n",
        "        for j in range(10):\n",
        "            r = test_agent(model_lf, GAMMA)\n",
        "            r_test.append(r)\n",
        "        results_lf['weights'][step] = model_lf.state_dict()\n",
        "        results_lf['rewards_test'].append(np.mean(r_test))\n",
        "        results_lf['epochs_save'].append(step)\n",
        "\n",
        "        display.clear_output(True)\n",
        "        plt.plot(results_lf['rewards_train'], label = \"reward train\")\n",
        "        plt.plot(results_lf['epochs_save'], results_lf['rewards_test'], label = \"reward test\")\n",
        "        plt.legend()\n",
        "        plt.show()\n",
        "\n",
        "    eps -= EPSILON_DECAY\n",
        "    step += 1\n",
        "torch.save(results_lf, 'results_lf.pth')"
      ]
    },
    {
      "cell_type": "code",
      "execution_count": null,
      "id": "3YcaOUF_TiMR",
      "metadata": {
        "id": "3YcaOUF_TiMR"
      },
      "outputs": [],
      "source": [
        "state, obs_to_render = env.reset_with_render()\n",
        "state = torch.tensor(state, dtype=torch.float32).flatten().to(device)\n",
        "env.render(obs_to_render)\n",
        "done = False\n",
        "tot_rew_test = 0\n",
        "with torch.no_grad():\n",
        "        while not done:\n",
        "            action = model_lf.action(state, 0)\n",
        "            state, rew , done, _, obs_to_render = env.step_with_render(action)\n",
        "            state = torch.tensor(state, dtype=torch.float32).flatten().to(device)\n",
        "            tot_rew_test += rew\n",
        "            env.render(obs_to_render)\n",
        "            display.display(plt.gcf())\n",
        "            display.clear_output(wait=True)\n",
        "print(tot_rew_test)"
      ]
    },
    {
      "cell_type": "markdown",
      "id": "d74ac533-ed9e-454d-be44-d5de6c28856d",
      "metadata": {
        "id": "d74ac533-ed9e-454d-be44-d5de6c28856d"
      },
      "source": [
        "# 6. Prioritized Experience Replay"
      ]
    },
    {
      "cell_type": "code",
      "execution_count": null,
      "id": "yj6AojzHK5l3",
      "metadata": {
        "id": "yj6AojzHK5l3"
      },
      "outputs": [],
      "source": [
        "class PrioritizedReplayBuffer:\n",
        "    def __init__(self, data_names, buffer_size, batch_size, alpha=0.6):\n",
        "        self.data_keys = data_names\n",
        "        self.data_dict = {}\n",
        "        self.buffer_size = buffer_size\n",
        "        self.alpha = alpha\n",
        "        self.priorities = deque(maxlen=buffer_size)\n",
        "        self.batch_size = batch_size\n",
        "        self.reset()\n",
        "\n",
        "    def reset(self):\n",
        "        for name in self.data_keys:\n",
        "            self.data_dict[name] = deque(maxlen=self.buffer_size)\n",
        "        self.priorities = deque(maxlen=self.buffer_size)\n",
        "\n",
        "    def push(self, data):\n",
        "        \"\"\"Add a transition to the buffer.\"\"\"\n",
        "        max_priority = max(self.priorities, default=1.0)\n",
        "        self.priorities.append(max_priority)\n",
        "        for key in self.data_keys:\n",
        "            self.data_dict[key].append(data[key])\n",
        "\n",
        "    def sample(self, beta=0.4):\n",
        "        \"\"\"Sample a batch of transitions.\"\"\"\n",
        "        if len(self) == self.buffer_size:\n",
        "            priorities = np.array(self.priorities, dtype=np.float32)\n",
        "            scaled_priorities = priorities ** self.alpha\n",
        "            sample_probs = scaled_priorities / sum(scaled_priorities)\n",
        "        else:\n",
        "            sample_probs = np.ones(len(self)) / len(self)\n",
        "\n",
        "        indices = np.random.choice(len(self), self.batch_size, p=sample_probs)\n",
        "        samples = [{key: self.data_dict[key][i] for key in self.data_keys} for i in indices]\n",
        "\n",
        "        weights = (len(self) * sample_probs[indices]) ** (-beta)\n",
        "        weights /= weights.max()\n",
        "        return samples, weights, indices\n",
        "\n",
        "    def update_priorities(self, indices, td_errors):\n",
        "        for i, td_error in zip(indices, td_errors):\n",
        "            self.priorities[i] = abs(td_error) + 1e-6\n",
        "\n",
        "    def __len__(self):\n",
        "        return len(next(iter(self.data_dict.values())))"
      ]
    },
    {
      "cell_type": "code",
      "execution_count": null,
      "id": "TZ071H2oJ6bT",
      "metadata": {
        "id": "TZ071H2oJ6bT"
      },
      "outputs": [],
      "source": [
        "set_seed(SEED)\n",
        "model_per = DQN(env.observation_space.shape[0] * env.observation_space.shape[1] * env.observation_space.shape[2],\n",
        "                          env.action_space.n,\n",
        "                          HIDDEN_UNITS,\n",
        "                          HIDDEN_LAYERS).to(device)\n",
        "\n",
        "model_per_target = DQN(env.observation_space.shape[0] * env.observation_space.shape[1] * env.observation_space.shape[2],\n",
        "                          env.action_space.n,\n",
        "                          HIDDEN_UNITS,\n",
        "                          HIDDEN_LAYERS).to(device)\n",
        "\n",
        "model_per_target.load_state_dict(model_per.state_dict())\n",
        "\n",
        "replay_buffer = PrioritizedReplayBuffer(['state', 'action', 'reward', 'next_state', 'done'],\n",
        "                             BUFFER_SIZE, BATCH_SIZE)\n",
        "\n",
        "optimizer = optim.Adam(params=model_per.parameters(), lr=LEARNING_RATE)\n",
        "\n",
        "results_per = {\n",
        "    'params' : params,\n",
        "    'epochs_save' : [],\n",
        "    'weights': {},\n",
        "    'rewards_test': [],\n",
        "    'rewards_train': []\n",
        "}\n",
        "\n",
        "step = 0\n",
        "eps  = EPSILON_START\n",
        "beta = BETA_START\n",
        "for step in tqdm(range(N_EPISODES)):\n",
        "    done = False\n",
        "    state = torch.tensor(env.reset(), dtype=torch.float32).flatten().to(device)\n",
        "    r_train = 0\n",
        "    while not done:\n",
        "        action = model_per.action(state, eps)\n",
        "        next_state, reward, done, info = env.step(action)\n",
        "        next_state = torch.tensor(next_state, dtype=torch.float32).flatten().to(device)\n",
        "        replay_buffer.push({'state':state, 'action':action, 'reward':reward,\n",
        "                            'next_state':next_state, 'done':done})\n",
        "        r_train += reward\n",
        "\n",
        "    results_per['rewards_train'].append(r_train)\n",
        "\n",
        "    if len(replay_buffer) > replay_buffer.batch_size:\n",
        "        batch, weights, indices = replay_buffer.sample(beta)\n",
        "        for b in batch:\n",
        "\n",
        "            next_state_values = model_per_target(b['next_state']).max().detach()\n",
        "            state_action_values = model_per(b['state'])[b['action']]\n",
        "\n",
        "            expected_q_value = b['reward'] + GAMMA * next_state_values * (1 - b['done'])\n",
        "\n",
        "            td_errors = state_action_values - expected_q_value\n",
        "            loss = torch.mean((td_errors ** 2) * weights)\n",
        "\n",
        "            optimizer.zero_grad()\n",
        "            loss.backward()\n",
        "            optimizer.step()\n",
        "            replay_buffer.update_priorities(indices, td_errors.detach().cpu().numpy())\n",
        "\n",
        "    if step % UPDATE_EVERY == 0:\n",
        "        model_per_target.load_state_dict(model_per.state_dict())\n",
        "\n",
        "    if step%EVAL_EPISODE == 0:\n",
        "        r_test = []\n",
        "        for j in range(10):\n",
        "            r = test_agent(model_per, GAMMA)\n",
        "            r_test.append(r)\n",
        "        results_per['weights'][step] = model_per.state_dict()\n",
        "        results_per['rewards_test'].append(np.mean(r_test))\n",
        "        results_per['epochs_save'].append(step)\n",
        "\n",
        "        display.clear_output(True)\n",
        "        plt.plot(results_per['rewards_train'], label = \"reward train\")\n",
        "        plt.plot(results_per['epochs_save'], results_per['rewards_test'], label = \"reward test\")\n",
        "        plt.legend()\n",
        "        plt.show()\n",
        "\n",
        "    eps -= EPSILON_DECAY\n",
        "    step += 1\n",
        "    beta = min(1.0, beta + BETA_DECAY)\n",
        "torch.save(results_per, 'results_per.pth')"
      ]
    }
  ],
  "metadata": {
    "colab": {
      "provenance": []
    },
    "kernelspec": {
      "display_name": "Python 3",
      "name": "python3"
    },
    "language_info": {
      "codemirror_mode": {
        "name": "ipython",
        "version": 3
      },
      "file_extension": ".py",
      "mimetype": "text/x-python",
      "name": "python",
      "nbconvert_exporter": "python",
      "pygments_lexer": "ipython3",
      "version": "3.12.2"
    }
  },
  "nbformat": 4,
  "nbformat_minor": 5
}

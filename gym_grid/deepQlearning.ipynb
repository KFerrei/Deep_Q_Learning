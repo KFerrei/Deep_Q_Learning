{
 "cells": [
  {
   "cell_type": "markdown",
   "id": "1122bff3-d09c-4954-a089-b4b4872c8b27",
   "metadata": {},
   "source": [
    "# Skeleton Notebook Deep Q-Learning Project (MHBF)"
   ]
  },
  {
   "cell_type": "code",
   "execution_count": 2,
   "id": "9d3afca4-944a-4a0e-a34b-bf5444ce7ffb",
   "metadata": {},
   "outputs": [],
   "source": [
    "%matplotlib inline\n",
    "%load_ext autoreload\n",
    "%autoreload 2\n",
    "\n",
    "# Import required packages\n",
    "import gym\n",
    "import gym_grid\n",
    "\n",
    "import matplotlib.pyplot as plt\n",
    "\n",
    "import numpy as np\n",
    "import random\n",
    "\n",
    "import torch\n",
    "import torch.nn as nn\n",
    "import torch.optim as optim\n",
    "import torch.nn.functional as F\n",
    "\n",
    "from IPython import display\n",
    "from collections import namedtuple, deque\n",
    "from tqdm import tqdm\n",
    "\n",
    "import warnings\n",
    "warnings.filterwarnings(\"ignore\")"
   ]
  },
  {
   "cell_type": "markdown",
   "id": "5cba614b-63eb-4e8b-8c46-bad02735c0fb",
   "metadata": {},
   "source": [
    "# 0. Environment Implementation"
   ]
  },
  {
   "cell_type": "code",
   "execution_count": 4,
   "id": "e6077c2c-8f41-42d3-9aee-8803adedd189",
   "metadata": {},
   "outputs": [
    {
     "data": {
      "image/png": "[encoded data removed]",
      "text/plain": [
       "<Figure size 1000x1000 with 1 Axes>"
      ]
     },
     "metadata": {},
     "output_type": "display_data"
    }
   ],
   "source": [
    "# Visualize the environment\n",
    "plt.figure(figsize=(10, 10))\n",
    "# T-Maze Environment\n",
    "env = gym.make(\"LinearTrack-v0\")\n",
    "#env = gym.make(\"DeadlyGrid-v0\")\n",
    "_, obs_to_render = env.reset_with_render()\n",
    "env.reset()\n",
    "env.render(obs_to_render)"
   ]
  },
  {
   "cell_type": "code",
   "execution_count": 5,
   "id": "695a5017-5dce-4413-aee0-3b4050cd03a7",
   "metadata": {},
   "outputs": [
    {
     "name": "stdout",
     "output_type": "stream",
     "text": [
      "State space:  Box(0, 1, (3, 32, 4), uint8)\n",
      "State shape:  (3, 32, 4)\n",
      "Action space:  Discrete(3)\n",
      "Number of actions:  3\n"
     ]
    }
   ],
   "source": [
    "print('State space: ', env.observation_space)\n",
    "print('State shape: ', env.observation_space.shape)\n",
    "print('Action space: ', env.action_space)\n",
    "print('Number of actions: ', env.action_space.n)"
   ]
  },
  {
   "cell_type": "markdown",
   "id": "858d0861-0176-43bb-a699-e2498dd9bdfb",
   "metadata": {},
   "source": [
    "# 1. Definition of model and params"
   ]
  },
  {
   "cell_type": "code",
   "execution_count": 10,
   "id": "c47b7035-60dd-4b62-950c-043fe2c47f61",
   "metadata": {},
   "outputs": [],
   "source": [
    "# Discount factor\n",
    "GAMMA = 0.99\n",
    "# Learning rate\n",
    "LEARNING_RATE = 0.001\n",
    "# Capacity of the replay buffer\n",
    "BUFFER_SIZE = 1000\n",
    "# Update target net every ... episodes\n",
    "UPDATE_EVERY= 500\n",
    "# Batch size\n",
    "BATCH_SIZE = 128\n",
    "# Eval Episode\n",
    "EVAL_EPISODE = 500\n",
    "# Number of eval\n",
    "N_EVAL = 50\n",
    "# Hidden Units\n",
    "HIDDEN_UNITS = 128\n",
    "# Hidden layers\n",
    "HIDDEN_LAYERS = 1\n",
    "# Number of training episodes\n",
    "N_EPISODES = 30000\n",
    "# Initial value of epsilon\n",
    "EPSILON_START = 1.0\n",
    "# End value of epsilon\n",
    "EPSILON_END = 0.01\n",
    "# Epsilon decay\n",
    "EPSILON_DECAY = (EPSILON_START - EPSILON_END) / N_EPISODES"
   ]
  },
  {
   "cell_type": "code",
   "execution_count": 12,
   "id": "c03cf8c0-edc2-4c56-b4ab-4d88af756c2b",
   "metadata": {},
   "outputs": [],
   "source": [
    "class DQN(nn.Module):\n",
    "    def __init__(self, input_dim, output_dim, hidden_units, hidden_layers):\n",
    "        super(DQN, self).__init__()\n",
    "        \n",
    "        self.action_space_size = output_dim\n",
    "        self.hidden_layers = hidden_layers\n",
    "        self.layer_in = nn.Linear(input_dim, hidden_units)\n",
    "        self.hidden_layer= nn.Linear(hidden_units, hidden_units)\n",
    "        self.layer_out = nn.Linear(hidden_units, output_dim)\n",
    "    \n",
    "    def forward(self, x):\n",
    "        x = F.relu(self.layer_in(x))\n",
    "        for i in range(self.hidden_layers):\n",
    "            x = F.relu(self.hidden_layer(x))\n",
    "        x = self.layer_out(x)\n",
    "        return x\n",
    "\n",
    "    def action(self, state, epsilon):\n",
    "        if random.random() > epsilon:\n",
    "            state   = torch.tensor(state, dtype=torch.float32).flatten()\n",
    "            q_value = self.forward(state)\n",
    "            action  = int(torch.argmax(q_value, dim=-1))\n",
    "        else:\n",
    "            action = random.randrange(self.action_space_size)\n",
    "        return action "
   ]
  },
  {
   "cell_type": "code",
   "execution_count": 14,
   "id": "4c3d24d4-28ad-4357-ab02-706476e10201",
   "metadata": {},
   "outputs": [],
   "source": [
    "def test_agent(model, gamma):\n",
    "    done = False\n",
    "    episode_return = 0\n",
    "    i = 0\n",
    "    state = env.reset()\n",
    "    with torch.no_grad():\n",
    "        while not done:\n",
    "            action = model.action(state, 0.01)\n",
    "            state, reward, done, info = env.step(action)\n",
    "            episode_return += gamma**i * reward\n",
    "            i += 1\n",
    "    return episode_return"
   ]
  },
  {
   "cell_type": "markdown",
   "id": "93f24766-bdb9-43a4-bd58-0af0a20d6ac7",
   "metadata": {},
   "source": [
    "# 2. Baseline"
   ]
  },
  {
   "cell_type": "code",
   "execution_count": null,
   "id": "2948b05e-5a16-49fd-81c7-4ddf3f81d1fa",
   "metadata": {},
   "outputs": [
    {
     "data": {
      "image/png": "[encoded data removed]",
      "text/plain": [
       "<Figure size 640x480 with 1 Axes>"
      ]
     },
     "metadata": {},
     "output_type": "display_data"
    },
    {
     "name": "stderr",
     "output_type": "stream",
     "text": [
      " 34%|████████████▋                        | 10256/30000 [14:10<21:31, 15.29it/s]"
     ]
    }
   ],
   "source": [
    "model_baseline = DQN(env.observation_space.shape[0] * env.observation_space.shape[1] * env.observation_space.shape[2],\n",
    "                     env.action_space.n,\n",
    "                     HIDDEN_UNITS, \n",
    "                     HIDDEN_LAYERS)\n",
    "optimizer = optim.Adam(params=model_baseline.parameters(), lr=LEARNING_RATE)\n",
    "\n",
    "step = 0\n",
    "test_rewards = []\n",
    "test_epochs = []\n",
    "train_rewards = []\n",
    "eps = EPSILON_START\n",
    "for step in tqdm(range(N_EPISODES)):\n",
    "    done = False\n",
    "    state = env.reset()\n",
    "    r_train = 0\n",
    "    while not done:\n",
    "        action = model_baseline.action(state, eps)\n",
    "        next_state, reward, done, info = env.step(action)\n",
    "        r_train += reward\n",
    "        \n",
    "        next_state_values = model_baseline(torch.tensor(next_state, dtype=torch.float32).flatten()).max().detach()\n",
    "        state_action_values = model_baseline(torch.tensor(state, dtype=torch.float32).flatten())[action]\n",
    "        \n",
    "        expected_q_value = reward + GAMMA * next_state_values * (1 - done)\n",
    "        loss = nn.MSELoss()(state_action_values, expected_q_value)\n",
    "        optimizer.zero_grad()\n",
    "        loss.backward()\n",
    "        optimizer.step()\n",
    "        state = next_state\n",
    "    train_rewards.append(r_train)   \n",
    "    \n",
    "    if step%EVAL_EPISODE == 0:\n",
    "        r_test = []\n",
    "        for j in range(N_EVAL):\n",
    "            returns.append = test_agent(model_baseline, GAMMA)\n",
    "            r_test.append(r)\n",
    "            \n",
    "        test_epochs.append(step)\n",
    "        test_rewards.append(np.mean(r_test))\n",
    "        \n",
    "        display.clear_output(True)\n",
    "        plt.plot(train_rewards, label = \"reward train\")\n",
    "        plt.plot(test_epochs,test_rewards, label = \"reward test\")\n",
    "        plt.legend()\n",
    "        plt.show()\n",
    "        \n",
    "    eps -= EPSILON_DECAY\n",
    "    step += 1\n"
   ]
  },
  {
   "cell_type": "code",
   "execution_count": null,
   "id": "a5bac821-daf9-486c-b87c-95a0c7ab245f",
   "metadata": {},
   "outputs": [],
   "source": [
    "state, obs_to_render = env.reset_with_render()\n",
    "env.render(obs_to_render)\n",
    "done = False\n",
    "tot_rew_test = 0\n",
    "with torch.no_grad():\n",
    "        while not done:\n",
    "            action = model_baseline.action(state, 0)\n",
    "            state, rew , done, _, obs_to_render = env.step_with_render(action)\n",
    "            tot_rew_test += rew\n",
    "            env.render(obs_to_render)\n",
    "            display.display(plt.gcf())\n",
    "            display.clear_output(wait=True)\n",
    "print(tot_rew_test)"
   ]
  },
  {
   "cell_type": "markdown",
   "id": "1433e377-490a-4d07-9f75-1282e3cb6be4",
   "metadata": {},
   "source": [
    "# 3. Replay Buffer"
   ]
  },
  {
   "cell_type": "code",
   "execution_count": null,
   "id": "6244f4c8-f179-497e-abea-3ab095b1ec8f",
   "metadata": {},
   "outputs": [],
   "source": [
    "class ReplayBuffer:\n",
    "    def __init__(self, data_names, buffer_size, batch_size):\n",
    "        self.data_keys = data_names\n",
    "        self.data_dict = {}\n",
    "        self.buffer_size = buffer_size\n",
    "        self.batch_size = batch_size\n",
    "        self.reset()\n",
    "    \n",
    "    def reset(self):\n",
    "        for name in self.data_keys:\n",
    "            self.data_dict[name] = deque(maxlen=self.buffer_size)\n",
    "\n",
    "    def push(self, data):\n",
    "        \"\"\"Add a transition to the buffer.\"\"\"\n",
    "        for key in self.data_keys:\n",
    "            self.data_dict[key].append(data[key])\n",
    "\n",
    "    def sample(self):\n",
    "        \"\"\"Sample a batch of transitions.\"\"\"\n",
    "        indices = random.sample(range(len(self)), self.batch_size)\n",
    "        batch = [{key: self.data_dict[key][i] for key in self.data_keys} for i in indices]\n",
    "        return batch\n",
    "\n",
    "    def __len__(self):\n",
    "        return len(next(iter(self.data_dict.values())))"
   ]
  },
  {
   "cell_type": "code",
   "execution_count": null,
   "id": "e2b56db6-608b-4193-a7f4-b5f30cef1b0c",
   "metadata": {},
   "outputs": [],
   "source": [
    "model_replay_buffer = DQN(env.observation_space.shape[0] * env.observation_space.shape[1] * env.observation_space.shape[2],\n",
    "                          env.action_space.n,\n",
    "                          HIDDEN_UNITS, \n",
    "                          HIDDEN_LAYERS)\n",
    "\n",
    "replay_buffer = ReplayBuffer(['state', 'action', 'reward', 'next_state', 'done'], \n",
    "                             BUFFER_SIZE, BATCH_SIZE)\n",
    "\n",
    "optimizer = optim.Adam(params=model_replay_buffer.parameters(), lr=LEARNING_RATE)\n",
    "\n",
    "step = 0\n",
    "test_rewards = []\n",
    "test_epochs = []\n",
    "train_rewards = []\n",
    "eps = EPSILON_START\n",
    "for step in tqdm(range(N_EPISODES)):\n",
    "    done = False\n",
    "    state = env.reset()\n",
    "    r_train = 0\n",
    "    while not done:\n",
    "        action = model_replay_buffer.action(state, eps)\n",
    "        next_state, reward, done, info = env.step(action)\n",
    "        replay_buffer.push({'state':state, 'action':action, 'reward':reward, \n",
    "                            'next_state':next_state, 'done':done})\n",
    "        r_train += reward\n",
    "        \n",
    "    train_rewards.append(r_train)\n",
    "    \n",
    "    if len(replay_buffer) > replay_buffer.batch_size:\n",
    "        batch = replay_buffer.sample()\n",
    "        for b in batch:            \n",
    "            next_state_values = model_replay_buffer(torch.tensor(b['next_state'], dtype=torch.float32).flatten()).max().detach()\n",
    "            state_action_values = model_replay_buffer(torch.tensor(b['state'], dtype=torch.float32).flatten())[b['action']]\n",
    "        \n",
    "            expected_q_value = b['reward'] + GAMMA * next_state_values * (1 - b['done'])\n",
    "            loss = nn.MSELoss()(state_action_values, expected_q_value)\n",
    "            optimizer.zero_grad()\n",
    "            loss.backward()\n",
    "            optimizer.step()\n",
    "    \n",
    "    if step%EVAL_EPISODE == 0:        \n",
    "        r_test = []\n",
    "        for j in range(10):\n",
    "            r = test_agent(model_replay_buffer, GAMMA)\n",
    "            r_test.append(r)\n",
    "        test_epochs.append(step)\n",
    "        test_rewards.append(np.mean(r_test))\n",
    "        \n",
    "        display.clear_output(True)\n",
    "        plt.plot(train_rewards, label = \"reward train\")\n",
    "        plt.plot(test_epochs,test_rewards, label = \"reward test\")\n",
    "        plt.legend()\n",
    "        plt.show()\n",
    "        \n",
    "    eps -= EPSILON_DECAY\n",
    "    step += 1"
   ]
  },
  {
   "cell_type": "code",
   "execution_count": null,
   "id": "c89eb320-2f7d-4c25-bbe5-a311842cf337",
   "metadata": {},
   "outputs": [],
   "source": [
    "state, obs_to_render = env.reset_with_render()\n",
    "env.render(obs_to_render)\n",
    "done = False\n",
    "tot_rew_test = 0\n",
    "with torch.no_grad():\n",
    "        while not done:\n",
    "            action = model_replay_buffer.action(state, 0)\n",
    "            state, rew , done, _, obs_to_render = env.step_with_render(action)\n",
    "            tot_rew_test += rew\n",
    "            env.render(obs_to_render)\n",
    "            display.display(plt.gcf())\n",
    "            display.clear_output(wait=True)\n",
    "print(tot_rew_test)"
   ]
  },
  {
   "cell_type": "markdown",
   "id": "62510892-1faa-41c1-9bc3-239064c2f727",
   "metadata": {},
   "source": [
    "# 4. Target Network"
   ]
  },
  {
   "cell_type": "code",
   "execution_count": null,
   "id": "76316b1c-614d-4aa0-93fb-1219e3cc6e07",
   "metadata": {},
   "outputs": [],
   "source": [
    "model_tn = DQN(env.observation_space.shape[0] * env.observation_space.shape[1] * env.observation_space.shape[2],\n",
    "                          env.action_space.n,\n",
    "                          HIDDEN_UNITS, \n",
    "                          HIDDEN_LAYERS)\n",
    "\n",
    "model_tn_target = DQN(env.observation_space.shape[0] * env.observation_space.shape[1] * env.observation_space.shape[2],\n",
    "                          env.action_space.n,\n",
    "                          HIDDEN_UNITS, \n",
    "                          HIDDEN_LAYERS)\n",
    "model_tn_target.load_state_dict(model_tn.state_dict())\n",
    "\n",
    "replay_buffer = ReplayBuffer(['state', 'action', 'reward', 'next_state', 'done'], \n",
    "                             BUFFER_SIZE, BATCH_SIZE)\n",
    "\n",
    "optimizer = optim.Adam(params=model_tn.parameters(), lr=LEARNING_RATE)\n",
    "\n",
    "step = 0\n",
    "test_rewards = []\n",
    "test_epochs = []\n",
    "train_rewards = []\n",
    "eps = EPSILON_START\n",
    "for step in tqdm(range(N_EPISODES)):\n",
    "    done = False\n",
    "    state = env.reset()\n",
    "    r_train = 0\n",
    "    while not done:\n",
    "        action = model_tn.action(state, eps)\n",
    "        next_state, reward, done, info = env.step(action)\n",
    "        replay_buffer.push({'state':state, 'action':action, 'reward':reward, \n",
    "                            'next_state':next_state, 'done':done})\n",
    "        r_train += reward\n",
    "        \n",
    "    train_rewards.append(r_train)\n",
    "    \n",
    "    if len(replay_buffer) > replay_buffer.batch_size:\n",
    "        batch = replay_buffer.sample()\n",
    "        for b in batch:      \n",
    "            \n",
    "            next_state_values = model_tn_target(torch.tensor(b['next_state'], dtype=torch.float32).flatten()).max().detach()\n",
    "            state_action_values = model_tn(torch.tensor(b['state'], dtype=torch.float32).flatten())[b['action']]\n",
    "        \n",
    "            expected_q_value = b['reward'] + GAMMA * next_state_values * (1 - b['done'])\n",
    "            \n",
    "            loss = nn.MSELoss()(state_action_values, expected_q_value)\n",
    "            optimizer.zero_grad()\n",
    "            loss.backward()\n",
    "            optimizer.step()\n",
    "            \n",
    "     if step % UPDATE_EVERY == 0:\n",
    "        model_tn_target.load_state_dict(model_tn.state_dict())\n",
    "    \n",
    "    if step%EVAL_EPISODE == 0:        \n",
    "        r_test = []\n",
    "        for j in range(10):\n",
    "            r = test_agent(model_tn, GAMMA)\n",
    "            r_test.append(r)\n",
    "        test_epochs.append(step)\n",
    "        test_rewards.append(np.mean(r_test))\n",
    "        \n",
    "        display.clear_output(True)\n",
    "        plt.plot(train_rewards, label = \"reward train\")\n",
    "        plt.plot(test_epochs,test_rewards, label = \"reward test\")\n",
    "        plt.legend()\n",
    "        plt.show()\n",
    "        \n",
    "    eps -= EPSILON_DECAY\n",
    "    step += 1"
   ]
  },
  {
   "cell_type": "markdown",
   "id": "4a1d0713-4f56-4560-bbbf-bea2c0cb3909",
   "metadata": {},
   "source": [
    "# 5. Loss Function Comparaison"
   ]
  },
  {
   "cell_type": "code",
   "execution_count": null,
   "id": "43f1d5d2-ee04-4cc8-bca7-71ff2ef1695c",
   "metadata": {},
   "outputs": [],
   "source": [
    "model_tn_2 = DQN(env.observation_space.shape[0] * env.observation_space.shape[1] * env.observation_space.shape[2],\n",
    "                          env.action_space.n,\n",
    "                          HIDDEN_UNITS, \n",
    "                          HIDDEN_LAYERS)\n",
    "\n",
    "model_tn_target_2 = DQN(env.observation_space.shape[0] * env.observation_space.shape[1] * env.observation_space.shape[2],\n",
    "                          env.action_space.n,\n",
    "                          HIDDEN_UNITS, \n",
    "                          HIDDEN_LAYERS)\n",
    "model_tn_target.load_state_dict(model_tn.state_dict())\n",
    "\n",
    "replay_buffer = ReplayBuffer(['state', 'action', 'reward', 'next_state', 'done'], \n",
    "                             BUFFER_SIZE, BATCH_SIZE)\n",
    "\n",
    "optimizer = optim.Adam(params=model_tn_2.parameters(), lr=LEARNING_RATE)\n",
    "\n",
    "step = 0\n",
    "test_rewards = []\n",
    "test_epochs = []\n",
    "train_rewards = []\n",
    "eps = EPSILON_START\n",
    "for step in tqdm(range(N_EPISODES)):\n",
    "    done = False\n",
    "    state = env.reset()\n",
    "    r_train = 0\n",
    "    while not done:\n",
    "        action = model_tn_2.action(state, eps)\n",
    "        next_state, reward, done, info = env.step(action)\n",
    "        replay_buffer.push({'state':state, 'action':action, 'reward':reward, \n",
    "                            'next_state':next_state, 'done':done})\n",
    "        r_train += reward\n",
    "        \n",
    "    train_rewards.append(r_train)\n",
    "    \n",
    "    if len(replay_buffer) > replay_buffer.batch_size:\n",
    "        batch = replay_buffer.sample()\n",
    "        for b in batch:      \n",
    "            \n",
    "            next_state_values = model_tn_target_2(torch.tensor(b['next_state'], dtype=torch.float32).flatten()).max().detach()\n",
    "            state_action_values = model_tn_2(torch.tensor(b['state'], dtype=torch.float32).flatten())[b['action']]\n",
    "        \n",
    "            expected_q_value = b['reward'] + GAMMA * next_state_values * (1 - b['done'])\n",
    "            \n",
    "            loss = nn.SmoothL1Loss()(state_action_values, expected_q_value)\n",
    "            optimizer.zero_grad()\n",
    "            loss.backward()\n",
    "            optimizer.step()\n",
    "            \n",
    "     if step % UPDATE_EVERY == 0:\n",
    "        model_tn_target_2.load_state_dict(model_tn_2.state_dict())\n",
    "    \n",
    "    if step%EVAL_EPISODE == 0:        \n",
    "        r_test = []\n",
    "        for j in range(10):\n",
    "            r = test_agent(model_tn_2, GAMMA)\n",
    "            r_test.append(r)\n",
    "        test_epochs.append(step)\n",
    "        test_rewards.append(np.mean(r_test))\n",
    "        \n",
    "        display.clear_output(True)\n",
    "        plt.plot(train_rewards, label = \"reward train\")\n",
    "        plt.plot(test_epochs,test_rewards, label = \"reward test\")\n",
    "        plt.legend()\n",
    "        plt.show()\n",
    "        \n",
    "    eps -= EPSILON_DECAY\n",
    "    step += 1"
   ]
  },
  {
   "cell_type": "markdown",
   "id": "ed6eebcb-94c2-4250-b9f9-296f5f84af62",
   "metadata": {},
   "source": [
    "# 6. Behavioural Analysis"
   ]
  },
  {
   "cell_type": "markdown",
   "id": "d74ac533-ed9e-454d-be44-d5de6c28856d",
   "metadata": {},
   "source": [
    "# 7. Prioritized Experience Replay "
   ]
  },
  {
   "cell_type": "code",
   "execution_count": null,
   "id": "6ab80075-200d-433c-a30c-503b230e97d5",
   "metadata": {},
   "outputs": [],
   "source": []
  },
  {
   "cell_type": "code",
   "execution_count": null,
   "id": "c617c7af-b2a2-422c-b928-3427a27b2e9d",
   "metadata": {},
   "outputs": [],
   "source": []
  },
  {
   "cell_type": "code",
   "execution_count": null,
   "id": "6282a583-16e0-4426-83af-52dcbb18ea7d",
   "metadata": {},
   "outputs": [],
   "source": []
  },
  {
   "cell_type": "code",
   "execution_count": null,
   "id": "bc2b4769-8a22-4a8c-b893-965566b4c8ee",
   "metadata": {},
   "outputs": [],
   "source": []
  },
  {
   "cell_type": "code",
   "execution_count": null,
   "id": "b8ba0783-68cd-4c59-ab69-ebdbe61f3371",
   "metadata": {},
   "outputs": [],
   "source": []
  },
  {
   "cell_type": "code",
   "execution_count": null,
   "id": "970dd02d-839b-4eac-a6e4-a5c69c5567be",
   "metadata": {},
   "outputs": [],
   "source": []
  },
  {
   "cell_type": "code",
   "execution_count": null,
   "id": "11f0ae52-5cac-41e9-a63f-929a4941743f",
   "metadata": {},
   "outputs": [],
   "source": []
  }
 ],
 "metadata": {
  "kernelspec": {
   "display_name": "Python 3 (ipykernel)",
   "language": "python",
   "name": "python3"
  },
  "language_info": {
   "codemirror_mode": {
    "name": "ipython",
    "version": 3
   },
   "file_extension": ".py",
   "mimetype": "text/x-python",
   "name": "python",
   "nbconvert_exporter": "python",
   "pygments_lexer": "ipython3",
   "version": "3.11.5"
  }
 },
 "nbformat": 4,
 "nbformat_minor": 5
}

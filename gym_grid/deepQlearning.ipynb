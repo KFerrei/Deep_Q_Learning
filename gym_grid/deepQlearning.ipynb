{
  "cells": [
    {
      "cell_type": "markdown",
      "id": "1122bff3-d09c-4954-a089-b4b4872c8b27",
      "metadata": {
        "id": "1122bff3-d09c-4954-a089-b4b4872c8b27"
      },
      "source": [
        "# Skeleton Notebook Deep Q-Learning Project (MHBF)"
      ]
    },
    {
      "cell_type": "code",
      "execution_count": 1,
      "id": "wv1WjPbGQ35P",
      "metadata": {
        "colab": {
          "base_uri": "https://localhost:8080/"
        },
        "id": "wv1WjPbGQ35P",
        "outputId": "e2bbfc4e-fd1a-4490-c04f-7d7a669e48fc"
      },
      "outputs": [
        {
          "output_type": "stream",
          "name": "stdout",
          "text": [
            "Mounted at /content/drive\n"
          ]
        }
      ],
      "source": [
        "from google.colab import drive\n",
        "import os\n",
        "drive.mount('/content/drive')\n",
        "os.chdir('/content/drive/MyDrive/MHBF-DeepQ-Learning/gym_grid/')"
      ]
    },
    {
      "cell_type": "code",
      "execution_count": 2,
      "id": "9d3afca4-944a-4a0e-a34b-bf5444ce7ffb",
      "metadata": {
        "id": "9d3afca4-944a-4a0e-a34b-bf5444ce7ffb"
      },
      "outputs": [],
      "source": [
        "%matplotlib inline\n",
        "%load_ext autoreload\n",
        "%autoreload 2\n",
        "\n",
        "# Import required packages\n",
        "import gym\n",
        "import gym_grid\n",
        "\n",
        "import matplotlib.pyplot as plt\n",
        "\n",
        "import numpy as np\n",
        "import random\n",
        "\n",
        "import torch\n",
        "import torch.nn as nn\n",
        "import torch.optim as optim\n",
        "import torch.nn.functional as F\n",
        "\n",
        "from IPython import display\n",
        "from collections import namedtuple, deque\n",
        "from tqdm import tqdm\n",
        "\n",
        "import warnings\n",
        "warnings.filterwarnings(\"ignore\")"
      ]
    },
    {
      "cell_type": "code",
      "execution_count": 3,
      "id": "5599cf0b-5a75-44c1-b54b-79d1c94266a1",
      "metadata": {
        "colab": {
          "base_uri": "https://localhost:8080/"
        },
        "id": "5599cf0b-5a75-44c1-b54b-79d1c94266a1",
        "outputId": "e3f23c75-f154-41ae-d46d-12f5fabc0207"
      },
      "outputs": [
        {
          "output_type": "stream",
          "name": "stdout",
          "text": [
            "cpu\n"
          ]
        }
      ],
      "source": [
        "if torch.cuda.is_available():\n",
        "    device = torch.device('cuda')\n",
        "elif torch.backends.mps.is_available():\n",
        "    device = torch.device('mps')\n",
        "else:\n",
        "    device = torch.device('cpu')\n",
        "print(device)"
      ]
    },
    {
      "cell_type": "markdown",
      "id": "5cba614b-63eb-4e8b-8c46-bad02735c0fb",
      "metadata": {
        "id": "5cba614b-63eb-4e8b-8c46-bad02735c0fb"
      },
      "source": [
        "# 0. Environment Implementation"
      ]
    },
    {
      "cell_type": "code",
      "execution_count": 5,
      "id": "YND6IvKuVY5Y",
      "metadata": {
        "colab": {
          "base_uri": "https://localhost:8080/"
        },
        "id": "YND6IvKuVY5Y",
        "outputId": "be88d015-11f8-4051-a554-9f90e5357b01"
      },
      "outputs": [
        {
          "output_type": "stream",
          "name": "stdout",
          "text": [
            "Collecting pycolab\n",
            "  Downloading pycolab-1.2-py3-none-any.whl (165 kB)\n",
            "\u001b[2K     \u001b[90m━━━━━━━━━━━━━━━━━━━━━━━━━━━━━━━━━━━━━━━━\u001b[0m \u001b[32m165.7/165.7 kB\u001b[0m \u001b[31m1.3 MB/s\u001b[0m eta \u001b[36m0:00:00\u001b[0m\n",
            "\u001b[?25hRequirement already satisfied: numpy>=1.9 in /usr/local/lib/python3.10/dist-packages (from pycolab) (1.25.2)\n",
            "Requirement already satisfied: six in /usr/local/lib/python3.10/dist-packages (from pycolab) (1.16.0)\n",
            "Installing collected packages: pycolab\n",
            "Successfully installed pycolab-1.2\n"
          ]
        }
      ],
      "source": [
        "!pip install pycolab"
      ]
    },
    {
      "cell_type": "code",
      "execution_count": 7,
      "id": "e6077c2c-8f41-42d3-9aee-8803adedd189",
      "metadata": {
        "colab": {
          "base_uri": "https://localhost:8080/",
          "height": 109
        },
        "id": "e6077c2c-8f41-42d3-9aee-8803adedd189",
        "outputId": "fb42ae50-91fb-4a82-9ca9-06d06b59142d"
      },
      "outputs": [
        {
          "output_type": "display_data",
          "data": {
            "text/plain": [
              "<Figure size 1000x1000 with 1 Axes>"
            ],
            "image/png": "[encoded data removed]"
          },
          "metadata": {}
        }
      ],
      "source": [
        "# Visualize the environment\n",
        "plt.figure(figsize=(10, 10))\n",
        "# T-Maze Environment\n",
        "env = gym.make(\"LinearTrack-v0\")\n",
        "#env = gym.make(\"DeadlyGrid-v0\")\n",
        "_, obs_to_render = env.reset_with_render()\n",
        "env.reset()\n",
        "env.render(obs_to_render)"
      ]
    },
    {
      "cell_type": "code",
      "execution_count": 8,
      "id": "695a5017-5dce-4413-aee0-3b4050cd03a7",
      "metadata": {
        "colab": {
          "base_uri": "https://localhost:8080/"
        },
        "id": "695a5017-5dce-4413-aee0-3b4050cd03a7",
        "outputId": "6a8cb2e0-7bce-4e5d-a22c-a47159f36b0c"
      },
      "outputs": [
        {
          "output_type": "stream",
          "name": "stdout",
          "text": [
            "State space:  Box(0, 1, (3, 32, 4), uint8)\n",
            "State shape:  (3, 32, 4)\n",
            "Action space:  Discrete(3)\n",
            "Number of actions:  3\n"
          ]
        }
      ],
      "source": [
        "print('State space: ', env.observation_space)\n",
        "print('State shape: ', env.observation_space.shape)\n",
        "print('Action space: ', env.action_space)\n",
        "print('Number of actions: ', env.action_space.n)"
      ]
    },
    {
      "cell_type": "markdown",
      "id": "858d0861-0176-43bb-a699-e2498dd9bdfb",
      "metadata": {
        "id": "858d0861-0176-43bb-a699-e2498dd9bdfb"
      },
      "source": [
        "# 1. Definition of model and params"
      ]
    },
    {
      "cell_type": "code",
      "execution_count": 9,
      "id": "c47b7035-60dd-4b62-950c-043fe2c47f61",
      "metadata": {
        "id": "c47b7035-60dd-4b62-950c-043fe2c47f61"
      },
      "outputs": [],
      "source": [
        "# Discount factor\n",
        "GAMMA = 0.99\n",
        "# Learning rate\n",
        "LEARNING_RATE = 0.001\n",
        "# Capacity of the replay buffer\n",
        "BUFFER_SIZE = 1000\n",
        "# Update target net every ... episodes\n",
        "UPDATE_EVERY= 500\n",
        "# Batch size\n",
        "BATCH_SIZE = 128\n",
        "# Eval Episode\n",
        "EVAL_EPISODE = 500\n",
        "# Number of eval\n",
        "N_EVAL = 50\n",
        "# Hidden Units\n",
        "HIDDEN_UNITS = 128\n",
        "# Hidden layers\n",
        "HIDDEN_LAYERS = 1\n",
        "# Number of training episodes\n",
        "N_EPISODES = 50000\n",
        "# Initial value of epsilon\n",
        "EPSILON_START = 1.0\n",
        "# End value of epsilon\n",
        "EPSILON_END = 0.01\n",
        "# Epsilon decay\n",
        "EPSILON_DECAY = (EPSILON_START - EPSILON_END) / N_EPISODES\n",
        "# Initial value of epsilon\n",
        "BETA_START = 0.4\n",
        "# End value of epsilon\n",
        "BETA_END = 1.0\n",
        "# Epsilon decay\n",
        "BETA_DECAY = (BETA_START - BETA_END) / N_EPISODES\n",
        "# SEED\n",
        "SEED = 6\n",
        "\n",
        "params = {'gamma': GAMMA, 'lr': LEARNING_RATE, 'bacth_size': BATCH_SIZE,\n",
        "          'buffer_size': BUFFER_SIZE, 'update_step': UPDATE_EVERY,\n",
        "          'hidden_unit': HIDDEN_UNITS, 'hidden_laye': HIDDEN_LAYERS,'n_episode': N_EPISODES}"
      ]
    },
    {
      "cell_type": "code",
      "execution_count": 10,
      "id": "c03cf8c0-edc2-4c56-b4ab-4d88af756c2b",
      "metadata": {
        "id": "c03cf8c0-edc2-4c56-b4ab-4d88af756c2b"
      },
      "outputs": [],
      "source": [
        "class DQN(nn.Module):\n",
        "    def __init__(self, input_dim, output_dim, hidden_units, hidden_layers):\n",
        "        super(DQN, self).__init__()\n",
        "\n",
        "        self.action_space_size = output_dim\n",
        "        self.hidden_layers = hidden_layers\n",
        "        self.layer_in = nn.Linear(input_dim, hidden_units)\n",
        "        self.hidden_layer= nn.Linear(hidden_units, hidden_units)\n",
        "        self.layer_out = nn.Linear(hidden_units, output_dim)\n",
        "\n",
        "    def forward(self, x):\n",
        "        x = F.relu(self.layer_in(x))\n",
        "        for i in range(self.hidden_layers):\n",
        "            x = F.relu(self.hidden_layer(x))\n",
        "        x = self.layer_out(x)\n",
        "        return x\n",
        "\n",
        "    def action(self, state, epsilon):\n",
        "        if random.random() > epsilon:\n",
        "            q_value = self.forward(state)\n",
        "            action  = int(torch.argmax(q_value, dim=-1))\n",
        "        else:\n",
        "            action = random.randrange(self.action_space_size)\n",
        "        return action"
      ]
    },
    {
      "cell_type": "code",
      "execution_count": 11,
      "id": "4c3d24d4-28ad-4357-ab02-706476e10201",
      "metadata": {
        "id": "4c3d24d4-28ad-4357-ab02-706476e10201"
      },
      "outputs": [],
      "source": [
        "def test_agent(model, gamma):\n",
        "    done = False\n",
        "    episode_return = 0\n",
        "    i = 0\n",
        "    state = torch.tensor(env.reset(), dtype=torch.float32).flatten().to(device)\n",
        "    with torch.no_grad():\n",
        "        while not done:\n",
        "            action = model.action(state, 0)\n",
        "            state, reward, done, info = env.step(action)\n",
        "            state = torch.tensor(state, dtype=torch.float32).flatten().to(device)\n",
        "            episode_return += gamma**i * reward\n",
        "            i += 1\n",
        "    return episode_return"
      ]
    },
    {
      "cell_type": "code",
      "execution_count": 12,
      "id": "-9W_mSDJI_Am",
      "metadata": {
        "id": "-9W_mSDJI_Am"
      },
      "outputs": [],
      "source": [
        "def set_seed(seed):\n",
        "    torch.manual_seed(seed)\n",
        "    if torch.cuda.is_available():\n",
        "        torch.cuda.manual_seed_all(seed)\n",
        "    np.random.seed(seed)\n",
        "    random.seed(seed)\n",
        "\n",
        "def initialize_weights_to_zero(m):\n",
        "    if isinstance(m, nn.Linear):\n",
        "        nn.init.constant_(m.weight, 0)\n",
        "        if m.bias is not None:\n",
        "            nn.init.constant_(m.bias, 0)"
      ]
    },
    {
      "cell_type": "markdown",
      "id": "93f24766-bdb9-43a4-bd58-0af0a20d6ac7",
      "metadata": {
        "id": "93f24766-bdb9-43a4-bd58-0af0a20d6ac7"
      },
      "source": [
        "# 2. Baseline"
      ]
    },
    {
      "cell_type": "code",
      "execution_count": 17,
      "id": "2948b05e-5a16-49fd-81c7-4ddf3f81d1fa",
      "metadata": {
        "colab": {
          "base_uri": "https://localhost:8080/",
          "height": 401
        },
        "id": "2948b05e-5a16-49fd-81c7-4ddf3f81d1fa",
        "outputId": "fea67fe0-fd66-4d01-fe81-c9195f44d3ae"
      },
      "outputs": [
        {
          "output_type": "stream",
          "name": "stderr",
          "text": [
            "\r 15%|█▌        | 7500/50000 [01:56<11:00, 64.35it/s]\n"
          ]
        },
        {
          "output_type": "error",
          "ename": "KeyboardInterrupt",
          "evalue": "",
          "traceback": [
            "\u001b[0;31m---------------------------------------------------------------------------\u001b[0m",
            "\u001b[0;31mKeyboardInterrupt\u001b[0m                         Traceback (most recent call last)",
            "\u001b[0;32m<ipython-input-17-412bb0b1a164>\u001b[0m in \u001b[0;36m<cell line: 19>\u001b[0;34m()\u001b[0m\n\u001b[1;32m     70\u001b[0m         \u001b[0mplt\u001b[0m\u001b[0;34m.\u001b[0m\u001b[0mplot\u001b[0m\u001b[0;34m(\u001b[0m\u001b[0mresults_baseline\u001b[0m\u001b[0;34m[\u001b[0m\u001b[0;34m'epochs_save'\u001b[0m\u001b[0;34m]\u001b[0m\u001b[0;34m,\u001b[0m\u001b[0mresults_baseline\u001b[0m\u001b[0;34m[\u001b[0m\u001b[0;34m'rewards_test'\u001b[0m\u001b[0;34m]\u001b[0m\u001b[0;34m,\u001b[0m \u001b[0mlabel\u001b[0m \u001b[0;34m=\u001b[0m \u001b[0;34m\"reward test\"\u001b[0m\u001b[0;34m)\u001b[0m\u001b[0;34m\u001b[0m\u001b[0;34m\u001b[0m\u001b[0m\n\u001b[1;32m     71\u001b[0m         \u001b[0mplt\u001b[0m\u001b[0;34m.\u001b[0m\u001b[0mlegend\u001b[0m\u001b[0;34m(\u001b[0m\u001b[0;34m)\u001b[0m\u001b[0;34m\u001b[0m\u001b[0;34m\u001b[0m\u001b[0m\n\u001b[0;32m---> 72\u001b[0;31m         \u001b[0mplt\u001b[0m\u001b[0;34m.\u001b[0m\u001b[0mshow\u001b[0m\u001b[0;34m(\u001b[0m\u001b[0;34m)\u001b[0m\u001b[0;34m\u001b[0m\u001b[0;34m\u001b[0m\u001b[0m\n\u001b[0m\u001b[1;32m     73\u001b[0m     \u001b[0meps\u001b[0m \u001b[0;34m-=\u001b[0m \u001b[0mEPSILON_DECAY\u001b[0m\u001b[0;34m\u001b[0m\u001b[0;34m\u001b[0m\u001b[0m\n\u001b[1;32m     74\u001b[0m \u001b[0mtorch\u001b[0m\u001b[0;34m.\u001b[0m\u001b[0msave\u001b[0m\u001b[0;34m(\u001b[0m\u001b[0mresults_baseline\u001b[0m\u001b[0;34m,\u001b[0m \u001b[0;34m'results_baseline.pth'\u001b[0m\u001b[0;34m)\u001b[0m\u001b[0;34m\u001b[0m\u001b[0;34m\u001b[0m\u001b[0m\n",
            "\u001b[0;32m/usr/local/lib/python3.10/dist-packages/matplotlib/pyplot.py\u001b[0m in \u001b[0;36mshow\u001b[0;34m(*args, **kwargs)\u001b[0m\n\u001b[1;32m    444\u001b[0m     \"\"\"\n\u001b[1;32m    445\u001b[0m     \u001b[0m_warn_if_gui_out_of_main_thread\u001b[0m\u001b[0;34m(\u001b[0m\u001b[0;34m)\u001b[0m\u001b[0;34m\u001b[0m\u001b[0;34m\u001b[0m\u001b[0m\n\u001b[0;32m--> 446\u001b[0;31m     \u001b[0;32mreturn\u001b[0m \u001b[0m_get_backend_mod\u001b[0m\u001b[0;34m(\u001b[0m\u001b[0;34m)\u001b[0m\u001b[0;34m.\u001b[0m\u001b[0mshow\u001b[0m\u001b[0;34m(\u001b[0m\u001b[0;34m*\u001b[0m\u001b[0margs\u001b[0m\u001b[0;34m,\u001b[0m \u001b[0;34m**\u001b[0m\u001b[0mkwargs\u001b[0m\u001b[0;34m)\u001b[0m\u001b[0;34m\u001b[0m\u001b[0;34m\u001b[0m\u001b[0m\n\u001b[0m\u001b[1;32m    447\u001b[0m \u001b[0;34m\u001b[0m\u001b[0m\n\u001b[1;32m    448\u001b[0m \u001b[0;34m\u001b[0m\u001b[0m\n",
            "\u001b[0;32m/usr/local/lib/python3.10/dist-packages/matplotlib_inline/backend_inline.py\u001b[0m in \u001b[0;36mshow\u001b[0;34m(close, block)\u001b[0m\n\u001b[1;32m     88\u001b[0m     \u001b[0;32mtry\u001b[0m\u001b[0;34m:\u001b[0m\u001b[0;34m\u001b[0m\u001b[0;34m\u001b[0m\u001b[0m\n\u001b[1;32m     89\u001b[0m         \u001b[0;32mfor\u001b[0m \u001b[0mfigure_manager\u001b[0m \u001b[0;32min\u001b[0m \u001b[0mGcf\u001b[0m\u001b[0;34m.\u001b[0m\u001b[0mget_all_fig_managers\u001b[0m\u001b[0;34m(\u001b[0m\u001b[0;34m)\u001b[0m\u001b[0;34m:\u001b[0m\u001b[0;34m\u001b[0m\u001b[0;34m\u001b[0m\u001b[0m\n\u001b[0;32m---> 90\u001b[0;31m             display(\n\u001b[0m\u001b[1;32m     91\u001b[0m                 \u001b[0mfigure_manager\u001b[0m\u001b[0;34m.\u001b[0m\u001b[0mcanvas\u001b[0m\u001b[0;34m.\u001b[0m\u001b[0mfigure\u001b[0m\u001b[0;34m,\u001b[0m\u001b[0;34m\u001b[0m\u001b[0;34m\u001b[0m\u001b[0m\n\u001b[1;32m     92\u001b[0m                 \u001b[0mmetadata\u001b[0m\u001b[0;34m=\u001b[0m\u001b[0m_fetch_figure_metadata\u001b[0m\u001b[0;34m(\u001b[0m\u001b[0mfigure_manager\u001b[0m\u001b[0;34m.\u001b[0m\u001b[0mcanvas\u001b[0m\u001b[0;34m.\u001b[0m\u001b[0mfigure\u001b[0m\u001b[0;34m)\u001b[0m\u001b[0;34m\u001b[0m\u001b[0;34m\u001b[0m\u001b[0m\n",
            "\u001b[0;32m/usr/local/lib/python3.10/dist-packages/IPython/core/display.py\u001b[0m in \u001b[0;36mdisplay\u001b[0;34m(include, exclude, metadata, transient, display_id, *objs, **kwargs)\u001b[0m\n\u001b[1;32m    318\u001b[0m             \u001b[0mpublish_display_data\u001b[0m\u001b[0;34m(\u001b[0m\u001b[0mdata\u001b[0m\u001b[0;34m=\u001b[0m\u001b[0mobj\u001b[0m\u001b[0;34m,\u001b[0m \u001b[0mmetadata\u001b[0m\u001b[0;34m=\u001b[0m\u001b[0mmetadata\u001b[0m\u001b[0;34m,\u001b[0m \u001b[0;34m**\u001b[0m\u001b[0mkwargs\u001b[0m\u001b[0;34m)\u001b[0m\u001b[0;34m\u001b[0m\u001b[0;34m\u001b[0m\u001b[0m\n\u001b[1;32m    319\u001b[0m         \u001b[0;32melse\u001b[0m\u001b[0;34m:\u001b[0m\u001b[0;34m\u001b[0m\u001b[0;34m\u001b[0m\u001b[0m\n\u001b[0;32m--> 320\u001b[0;31m             \u001b[0mformat_dict\u001b[0m\u001b[0;34m,\u001b[0m \u001b[0mmd_dict\u001b[0m \u001b[0;34m=\u001b[0m \u001b[0mformat\u001b[0m\u001b[0;34m(\u001b[0m\u001b[0mobj\u001b[0m\u001b[0;34m,\u001b[0m \u001b[0minclude\u001b[0m\u001b[0;34m=\u001b[0m\u001b[0minclude\u001b[0m\u001b[0;34m,\u001b[0m \u001b[0mexclude\u001b[0m\u001b[0;34m=\u001b[0m\u001b[0mexclude\u001b[0m\u001b[0;34m)\u001b[0m\u001b[0;34m\u001b[0m\u001b[0;34m\u001b[0m\u001b[0m\n\u001b[0m\u001b[1;32m    321\u001b[0m             \u001b[0;32mif\u001b[0m \u001b[0;32mnot\u001b[0m \u001b[0mformat_dict\u001b[0m\u001b[0;34m:\u001b[0m\u001b[0;34m\u001b[0m\u001b[0;34m\u001b[0m\u001b[0m\n\u001b[1;32m    322\u001b[0m                 \u001b[0;31m# nothing to display (e.g. _ipython_display_ took over)\u001b[0m\u001b[0;34m\u001b[0m\u001b[0;34m\u001b[0m\u001b[0m\n",
            "\u001b[0;32m/usr/local/lib/python3.10/dist-packages/IPython/core/formatters.py\u001b[0m in \u001b[0;36mformat\u001b[0;34m(self, obj, include, exclude)\u001b[0m\n\u001b[1;32m    178\u001b[0m             \u001b[0mmd\u001b[0m \u001b[0;34m=\u001b[0m \u001b[0;32mNone\u001b[0m\u001b[0;34m\u001b[0m\u001b[0;34m\u001b[0m\u001b[0m\n\u001b[1;32m    179\u001b[0m             \u001b[0;32mtry\u001b[0m\u001b[0;34m:\u001b[0m\u001b[0;34m\u001b[0m\u001b[0;34m\u001b[0m\u001b[0m\n\u001b[0;32m--> 180\u001b[0;31m                 \u001b[0mdata\u001b[0m \u001b[0;34m=\u001b[0m \u001b[0mformatter\u001b[0m\u001b[0;34m(\u001b[0m\u001b[0mobj\u001b[0m\u001b[0;34m)\u001b[0m\u001b[0;34m\u001b[0m\u001b[0;34m\u001b[0m\u001b[0m\n\u001b[0m\u001b[1;32m    181\u001b[0m             \u001b[0;32mexcept\u001b[0m\u001b[0;34m:\u001b[0m\u001b[0;34m\u001b[0m\u001b[0;34m\u001b[0m\u001b[0m\n\u001b[1;32m    182\u001b[0m                 \u001b[0;31m# FIXME: log the exception\u001b[0m\u001b[0;34m\u001b[0m\u001b[0;34m\u001b[0m\u001b[0m\n",
            "\u001b[0;32m<decorator-gen-2>\u001b[0m in \u001b[0;36m__call__\u001b[0;34m(self, obj)\u001b[0m\n",
            "\u001b[0;32m/usr/local/lib/python3.10/dist-packages/IPython/core/formatters.py\u001b[0m in \u001b[0;36mcatch_format_error\u001b[0;34m(method, self, *args, **kwargs)\u001b[0m\n\u001b[1;32m    222\u001b[0m     \u001b[0;34m\"\"\"show traceback on failed format call\"\"\"\u001b[0m\u001b[0;34m\u001b[0m\u001b[0;34m\u001b[0m\u001b[0m\n\u001b[1;32m    223\u001b[0m     \u001b[0;32mtry\u001b[0m\u001b[0;34m:\u001b[0m\u001b[0;34m\u001b[0m\u001b[0;34m\u001b[0m\u001b[0m\n\u001b[0;32m--> 224\u001b[0;31m         \u001b[0mr\u001b[0m \u001b[0;34m=\u001b[0m \u001b[0mmethod\u001b[0m\u001b[0;34m(\u001b[0m\u001b[0mself\u001b[0m\u001b[0;34m,\u001b[0m \u001b[0;34m*\u001b[0m\u001b[0margs\u001b[0m\u001b[0;34m,\u001b[0m \u001b[0;34m**\u001b[0m\u001b[0mkwargs\u001b[0m\u001b[0;34m)\u001b[0m\u001b[0;34m\u001b[0m\u001b[0;34m\u001b[0m\u001b[0m\n\u001b[0m\u001b[1;32m    225\u001b[0m     \u001b[0;32mexcept\u001b[0m \u001b[0mNotImplementedError\u001b[0m\u001b[0;34m:\u001b[0m\u001b[0;34m\u001b[0m\u001b[0;34m\u001b[0m\u001b[0m\n\u001b[1;32m    226\u001b[0m         \u001b[0;31m# don't warn on NotImplementedErrors\u001b[0m\u001b[0;34m\u001b[0m\u001b[0;34m\u001b[0m\u001b[0m\n",
            "\u001b[0;32m/usr/local/lib/python3.10/dist-packages/IPython/core/formatters.py\u001b[0m in \u001b[0;36m__call__\u001b[0;34m(self, obj)\u001b[0m\n\u001b[1;32m    339\u001b[0m                 \u001b[0;32mpass\u001b[0m\u001b[0;34m\u001b[0m\u001b[0;34m\u001b[0m\u001b[0m\n\u001b[1;32m    340\u001b[0m             \u001b[0;32melse\u001b[0m\u001b[0;34m:\u001b[0m\u001b[0;34m\u001b[0m\u001b[0;34m\u001b[0m\u001b[0m\n\u001b[0;32m--> 341\u001b[0;31m                 \u001b[0;32mreturn\u001b[0m \u001b[0mprinter\u001b[0m\u001b[0;34m(\u001b[0m\u001b[0mobj\u001b[0m\u001b[0;34m)\u001b[0m\u001b[0;34m\u001b[0m\u001b[0;34m\u001b[0m\u001b[0m\n\u001b[0m\u001b[1;32m    342\u001b[0m             \u001b[0;31m# Finally look for special method names\u001b[0m\u001b[0;34m\u001b[0m\u001b[0;34m\u001b[0m\u001b[0m\n\u001b[1;32m    343\u001b[0m             \u001b[0mmethod\u001b[0m \u001b[0;34m=\u001b[0m \u001b[0mget_real_method\u001b[0m\u001b[0;34m(\u001b[0m\u001b[0mobj\u001b[0m\u001b[0;34m,\u001b[0m \u001b[0mself\u001b[0m\u001b[0;34m.\u001b[0m\u001b[0mprint_method\u001b[0m\u001b[0;34m)\u001b[0m\u001b[0;34m\u001b[0m\u001b[0;34m\u001b[0m\u001b[0m\n",
            "\u001b[0;32m/usr/local/lib/python3.10/dist-packages/IPython/core/pylabtools.py\u001b[0m in \u001b[0;36mprint_figure\u001b[0;34m(fig, fmt, bbox_inches, base64, **kwargs)\u001b[0m\n\u001b[1;32m    149\u001b[0m         \u001b[0mFigureCanvasBase\u001b[0m\u001b[0;34m(\u001b[0m\u001b[0mfig\u001b[0m\u001b[0;34m)\u001b[0m\u001b[0;34m\u001b[0m\u001b[0;34m\u001b[0m\u001b[0m\n\u001b[1;32m    150\u001b[0m \u001b[0;34m\u001b[0m\u001b[0m\n\u001b[0;32m--> 151\u001b[0;31m     \u001b[0mfig\u001b[0m\u001b[0;34m.\u001b[0m\u001b[0mcanvas\u001b[0m\u001b[0;34m.\u001b[0m\u001b[0mprint_figure\u001b[0m\u001b[0;34m(\u001b[0m\u001b[0mbytes_io\u001b[0m\u001b[0;34m,\u001b[0m \u001b[0;34m**\u001b[0m\u001b[0mkw\u001b[0m\u001b[0;34m)\u001b[0m\u001b[0;34m\u001b[0m\u001b[0;34m\u001b[0m\u001b[0m\n\u001b[0m\u001b[1;32m    152\u001b[0m     \u001b[0mdata\u001b[0m \u001b[0;34m=\u001b[0m \u001b[0mbytes_io\u001b[0m\u001b[0;34m.\u001b[0m\u001b[0mgetvalue\u001b[0m\u001b[0;34m(\u001b[0m\u001b[0;34m)\u001b[0m\u001b[0;34m\u001b[0m\u001b[0;34m\u001b[0m\u001b[0m\n\u001b[1;32m    153\u001b[0m     \u001b[0;32mif\u001b[0m \u001b[0mfmt\u001b[0m \u001b[0;34m==\u001b[0m \u001b[0;34m'svg'\u001b[0m\u001b[0;34m:\u001b[0m\u001b[0;34m\u001b[0m\u001b[0;34m\u001b[0m\u001b[0m\n",
            "\u001b[0;32m/usr/local/lib/python3.10/dist-packages/matplotlib/backend_bases.py\u001b[0m in \u001b[0;36mprint_figure\u001b[0;34m(self, filename, dpi, facecolor, edgecolor, orientation, format, bbox_inches, pad_inches, bbox_extra_artists, backend, **kwargs)\u001b[0m\n\u001b[1;32m   2340\u001b[0m                 )\n\u001b[1;32m   2341\u001b[0m                 \u001b[0;32mwith\u001b[0m \u001b[0mgetattr\u001b[0m\u001b[0;34m(\u001b[0m\u001b[0mrenderer\u001b[0m\u001b[0;34m,\u001b[0m \u001b[0;34m\"_draw_disabled\"\u001b[0m\u001b[0;34m,\u001b[0m \u001b[0mnullcontext\u001b[0m\u001b[0;34m)\u001b[0m\u001b[0;34m(\u001b[0m\u001b[0;34m)\u001b[0m\u001b[0;34m:\u001b[0m\u001b[0;34m\u001b[0m\u001b[0;34m\u001b[0m\u001b[0m\n\u001b[0;32m-> 2342\u001b[0;31m                     \u001b[0mself\u001b[0m\u001b[0;34m.\u001b[0m\u001b[0mfigure\u001b[0m\u001b[0;34m.\u001b[0m\u001b[0mdraw\u001b[0m\u001b[0;34m(\u001b[0m\u001b[0mrenderer\u001b[0m\u001b[0;34m)\u001b[0m\u001b[0;34m\u001b[0m\u001b[0;34m\u001b[0m\u001b[0m\n\u001b[0m\u001b[1;32m   2343\u001b[0m \u001b[0;34m\u001b[0m\u001b[0m\n\u001b[1;32m   2344\u001b[0m             \u001b[0;32mif\u001b[0m \u001b[0mbbox_inches\u001b[0m\u001b[0;34m:\u001b[0m\u001b[0;34m\u001b[0m\u001b[0;34m\u001b[0m\u001b[0m\n",
            "\u001b[0;32m/usr/local/lib/python3.10/dist-packages/matplotlib/artist.py\u001b[0m in \u001b[0;36mdraw_wrapper\u001b[0;34m(artist, renderer, *args, **kwargs)\u001b[0m\n\u001b[1;32m     93\u001b[0m     \u001b[0;34m@\u001b[0m\u001b[0mwraps\u001b[0m\u001b[0;34m(\u001b[0m\u001b[0mdraw\u001b[0m\u001b[0;34m)\u001b[0m\u001b[0;34m\u001b[0m\u001b[0;34m\u001b[0m\u001b[0m\n\u001b[1;32m     94\u001b[0m     \u001b[0;32mdef\u001b[0m \u001b[0mdraw_wrapper\u001b[0m\u001b[0;34m(\u001b[0m\u001b[0martist\u001b[0m\u001b[0;34m,\u001b[0m \u001b[0mrenderer\u001b[0m\u001b[0;34m,\u001b[0m \u001b[0;34m*\u001b[0m\u001b[0margs\u001b[0m\u001b[0;34m,\u001b[0m \u001b[0;34m**\u001b[0m\u001b[0mkwargs\u001b[0m\u001b[0;34m)\u001b[0m\u001b[0;34m:\u001b[0m\u001b[0;34m\u001b[0m\u001b[0;34m\u001b[0m\u001b[0m\n\u001b[0;32m---> 95\u001b[0;31m         \u001b[0mresult\u001b[0m \u001b[0;34m=\u001b[0m \u001b[0mdraw\u001b[0m\u001b[0;34m(\u001b[0m\u001b[0martist\u001b[0m\u001b[0;34m,\u001b[0m \u001b[0mrenderer\u001b[0m\u001b[0;34m,\u001b[0m \u001b[0;34m*\u001b[0m\u001b[0margs\u001b[0m\u001b[0;34m,\u001b[0m \u001b[0;34m**\u001b[0m\u001b[0mkwargs\u001b[0m\u001b[0;34m)\u001b[0m\u001b[0;34m\u001b[0m\u001b[0;34m\u001b[0m\u001b[0m\n\u001b[0m\u001b[1;32m     96\u001b[0m         \u001b[0;32mif\u001b[0m \u001b[0mrenderer\u001b[0m\u001b[0;34m.\u001b[0m\u001b[0m_rasterizing\u001b[0m\u001b[0;34m:\u001b[0m\u001b[0;34m\u001b[0m\u001b[0;34m\u001b[0m\u001b[0m\n\u001b[1;32m     97\u001b[0m             \u001b[0mrenderer\u001b[0m\u001b[0;34m.\u001b[0m\u001b[0mstop_rasterizing\u001b[0m\u001b[0;34m(\u001b[0m\u001b[0;34m)\u001b[0m\u001b[0;34m\u001b[0m\u001b[0;34m\u001b[0m\u001b[0m\n",
            "\u001b[0;32m/usr/local/lib/python3.10/dist-packages/matplotlib/artist.py\u001b[0m in \u001b[0;36mdraw_wrapper\u001b[0;34m(artist, renderer)\u001b[0m\n\u001b[1;32m     70\u001b[0m                 \u001b[0mrenderer\u001b[0m\u001b[0;34m.\u001b[0m\u001b[0mstart_filter\u001b[0m\u001b[0;34m(\u001b[0m\u001b[0;34m)\u001b[0m\u001b[0;34m\u001b[0m\u001b[0;34m\u001b[0m\u001b[0m\n\u001b[1;32m     71\u001b[0m \u001b[0;34m\u001b[0m\u001b[0m\n\u001b[0;32m---> 72\u001b[0;31m             \u001b[0;32mreturn\u001b[0m \u001b[0mdraw\u001b[0m\u001b[0;34m(\u001b[0m\u001b[0martist\u001b[0m\u001b[0;34m,\u001b[0m \u001b[0mrenderer\u001b[0m\u001b[0;34m)\u001b[0m\u001b[0;34m\u001b[0m\u001b[0;34m\u001b[0m\u001b[0m\n\u001b[0m\u001b[1;32m     73\u001b[0m         \u001b[0;32mfinally\u001b[0m\u001b[0;34m:\u001b[0m\u001b[0;34m\u001b[0m\u001b[0;34m\u001b[0m\u001b[0m\n\u001b[1;32m     74\u001b[0m             \u001b[0;32mif\u001b[0m \u001b[0martist\u001b[0m\u001b[0;34m.\u001b[0m\u001b[0mget_agg_filter\u001b[0m\u001b[0;34m(\u001b[0m\u001b[0;34m)\u001b[0m \u001b[0;32mis\u001b[0m \u001b[0;32mnot\u001b[0m \u001b[0;32mNone\u001b[0m\u001b[0;34m:\u001b[0m\u001b[0;34m\u001b[0m\u001b[0;34m\u001b[0m\u001b[0m\n",
            "\u001b[0;32m/usr/local/lib/python3.10/dist-packages/matplotlib/figure.py\u001b[0m in \u001b[0;36mdraw\u001b[0;34m(self, renderer)\u001b[0m\n\u001b[1;32m   3138\u001b[0m \u001b[0;34m\u001b[0m\u001b[0m\n\u001b[1;32m   3139\u001b[0m             \u001b[0mself\u001b[0m\u001b[0;34m.\u001b[0m\u001b[0mpatch\u001b[0m\u001b[0;34m.\u001b[0m\u001b[0mdraw\u001b[0m\u001b[0;34m(\u001b[0m\u001b[0mrenderer\u001b[0m\u001b[0;34m)\u001b[0m\u001b[0;34m\u001b[0m\u001b[0;34m\u001b[0m\u001b[0m\n\u001b[0;32m-> 3140\u001b[0;31m             mimage._draw_list_compositing_images(\n\u001b[0m\u001b[1;32m   3141\u001b[0m                 renderer, self, artists, self.suppressComposite)\n\u001b[1;32m   3142\u001b[0m \u001b[0;34m\u001b[0m\u001b[0m\n",
            "\u001b[0;32m/usr/local/lib/python3.10/dist-packages/matplotlib/image.py\u001b[0m in \u001b[0;36m_draw_list_compositing_images\u001b[0;34m(renderer, parent, artists, suppress_composite)\u001b[0m\n\u001b[1;32m    129\u001b[0m     \u001b[0;32mif\u001b[0m \u001b[0mnot_composite\u001b[0m \u001b[0;32mor\u001b[0m \u001b[0;32mnot\u001b[0m \u001b[0mhas_images\u001b[0m\u001b[0;34m:\u001b[0m\u001b[0;34m\u001b[0m\u001b[0;34m\u001b[0m\u001b[0m\n\u001b[1;32m    130\u001b[0m         \u001b[0;32mfor\u001b[0m \u001b[0ma\u001b[0m \u001b[0;32min\u001b[0m \u001b[0martists\u001b[0m\u001b[0;34m:\u001b[0m\u001b[0;34m\u001b[0m\u001b[0;34m\u001b[0m\u001b[0m\n\u001b[0;32m--> 131\u001b[0;31m             \u001b[0ma\u001b[0m\u001b[0;34m.\u001b[0m\u001b[0mdraw\u001b[0m\u001b[0;34m(\u001b[0m\u001b[0mrenderer\u001b[0m\u001b[0;34m)\u001b[0m\u001b[0;34m\u001b[0m\u001b[0;34m\u001b[0m\u001b[0m\n\u001b[0m\u001b[1;32m    132\u001b[0m     \u001b[0;32melse\u001b[0m\u001b[0;34m:\u001b[0m\u001b[0;34m\u001b[0m\u001b[0;34m\u001b[0m\u001b[0m\n\u001b[1;32m    133\u001b[0m         \u001b[0;31m# Composite any adjacent images together\u001b[0m\u001b[0;34m\u001b[0m\u001b[0;34m\u001b[0m\u001b[0m\n",
            "\u001b[0;32m/usr/local/lib/python3.10/dist-packages/matplotlib/artist.py\u001b[0m in \u001b[0;36mdraw_wrapper\u001b[0;34m(artist, renderer)\u001b[0m\n\u001b[1;32m     70\u001b[0m                 \u001b[0mrenderer\u001b[0m\u001b[0;34m.\u001b[0m\u001b[0mstart_filter\u001b[0m\u001b[0;34m(\u001b[0m\u001b[0;34m)\u001b[0m\u001b[0;34m\u001b[0m\u001b[0;34m\u001b[0m\u001b[0m\n\u001b[1;32m     71\u001b[0m \u001b[0;34m\u001b[0m\u001b[0m\n\u001b[0;32m---> 72\u001b[0;31m             \u001b[0;32mreturn\u001b[0m \u001b[0mdraw\u001b[0m\u001b[0;34m(\u001b[0m\u001b[0martist\u001b[0m\u001b[0;34m,\u001b[0m \u001b[0mrenderer\u001b[0m\u001b[0;34m)\u001b[0m\u001b[0;34m\u001b[0m\u001b[0;34m\u001b[0m\u001b[0m\n\u001b[0m\u001b[1;32m     73\u001b[0m         \u001b[0;32mfinally\u001b[0m\u001b[0;34m:\u001b[0m\u001b[0;34m\u001b[0m\u001b[0;34m\u001b[0m\u001b[0m\n\u001b[1;32m     74\u001b[0m             \u001b[0;32mif\u001b[0m \u001b[0martist\u001b[0m\u001b[0;34m.\u001b[0m\u001b[0mget_agg_filter\u001b[0m\u001b[0;34m(\u001b[0m\u001b[0;34m)\u001b[0m \u001b[0;32mis\u001b[0m \u001b[0;32mnot\u001b[0m \u001b[0;32mNone\u001b[0m\u001b[0;34m:\u001b[0m\u001b[0;34m\u001b[0m\u001b[0;34m\u001b[0m\u001b[0m\n",
            "\u001b[0;32m/usr/local/lib/python3.10/dist-packages/matplotlib/axes/_base.py\u001b[0m in \u001b[0;36mdraw\u001b[0;34m(self, renderer)\u001b[0m\n\u001b[1;32m   3062\u001b[0m             \u001b[0m_draw_rasterized\u001b[0m\u001b[0;34m(\u001b[0m\u001b[0mself\u001b[0m\u001b[0;34m.\u001b[0m\u001b[0mfigure\u001b[0m\u001b[0;34m,\u001b[0m \u001b[0martists_rasterized\u001b[0m\u001b[0;34m,\u001b[0m \u001b[0mrenderer\u001b[0m\u001b[0;34m)\u001b[0m\u001b[0;34m\u001b[0m\u001b[0;34m\u001b[0m\u001b[0m\n\u001b[1;32m   3063\u001b[0m \u001b[0;34m\u001b[0m\u001b[0m\n\u001b[0;32m-> 3064\u001b[0;31m         mimage._draw_list_compositing_images(\n\u001b[0m\u001b[1;32m   3065\u001b[0m             renderer, self, artists, self.figure.suppressComposite)\n\u001b[1;32m   3066\u001b[0m \u001b[0;34m\u001b[0m\u001b[0m\n",
            "\u001b[0;32m/usr/local/lib/python3.10/dist-packages/matplotlib/image.py\u001b[0m in \u001b[0;36m_draw_list_compositing_images\u001b[0;34m(renderer, parent, artists, suppress_composite)\u001b[0m\n\u001b[1;32m    129\u001b[0m     \u001b[0;32mif\u001b[0m \u001b[0mnot_composite\u001b[0m \u001b[0;32mor\u001b[0m \u001b[0;32mnot\u001b[0m \u001b[0mhas_images\u001b[0m\u001b[0;34m:\u001b[0m\u001b[0;34m\u001b[0m\u001b[0;34m\u001b[0m\u001b[0m\n\u001b[1;32m    130\u001b[0m         \u001b[0;32mfor\u001b[0m \u001b[0ma\u001b[0m \u001b[0;32min\u001b[0m \u001b[0martists\u001b[0m\u001b[0;34m:\u001b[0m\u001b[0;34m\u001b[0m\u001b[0;34m\u001b[0m\u001b[0m\n\u001b[0;32m--> 131\u001b[0;31m             \u001b[0ma\u001b[0m\u001b[0;34m.\u001b[0m\u001b[0mdraw\u001b[0m\u001b[0;34m(\u001b[0m\u001b[0mrenderer\u001b[0m\u001b[0;34m)\u001b[0m\u001b[0;34m\u001b[0m\u001b[0;34m\u001b[0m\u001b[0m\n\u001b[0m\u001b[1;32m    132\u001b[0m     \u001b[0;32melse\u001b[0m\u001b[0;34m:\u001b[0m\u001b[0;34m\u001b[0m\u001b[0;34m\u001b[0m\u001b[0m\n\u001b[1;32m    133\u001b[0m         \u001b[0;31m# Composite any adjacent images together\u001b[0m\u001b[0;34m\u001b[0m\u001b[0;34m\u001b[0m\u001b[0m\n",
            "\u001b[0;32m/usr/local/lib/python3.10/dist-packages/matplotlib/artist.py\u001b[0m in \u001b[0;36mdraw_wrapper\u001b[0;34m(artist, renderer)\u001b[0m\n\u001b[1;32m     70\u001b[0m                 \u001b[0mrenderer\u001b[0m\u001b[0;34m.\u001b[0m\u001b[0mstart_filter\u001b[0m\u001b[0;34m(\u001b[0m\u001b[0;34m)\u001b[0m\u001b[0;34m\u001b[0m\u001b[0;34m\u001b[0m\u001b[0m\n\u001b[1;32m     71\u001b[0m \u001b[0;34m\u001b[0m\u001b[0m\n\u001b[0;32m---> 72\u001b[0;31m             \u001b[0;32mreturn\u001b[0m \u001b[0mdraw\u001b[0m\u001b[0;34m(\u001b[0m\u001b[0martist\u001b[0m\u001b[0;34m,\u001b[0m \u001b[0mrenderer\u001b[0m\u001b[0;34m)\u001b[0m\u001b[0;34m\u001b[0m\u001b[0;34m\u001b[0m\u001b[0m\n\u001b[0m\u001b[1;32m     73\u001b[0m         \u001b[0;32mfinally\u001b[0m\u001b[0;34m:\u001b[0m\u001b[0;34m\u001b[0m\u001b[0;34m\u001b[0m\u001b[0m\n\u001b[1;32m     74\u001b[0m             \u001b[0;32mif\u001b[0m \u001b[0martist\u001b[0m\u001b[0;34m.\u001b[0m\u001b[0mget_agg_filter\u001b[0m\u001b[0;34m(\u001b[0m\u001b[0;34m)\u001b[0m \u001b[0;32mis\u001b[0m \u001b[0;32mnot\u001b[0m \u001b[0;32mNone\u001b[0m\u001b[0;34m:\u001b[0m\u001b[0;34m\u001b[0m\u001b[0;34m\u001b[0m\u001b[0m\n",
            "\u001b[0;32m/usr/local/lib/python3.10/dist-packages/matplotlib/legend.py\u001b[0m in \u001b[0;36mdraw\u001b[0;34m(self, renderer)\u001b[0m\n\u001b[1;32m    732\u001b[0m \u001b[0;34m\u001b[0m\u001b[0m\n\u001b[1;32m    733\u001b[0m         \u001b[0mself\u001b[0m\u001b[0;34m.\u001b[0m\u001b[0mlegendPatch\u001b[0m\u001b[0;34m.\u001b[0m\u001b[0mdraw\u001b[0m\u001b[0;34m(\u001b[0m\u001b[0mrenderer\u001b[0m\u001b[0;34m)\u001b[0m\u001b[0;34m\u001b[0m\u001b[0;34m\u001b[0m\u001b[0m\n\u001b[0;32m--> 734\u001b[0;31m         \u001b[0mself\u001b[0m\u001b[0;34m.\u001b[0m\u001b[0m_legend_box\u001b[0m\u001b[0;34m.\u001b[0m\u001b[0mdraw\u001b[0m\u001b[0;34m(\u001b[0m\u001b[0mrenderer\u001b[0m\u001b[0;34m)\u001b[0m\u001b[0;34m\u001b[0m\u001b[0;34m\u001b[0m\u001b[0m\n\u001b[0m\u001b[1;32m    735\u001b[0m \u001b[0;34m\u001b[0m\u001b[0m\n\u001b[1;32m    736\u001b[0m         \u001b[0mrenderer\u001b[0m\u001b[0;34m.\u001b[0m\u001b[0mclose_group\u001b[0m\u001b[0;34m(\u001b[0m\u001b[0;34m'legend'\u001b[0m\u001b[0;34m)\u001b[0m\u001b[0;34m\u001b[0m\u001b[0;34m\u001b[0m\u001b[0m\n",
            "\u001b[0;32m/usr/local/lib/python3.10/dist-packages/matplotlib/artist.py\u001b[0m in \u001b[0;36mdraw_wrapper\u001b[0;34m(artist, renderer, *args, **kwargs)\u001b[0m\n\u001b[1;32m     37\u001b[0m             \u001b[0mrenderer\u001b[0m\u001b[0;34m.\u001b[0m\u001b[0m_rasterizing\u001b[0m \u001b[0;34m=\u001b[0m \u001b[0;32mFalse\u001b[0m\u001b[0;34m\u001b[0m\u001b[0;34m\u001b[0m\u001b[0m\n\u001b[1;32m     38\u001b[0m \u001b[0;34m\u001b[0m\u001b[0m\n\u001b[0;32m---> 39\u001b[0;31m         \u001b[0;32mreturn\u001b[0m \u001b[0mdraw\u001b[0m\u001b[0;34m(\u001b[0m\u001b[0martist\u001b[0m\u001b[0;34m,\u001b[0m \u001b[0mrenderer\u001b[0m\u001b[0;34m,\u001b[0m \u001b[0;34m*\u001b[0m\u001b[0margs\u001b[0m\u001b[0;34m,\u001b[0m \u001b[0;34m**\u001b[0m\u001b[0mkwargs\u001b[0m\u001b[0;34m)\u001b[0m\u001b[0;34m\u001b[0m\u001b[0;34m\u001b[0m\u001b[0m\n\u001b[0m\u001b[1;32m     40\u001b[0m \u001b[0;34m\u001b[0m\u001b[0m\n\u001b[1;32m     41\u001b[0m     \u001b[0mdraw_wrapper\u001b[0m\u001b[0;34m.\u001b[0m\u001b[0m_supports_rasterization\u001b[0m \u001b[0;34m=\u001b[0m \u001b[0;32mFalse\u001b[0m\u001b[0;34m\u001b[0m\u001b[0;34m\u001b[0m\u001b[0m\n",
            "\u001b[0;32m/usr/local/lib/python3.10/dist-packages/matplotlib/offsetbox.py\u001b[0m in \u001b[0;36mdraw\u001b[0;34m(self, renderer)\u001b[0m\n\u001b[1;32m    414\u001b[0m         \u001b[0;32mfor\u001b[0m \u001b[0mc\u001b[0m\u001b[0;34m,\u001b[0m \u001b[0;34m(\u001b[0m\u001b[0mox\u001b[0m\u001b[0;34m,\u001b[0m \u001b[0moy\u001b[0m\u001b[0;34m)\u001b[0m \u001b[0;32min\u001b[0m \u001b[0mzip\u001b[0m\u001b[0;34m(\u001b[0m\u001b[0mself\u001b[0m\u001b[0;34m.\u001b[0m\u001b[0mget_visible_children\u001b[0m\u001b[0;34m(\u001b[0m\u001b[0;34m)\u001b[0m\u001b[0;34m,\u001b[0m \u001b[0moffsets\u001b[0m\u001b[0;34m)\u001b[0m\u001b[0;34m:\u001b[0m\u001b[0;34m\u001b[0m\u001b[0;34m\u001b[0m\u001b[0m\n\u001b[1;32m    415\u001b[0m             \u001b[0mc\u001b[0m\u001b[0;34m.\u001b[0m\u001b[0mset_offset\u001b[0m\u001b[0;34m(\u001b[0m\u001b[0;34m(\u001b[0m\u001b[0mpx\u001b[0m \u001b[0;34m+\u001b[0m \u001b[0mox\u001b[0m\u001b[0;34m,\u001b[0m \u001b[0mpy\u001b[0m \u001b[0;34m+\u001b[0m \u001b[0moy\u001b[0m\u001b[0;34m)\u001b[0m\u001b[0;34m)\u001b[0m\u001b[0;34m\u001b[0m\u001b[0;34m\u001b[0m\u001b[0m\n\u001b[0;32m--> 416\u001b[0;31m             \u001b[0mc\u001b[0m\u001b[0;34m.\u001b[0m\u001b[0mdraw\u001b[0m\u001b[0;34m(\u001b[0m\u001b[0mrenderer\u001b[0m\u001b[0;34m)\u001b[0m\u001b[0;34m\u001b[0m\u001b[0;34m\u001b[0m\u001b[0m\n\u001b[0m\u001b[1;32m    417\u001b[0m         \u001b[0m_bbox_artist\u001b[0m\u001b[0;34m(\u001b[0m\u001b[0mself\u001b[0m\u001b[0;34m,\u001b[0m \u001b[0mrenderer\u001b[0m\u001b[0;34m,\u001b[0m \u001b[0mfill\u001b[0m\u001b[0;34m=\u001b[0m\u001b[0;32mFalse\u001b[0m\u001b[0;34m,\u001b[0m \u001b[0mprops\u001b[0m\u001b[0;34m=\u001b[0m\u001b[0mdict\u001b[0m\u001b[0;34m(\u001b[0m\u001b[0mpad\u001b[0m\u001b[0;34m=\u001b[0m\u001b[0;36m0.\u001b[0m\u001b[0;34m)\u001b[0m\u001b[0;34m)\u001b[0m\u001b[0;34m\u001b[0m\u001b[0;34m\u001b[0m\u001b[0m\n\u001b[1;32m    418\u001b[0m         \u001b[0mself\u001b[0m\u001b[0;34m.\u001b[0m\u001b[0mstale\u001b[0m \u001b[0;34m=\u001b[0m \u001b[0;32mFalse\u001b[0m\u001b[0;34m\u001b[0m\u001b[0;34m\u001b[0m\u001b[0m\n",
            "\u001b[0;32m/usr/local/lib/python3.10/dist-packages/matplotlib/artist.py\u001b[0m in \u001b[0;36mdraw_wrapper\u001b[0;34m(artist, renderer, *args, **kwargs)\u001b[0m\n\u001b[1;32m     37\u001b[0m             \u001b[0mrenderer\u001b[0m\u001b[0;34m.\u001b[0m\u001b[0m_rasterizing\u001b[0m \u001b[0;34m=\u001b[0m \u001b[0;32mFalse\u001b[0m\u001b[0;34m\u001b[0m\u001b[0;34m\u001b[0m\u001b[0m\n\u001b[1;32m     38\u001b[0m \u001b[0;34m\u001b[0m\u001b[0m\n\u001b[0;32m---> 39\u001b[0;31m         \u001b[0;32mreturn\u001b[0m \u001b[0mdraw\u001b[0m\u001b[0;34m(\u001b[0m\u001b[0martist\u001b[0m\u001b[0;34m,\u001b[0m \u001b[0mrenderer\u001b[0m\u001b[0;34m,\u001b[0m \u001b[0;34m*\u001b[0m\u001b[0margs\u001b[0m\u001b[0;34m,\u001b[0m \u001b[0;34m**\u001b[0m\u001b[0mkwargs\u001b[0m\u001b[0;34m)\u001b[0m\u001b[0;34m\u001b[0m\u001b[0;34m\u001b[0m\u001b[0m\n\u001b[0m\u001b[1;32m     40\u001b[0m \u001b[0;34m\u001b[0m\u001b[0m\n\u001b[1;32m     41\u001b[0m     \u001b[0mdraw_wrapper\u001b[0m\u001b[0;34m.\u001b[0m\u001b[0m_supports_rasterization\u001b[0m \u001b[0;34m=\u001b[0m \u001b[0;32mFalse\u001b[0m\u001b[0;34m\u001b[0m\u001b[0;34m\u001b[0m\u001b[0m\n",
            "\u001b[0;32m/usr/local/lib/python3.10/dist-packages/matplotlib/offsetbox.py\u001b[0m in \u001b[0;36mdraw\u001b[0;34m(self, renderer)\u001b[0m\n\u001b[1;32m    414\u001b[0m         \u001b[0;32mfor\u001b[0m \u001b[0mc\u001b[0m\u001b[0;34m,\u001b[0m \u001b[0;34m(\u001b[0m\u001b[0mox\u001b[0m\u001b[0;34m,\u001b[0m \u001b[0moy\u001b[0m\u001b[0;34m)\u001b[0m \u001b[0;32min\u001b[0m \u001b[0mzip\u001b[0m\u001b[0;34m(\u001b[0m\u001b[0mself\u001b[0m\u001b[0;34m.\u001b[0m\u001b[0mget_visible_children\u001b[0m\u001b[0;34m(\u001b[0m\u001b[0;34m)\u001b[0m\u001b[0;34m,\u001b[0m \u001b[0moffsets\u001b[0m\u001b[0;34m)\u001b[0m\u001b[0;34m:\u001b[0m\u001b[0;34m\u001b[0m\u001b[0;34m\u001b[0m\u001b[0m\n\u001b[1;32m    415\u001b[0m             \u001b[0mc\u001b[0m\u001b[0;34m.\u001b[0m\u001b[0mset_offset\u001b[0m\u001b[0;34m(\u001b[0m\u001b[0;34m(\u001b[0m\u001b[0mpx\u001b[0m \u001b[0;34m+\u001b[0m \u001b[0mox\u001b[0m\u001b[0;34m,\u001b[0m \u001b[0mpy\u001b[0m \u001b[0;34m+\u001b[0m \u001b[0moy\u001b[0m\u001b[0;34m)\u001b[0m\u001b[0;34m)\u001b[0m\u001b[0;34m\u001b[0m\u001b[0;34m\u001b[0m\u001b[0m\n\u001b[0;32m--> 416\u001b[0;31m             \u001b[0mc\u001b[0m\u001b[0;34m.\u001b[0m\u001b[0mdraw\u001b[0m\u001b[0;34m(\u001b[0m\u001b[0mrenderer\u001b[0m\u001b[0;34m)\u001b[0m\u001b[0;34m\u001b[0m\u001b[0;34m\u001b[0m\u001b[0m\n\u001b[0m\u001b[1;32m    417\u001b[0m         \u001b[0m_bbox_artist\u001b[0m\u001b[0;34m(\u001b[0m\u001b[0mself\u001b[0m\u001b[0;34m,\u001b[0m \u001b[0mrenderer\u001b[0m\u001b[0;34m,\u001b[0m \u001b[0mfill\u001b[0m\u001b[0;34m=\u001b[0m\u001b[0;32mFalse\u001b[0m\u001b[0;34m,\u001b[0m \u001b[0mprops\u001b[0m\u001b[0;34m=\u001b[0m\u001b[0mdict\u001b[0m\u001b[0;34m(\u001b[0m\u001b[0mpad\u001b[0m\u001b[0;34m=\u001b[0m\u001b[0;36m0.\u001b[0m\u001b[0;34m)\u001b[0m\u001b[0;34m)\u001b[0m\u001b[0;34m\u001b[0m\u001b[0;34m\u001b[0m\u001b[0m\n\u001b[1;32m    418\u001b[0m         \u001b[0mself\u001b[0m\u001b[0;34m.\u001b[0m\u001b[0mstale\u001b[0m \u001b[0;34m=\u001b[0m \u001b[0;32mFalse\u001b[0m\u001b[0;34m\u001b[0m\u001b[0;34m\u001b[0m\u001b[0m\n",
            "\u001b[0;32m/usr/local/lib/python3.10/dist-packages/matplotlib/artist.py\u001b[0m in \u001b[0;36mdraw_wrapper\u001b[0;34m(artist, renderer, *args, **kwargs)\u001b[0m\n\u001b[1;32m     37\u001b[0m             \u001b[0mrenderer\u001b[0m\u001b[0;34m.\u001b[0m\u001b[0m_rasterizing\u001b[0m \u001b[0;34m=\u001b[0m \u001b[0;32mFalse\u001b[0m\u001b[0;34m\u001b[0m\u001b[0;34m\u001b[0m\u001b[0m\n\u001b[1;32m     38\u001b[0m \u001b[0;34m\u001b[0m\u001b[0m\n\u001b[0;32m---> 39\u001b[0;31m         \u001b[0;32mreturn\u001b[0m \u001b[0mdraw\u001b[0m\u001b[0;34m(\u001b[0m\u001b[0martist\u001b[0m\u001b[0;34m,\u001b[0m \u001b[0mrenderer\u001b[0m\u001b[0;34m,\u001b[0m \u001b[0;34m*\u001b[0m\u001b[0margs\u001b[0m\u001b[0;34m,\u001b[0m \u001b[0;34m**\u001b[0m\u001b[0mkwargs\u001b[0m\u001b[0;34m)\u001b[0m\u001b[0;34m\u001b[0m\u001b[0;34m\u001b[0m\u001b[0m\n\u001b[0m\u001b[1;32m     40\u001b[0m \u001b[0;34m\u001b[0m\u001b[0m\n\u001b[1;32m     41\u001b[0m     \u001b[0mdraw_wrapper\u001b[0m\u001b[0;34m.\u001b[0m\u001b[0m_supports_rasterization\u001b[0m \u001b[0;34m=\u001b[0m \u001b[0;32mFalse\u001b[0m\u001b[0;34m\u001b[0m\u001b[0;34m\u001b[0m\u001b[0m\n",
            "\u001b[0;32m/usr/local/lib/python3.10/dist-packages/matplotlib/offsetbox.py\u001b[0m in \u001b[0;36mdraw\u001b[0;34m(self, renderer)\u001b[0m\n\u001b[1;32m    410\u001b[0m         \u001b[0mto\u001b[0m \u001b[0mthe\u001b[0m \u001b[0mgiven\u001b[0m \u001b[0;34m*\u001b[0m\u001b[0mrenderer\u001b[0m\u001b[0;34m*\u001b[0m\u001b[0;34m.\u001b[0m\u001b[0;34m\u001b[0m\u001b[0;34m\u001b[0m\u001b[0m\n\u001b[1;32m    411\u001b[0m         \"\"\"\n\u001b[0;32m--> 412\u001b[0;31m         \u001b[0mbbox\u001b[0m\u001b[0;34m,\u001b[0m \u001b[0moffsets\u001b[0m \u001b[0;34m=\u001b[0m \u001b[0mself\u001b[0m\u001b[0;34m.\u001b[0m\u001b[0m_get_bbox_and_child_offsets\u001b[0m\u001b[0;34m(\u001b[0m\u001b[0mrenderer\u001b[0m\u001b[0;34m)\u001b[0m\u001b[0;34m\u001b[0m\u001b[0;34m\u001b[0m\u001b[0m\n\u001b[0m\u001b[1;32m    413\u001b[0m         \u001b[0mpx\u001b[0m\u001b[0;34m,\u001b[0m \u001b[0mpy\u001b[0m \u001b[0;34m=\u001b[0m \u001b[0mself\u001b[0m\u001b[0;34m.\u001b[0m\u001b[0mget_offset\u001b[0m\u001b[0;34m(\u001b[0m\u001b[0mbbox\u001b[0m\u001b[0;34m,\u001b[0m \u001b[0mrenderer\u001b[0m\u001b[0;34m)\u001b[0m\u001b[0;34m\u001b[0m\u001b[0;34m\u001b[0m\u001b[0m\n\u001b[1;32m    414\u001b[0m         \u001b[0;32mfor\u001b[0m \u001b[0mc\u001b[0m\u001b[0;34m,\u001b[0m \u001b[0;34m(\u001b[0m\u001b[0mox\u001b[0m\u001b[0;34m,\u001b[0m \u001b[0moy\u001b[0m\u001b[0;34m)\u001b[0m \u001b[0;32min\u001b[0m \u001b[0mzip\u001b[0m\u001b[0;34m(\u001b[0m\u001b[0mself\u001b[0m\u001b[0;34m.\u001b[0m\u001b[0mget_visible_children\u001b[0m\u001b[0;34m(\u001b[0m\u001b[0;34m)\u001b[0m\u001b[0;34m,\u001b[0m \u001b[0moffsets\u001b[0m\u001b[0;34m)\u001b[0m\u001b[0;34m:\u001b[0m\u001b[0;34m\u001b[0m\u001b[0;34m\u001b[0m\u001b[0m\n",
            "\u001b[0;32m/usr/local/lib/python3.10/dist-packages/matplotlib/offsetbox.py\u001b[0m in \u001b[0;36m_get_bbox_and_child_offsets\u001b[0;34m(self, renderer)\u001b[0m\n\u001b[1;32m    483\u001b[0m                     \u001b[0mc\u001b[0m\u001b[0;34m.\u001b[0m\u001b[0mset_width\u001b[0m\u001b[0;34m(\u001b[0m\u001b[0mself\u001b[0m\u001b[0;34m.\u001b[0m\u001b[0mwidth\u001b[0m\u001b[0;34m)\u001b[0m\u001b[0;34m\u001b[0m\u001b[0;34m\u001b[0m\u001b[0m\n\u001b[1;32m    484\u001b[0m \u001b[0;34m\u001b[0m\u001b[0m\n\u001b[0;32m--> 485\u001b[0;31m         \u001b[0mbboxes\u001b[0m \u001b[0;34m=\u001b[0m \u001b[0;34m[\u001b[0m\u001b[0mc\u001b[0m\u001b[0;34m.\u001b[0m\u001b[0mget_bbox\u001b[0m\u001b[0;34m(\u001b[0m\u001b[0mrenderer\u001b[0m\u001b[0;34m)\u001b[0m \u001b[0;32mfor\u001b[0m \u001b[0mc\u001b[0m \u001b[0;32min\u001b[0m \u001b[0mself\u001b[0m\u001b[0;34m.\u001b[0m\u001b[0mget_visible_children\u001b[0m\u001b[0;34m(\u001b[0m\u001b[0;34m)\u001b[0m\u001b[0;34m]\u001b[0m\u001b[0;34m\u001b[0m\u001b[0;34m\u001b[0m\u001b[0m\n\u001b[0m\u001b[1;32m    486\u001b[0m         (x0, x1), xoffsets = _get_aligned_offsets(\n\u001b[1;32m    487\u001b[0m             [bbox.intervalx for bbox in bboxes], self.width, self.align)\n",
            "\u001b[0;32m/usr/local/lib/python3.10/dist-packages/matplotlib/offsetbox.py\u001b[0m in \u001b[0;36m<listcomp>\u001b[0;34m(.0)\u001b[0m\n\u001b[1;32m    483\u001b[0m                     \u001b[0mc\u001b[0m\u001b[0;34m.\u001b[0m\u001b[0mset_width\u001b[0m\u001b[0;34m(\u001b[0m\u001b[0mself\u001b[0m\u001b[0;34m.\u001b[0m\u001b[0mwidth\u001b[0m\u001b[0;34m)\u001b[0m\u001b[0;34m\u001b[0m\u001b[0;34m\u001b[0m\u001b[0m\n\u001b[1;32m    484\u001b[0m \u001b[0;34m\u001b[0m\u001b[0m\n\u001b[0;32m--> 485\u001b[0;31m         \u001b[0mbboxes\u001b[0m \u001b[0;34m=\u001b[0m \u001b[0;34m[\u001b[0m\u001b[0mc\u001b[0m\u001b[0;34m.\u001b[0m\u001b[0mget_bbox\u001b[0m\u001b[0;34m(\u001b[0m\u001b[0mrenderer\u001b[0m\u001b[0;34m)\u001b[0m \u001b[0;32mfor\u001b[0m \u001b[0mc\u001b[0m \u001b[0;32min\u001b[0m \u001b[0mself\u001b[0m\u001b[0;34m.\u001b[0m\u001b[0mget_visible_children\u001b[0m\u001b[0;34m(\u001b[0m\u001b[0;34m)\u001b[0m\u001b[0;34m]\u001b[0m\u001b[0;34m\u001b[0m\u001b[0;34m\u001b[0m\u001b[0m\n\u001b[0m\u001b[1;32m    486\u001b[0m         (x0, x1), xoffsets = _get_aligned_offsets(\n\u001b[1;32m    487\u001b[0m             [bbox.intervalx for bbox in bboxes], self.width, self.align)\n",
            "\u001b[0;32m/usr/local/lib/python3.10/dist-packages/matplotlib/offsetbox.py\u001b[0m in \u001b[0;36mget_bbox\u001b[0;34m(self, renderer)\u001b[0m\n\u001b[1;32m    365\u001b[0m     \u001b[0;32mdef\u001b[0m \u001b[0mget_bbox\u001b[0m\u001b[0;34m(\u001b[0m\u001b[0mself\u001b[0m\u001b[0;34m,\u001b[0m \u001b[0mrenderer\u001b[0m\u001b[0;34m)\u001b[0m\u001b[0;34m:\u001b[0m\u001b[0;34m\u001b[0m\u001b[0;34m\u001b[0m\u001b[0m\n\u001b[1;32m    366\u001b[0m         \u001b[0;34m\"\"\"Return the bbox of the offsetbox, ignoring parent offsets.\"\"\"\u001b[0m\u001b[0;34m\u001b[0m\u001b[0;34m\u001b[0m\u001b[0m\n\u001b[0;32m--> 367\u001b[0;31m         \u001b[0mbbox\u001b[0m\u001b[0;34m,\u001b[0m \u001b[0moffsets\u001b[0m \u001b[0;34m=\u001b[0m \u001b[0mself\u001b[0m\u001b[0;34m.\u001b[0m\u001b[0m_get_bbox_and_child_offsets\u001b[0m\u001b[0;34m(\u001b[0m\u001b[0mrenderer\u001b[0m\u001b[0;34m)\u001b[0m\u001b[0;34m\u001b[0m\u001b[0;34m\u001b[0m\u001b[0m\n\u001b[0m\u001b[1;32m    368\u001b[0m         \u001b[0;32mreturn\u001b[0m \u001b[0mbbox\u001b[0m\u001b[0;34m\u001b[0m\u001b[0;34m\u001b[0m\u001b[0m\n\u001b[1;32m    369\u001b[0m \u001b[0;34m\u001b[0m\u001b[0m\n",
            "\u001b[0;32m/usr/local/lib/python3.10/dist-packages/matplotlib/offsetbox.py\u001b[0m in \u001b[0;36m_get_bbox_and_child_offsets\u001b[0;34m(self, renderer)\u001b[0m\n\u001b[1;32m    510\u001b[0m         \u001b[0msep\u001b[0m \u001b[0;34m=\u001b[0m \u001b[0mself\u001b[0m\u001b[0;34m.\u001b[0m\u001b[0msep\u001b[0m \u001b[0;34m*\u001b[0m \u001b[0mdpicor\u001b[0m\u001b[0;34m\u001b[0m\u001b[0;34m\u001b[0m\u001b[0m\n\u001b[1;32m    511\u001b[0m \u001b[0;34m\u001b[0m\u001b[0m\n\u001b[0;32m--> 512\u001b[0;31m         \u001b[0mbboxes\u001b[0m \u001b[0;34m=\u001b[0m \u001b[0;34m[\u001b[0m\u001b[0mc\u001b[0m\u001b[0;34m.\u001b[0m\u001b[0mget_bbox\u001b[0m\u001b[0;34m(\u001b[0m\u001b[0mrenderer\u001b[0m\u001b[0;34m)\u001b[0m \u001b[0;32mfor\u001b[0m \u001b[0mc\u001b[0m \u001b[0;32min\u001b[0m \u001b[0mself\u001b[0m\u001b[0;34m.\u001b[0m\u001b[0mget_visible_children\u001b[0m\u001b[0;34m(\u001b[0m\u001b[0;34m)\u001b[0m\u001b[0;34m]\u001b[0m\u001b[0;34m\u001b[0m\u001b[0;34m\u001b[0m\u001b[0m\n\u001b[0m\u001b[1;32m    513\u001b[0m         \u001b[0;32mif\u001b[0m \u001b[0;32mnot\u001b[0m \u001b[0mbboxes\u001b[0m\u001b[0;34m:\u001b[0m\u001b[0;34m\u001b[0m\u001b[0;34m\u001b[0m\u001b[0m\n\u001b[1;32m    514\u001b[0m             \u001b[0;32mreturn\u001b[0m \u001b[0mBbox\u001b[0m\u001b[0;34m.\u001b[0m\u001b[0mfrom_bounds\u001b[0m\u001b[0;34m(\u001b[0m\u001b[0;36m0\u001b[0m\u001b[0;34m,\u001b[0m \u001b[0;36m0\u001b[0m\u001b[0;34m,\u001b[0m \u001b[0;36m0\u001b[0m\u001b[0;34m,\u001b[0m \u001b[0;36m0\u001b[0m\u001b[0;34m)\u001b[0m\u001b[0;34m.\u001b[0m\u001b[0mpadded\u001b[0m\u001b[0;34m(\u001b[0m\u001b[0mpad\u001b[0m\u001b[0;34m)\u001b[0m\u001b[0;34m,\u001b[0m \u001b[0;34m[\u001b[0m\u001b[0;34m]\u001b[0m\u001b[0;34m\u001b[0m\u001b[0;34m\u001b[0m\u001b[0m\n",
            "\u001b[0;32m/usr/local/lib/python3.10/dist-packages/matplotlib/offsetbox.py\u001b[0m in \u001b[0;36m<listcomp>\u001b[0;34m(.0)\u001b[0m\n\u001b[1;32m    510\u001b[0m         \u001b[0msep\u001b[0m \u001b[0;34m=\u001b[0m \u001b[0mself\u001b[0m\u001b[0;34m.\u001b[0m\u001b[0msep\u001b[0m \u001b[0;34m*\u001b[0m \u001b[0mdpicor\u001b[0m\u001b[0;34m\u001b[0m\u001b[0;34m\u001b[0m\u001b[0m\n\u001b[1;32m    511\u001b[0m \u001b[0;34m\u001b[0m\u001b[0m\n\u001b[0;32m--> 512\u001b[0;31m         \u001b[0mbboxes\u001b[0m \u001b[0;34m=\u001b[0m \u001b[0;34m[\u001b[0m\u001b[0mc\u001b[0m\u001b[0;34m.\u001b[0m\u001b[0mget_bbox\u001b[0m\u001b[0;34m(\u001b[0m\u001b[0mrenderer\u001b[0m\u001b[0;34m)\u001b[0m \u001b[0;32mfor\u001b[0m \u001b[0mc\u001b[0m \u001b[0;32min\u001b[0m \u001b[0mself\u001b[0m\u001b[0;34m.\u001b[0m\u001b[0mget_visible_children\u001b[0m\u001b[0;34m(\u001b[0m\u001b[0;34m)\u001b[0m\u001b[0;34m]\u001b[0m\u001b[0;34m\u001b[0m\u001b[0;34m\u001b[0m\u001b[0m\n\u001b[0m\u001b[1;32m    513\u001b[0m         \u001b[0;32mif\u001b[0m \u001b[0;32mnot\u001b[0m \u001b[0mbboxes\u001b[0m\u001b[0;34m:\u001b[0m\u001b[0;34m\u001b[0m\u001b[0;34m\u001b[0m\u001b[0m\n\u001b[1;32m    514\u001b[0m             \u001b[0;32mreturn\u001b[0m \u001b[0mBbox\u001b[0m\u001b[0;34m.\u001b[0m\u001b[0mfrom_bounds\u001b[0m\u001b[0;34m(\u001b[0m\u001b[0;36m0\u001b[0m\u001b[0;34m,\u001b[0m \u001b[0;36m0\u001b[0m\u001b[0;34m,\u001b[0m \u001b[0;36m0\u001b[0m\u001b[0;34m,\u001b[0m \u001b[0;36m0\u001b[0m\u001b[0;34m)\u001b[0m\u001b[0;34m.\u001b[0m\u001b[0mpadded\u001b[0m\u001b[0;34m(\u001b[0m\u001b[0mpad\u001b[0m\u001b[0;34m)\u001b[0m\u001b[0;34m,\u001b[0m \u001b[0;34m[\u001b[0m\u001b[0;34m]\u001b[0m\u001b[0;34m\u001b[0m\u001b[0;34m\u001b[0m\u001b[0m\n",
            "\u001b[0;32m/usr/local/lib/python3.10/dist-packages/matplotlib/offsetbox.py\u001b[0m in \u001b[0;36mget_bbox\u001b[0;34m(self, renderer)\u001b[0m\n\u001b[1;32m    799\u001b[0m             ismath=\"TeX\" if self._text.get_usetex() else False)\n\u001b[1;32m    800\u001b[0m \u001b[0;34m\u001b[0m\u001b[0m\n\u001b[0;32m--> 801\u001b[0;31m         \u001b[0mbbox\u001b[0m\u001b[0;34m,\u001b[0m \u001b[0minfo\u001b[0m\u001b[0;34m,\u001b[0m \u001b[0myd\u001b[0m \u001b[0;34m=\u001b[0m \u001b[0mself\u001b[0m\u001b[0;34m.\u001b[0m\u001b[0m_text\u001b[0m\u001b[0;34m.\u001b[0m\u001b[0m_get_layout\u001b[0m\u001b[0;34m(\u001b[0m\u001b[0mrenderer\u001b[0m\u001b[0;34m)\u001b[0m\u001b[0;34m\u001b[0m\u001b[0;34m\u001b[0m\u001b[0m\n\u001b[0m\u001b[1;32m    802\u001b[0m         \u001b[0mw\u001b[0m\u001b[0;34m,\u001b[0m \u001b[0mh\u001b[0m \u001b[0;34m=\u001b[0m \u001b[0mbbox\u001b[0m\u001b[0;34m.\u001b[0m\u001b[0msize\u001b[0m\u001b[0;34m\u001b[0m\u001b[0;34m\u001b[0m\u001b[0m\n\u001b[1;32m    803\u001b[0m \u001b[0;34m\u001b[0m\u001b[0m\n",
            "\u001b[0;32m/usr/local/lib/python3.10/dist-packages/matplotlib/text.py\u001b[0m in \u001b[0;36m_get_layout\u001b[0;34m(self, renderer)\u001b[0m\n\u001b[1;32m    443\u001b[0m \u001b[0;34m\u001b[0m\u001b[0m\n\u001b[1;32m    444\u001b[0m         \u001b[0;31m# now rotate the bbox\u001b[0m\u001b[0;34m\u001b[0m\u001b[0;34m\u001b[0m\u001b[0m\n\u001b[0;32m--> 445\u001b[0;31m         \u001b[0mcorners_rotated\u001b[0m \u001b[0;34m=\u001b[0m \u001b[0mM\u001b[0m\u001b[0;34m.\u001b[0m\u001b[0mtransform\u001b[0m\u001b[0;34m(\u001b[0m\u001b[0mcorners_horiz\u001b[0m\u001b[0;34m)\u001b[0m\u001b[0;34m\u001b[0m\u001b[0;34m\u001b[0m\u001b[0m\n\u001b[0m\u001b[1;32m    446\u001b[0m         \u001b[0;31m# compute the bounds of the rotated box\u001b[0m\u001b[0;34m\u001b[0m\u001b[0;34m\u001b[0m\u001b[0m\n\u001b[1;32m    447\u001b[0m         \u001b[0mxmin\u001b[0m \u001b[0;34m=\u001b[0m \u001b[0mcorners_rotated\u001b[0m\u001b[0;34m[\u001b[0m\u001b[0;34m:\u001b[0m\u001b[0;34m,\u001b[0m \u001b[0;36m0\u001b[0m\u001b[0;34m]\u001b[0m\u001b[0;34m.\u001b[0m\u001b[0mmin\u001b[0m\u001b[0;34m(\u001b[0m\u001b[0;34m)\u001b[0m\u001b[0;34m\u001b[0m\u001b[0;34m\u001b[0m\u001b[0m\n",
            "\u001b[0;32m/usr/local/lib/python3.10/dist-packages/matplotlib/transforms.py\u001b[0m in \u001b[0;36mtransform\u001b[0;34m(self, values)\u001b[0m\n\u001b[1;32m   1777\u001b[0m     \u001b[0;32mdef\u001b[0m \u001b[0mtransform\u001b[0m\u001b[0;34m(\u001b[0m\u001b[0mself\u001b[0m\u001b[0;34m,\u001b[0m \u001b[0mvalues\u001b[0m\u001b[0;34m)\u001b[0m\u001b[0;34m:\u001b[0m\u001b[0;34m\u001b[0m\u001b[0;34m\u001b[0m\u001b[0m\n\u001b[1;32m   1778\u001b[0m         \u001b[0;31m# docstring inherited\u001b[0m\u001b[0;34m\u001b[0m\u001b[0;34m\u001b[0m\u001b[0m\n\u001b[0;32m-> 1779\u001b[0;31m         \u001b[0;32mreturn\u001b[0m \u001b[0mself\u001b[0m\u001b[0;34m.\u001b[0m\u001b[0mtransform_affine\u001b[0m\u001b[0;34m(\u001b[0m\u001b[0mvalues\u001b[0m\u001b[0;34m)\u001b[0m\u001b[0;34m\u001b[0m\u001b[0;34m\u001b[0m\u001b[0m\n\u001b[0m\u001b[1;32m   1780\u001b[0m \u001b[0;34m\u001b[0m\u001b[0m\n\u001b[1;32m   1781\u001b[0m     \u001b[0;32mdef\u001b[0m \u001b[0mtransform_affine\u001b[0m\u001b[0;34m(\u001b[0m\u001b[0mself\u001b[0m\u001b[0;34m,\u001b[0m \u001b[0mvalues\u001b[0m\u001b[0;34m)\u001b[0m\u001b[0;34m:\u001b[0m\u001b[0;34m\u001b[0m\u001b[0;34m\u001b[0m\u001b[0m\n",
            "\u001b[0;32m/usr/local/lib/python3.10/dist-packages/matplotlib/transforms.py\u001b[0m in \u001b[0;36mtransform_affine\u001b[0;34m(self, points)\u001b[0m\n\u001b[1;32m   1843\u001b[0m     \u001b[0;32mdef\u001b[0m \u001b[0mtransform_affine\u001b[0m\u001b[0;34m(\u001b[0m\u001b[0mself\u001b[0m\u001b[0;34m,\u001b[0m \u001b[0mpoints\u001b[0m\u001b[0;34m)\u001b[0m\u001b[0;34m:\u001b[0m\u001b[0;34m\u001b[0m\u001b[0;34m\u001b[0m\u001b[0m\n\u001b[1;32m   1844\u001b[0m         \u001b[0mmtx\u001b[0m \u001b[0;34m=\u001b[0m \u001b[0mself\u001b[0m\u001b[0;34m.\u001b[0m\u001b[0mget_matrix\u001b[0m\u001b[0;34m(\u001b[0m\u001b[0;34m)\u001b[0m\u001b[0;34m\u001b[0m\u001b[0;34m\u001b[0m\u001b[0m\n\u001b[0;32m-> 1845\u001b[0;31m         \u001b[0;32mif\u001b[0m \u001b[0misinstance\u001b[0m\u001b[0;34m(\u001b[0m\u001b[0mpoints\u001b[0m\u001b[0;34m,\u001b[0m \u001b[0mnp\u001b[0m\u001b[0;34m.\u001b[0m\u001b[0mma\u001b[0m\u001b[0;34m.\u001b[0m\u001b[0mMaskedArray\u001b[0m\u001b[0;34m)\u001b[0m\u001b[0;34m:\u001b[0m\u001b[0;34m\u001b[0m\u001b[0;34m\u001b[0m\u001b[0m\n\u001b[0m\u001b[1;32m   1846\u001b[0m             \u001b[0mtpoints\u001b[0m \u001b[0;34m=\u001b[0m \u001b[0maffine_transform\u001b[0m\u001b[0;34m(\u001b[0m\u001b[0mpoints\u001b[0m\u001b[0;34m.\u001b[0m\u001b[0mdata\u001b[0m\u001b[0;34m,\u001b[0m \u001b[0mmtx\u001b[0m\u001b[0;34m)\u001b[0m\u001b[0;34m\u001b[0m\u001b[0;34m\u001b[0m\u001b[0m\n\u001b[1;32m   1847\u001b[0m             \u001b[0;32mreturn\u001b[0m \u001b[0mnp\u001b[0m\u001b[0;34m.\u001b[0m\u001b[0mma\u001b[0m\u001b[0;34m.\u001b[0m\u001b[0mMaskedArray\u001b[0m\u001b[0;34m(\u001b[0m\u001b[0mtpoints\u001b[0m\u001b[0;34m,\u001b[0m \u001b[0mmask\u001b[0m\u001b[0;34m=\u001b[0m\u001b[0mnp\u001b[0m\u001b[0;34m.\u001b[0m\u001b[0mma\u001b[0m\u001b[0;34m.\u001b[0m\u001b[0mgetmask\u001b[0m\u001b[0;34m(\u001b[0m\u001b[0mpoints\u001b[0m\u001b[0;34m)\u001b[0m\u001b[0;34m)\u001b[0m\u001b[0;34m\u001b[0m\u001b[0;34m\u001b[0m\u001b[0m\n",
            "\u001b[0;31mKeyboardInterrupt\u001b[0m: "
          ]
        }
      ],
      "source": [
        "set_seed(SEED)\n",
        "model_baseline = DQN(env.observation_space.shape[0] * env.observation_space.shape[1] * env.observation_space.shape[2],\n",
        "                     env.action_space.n,\n",
        "                     HIDDEN_UNITS,\n",
        "                     HIDDEN_LAYERS).to(device)\n",
        "optimizer = optim.Adam(params=model_baseline.parameters(), lr=LEARNING_RATE)\n",
        "\n",
        "results_baseline = {\n",
        "    'params' : params,\n",
        "    'epochs_save' : [],\n",
        "    'weights': {},\n",
        "    'rewards_test': [],\n",
        "    'rewards_train': []\n",
        "}\n",
        "\n",
        "step = 0\n",
        "eps = EPSILON_START\n",
        "\n",
        "for step in tqdm(range(N_EPISODES)):\n",
        "    done = False\n",
        "    state = torch.tensor(env.reset(), dtype=torch.float32).flatten().to(device)\n",
        "    r_train = 0\n",
        "    states = []\n",
        "    actions = []\n",
        "    rewards = []\n",
        "    next_states = []\n",
        "    dones = []\n",
        "    while not done:\n",
        "        action = model_baseline.action(state, eps)\n",
        "        next_state, reward, done, info = env.step(action)\n",
        "        next_state = torch.tensor(next_state, dtype=torch.float32).flatten().to(device)\n",
        "        r_train += reward\n",
        "        states.append(state)\n",
        "        actions.append(action)\n",
        "        rewards.append(reward)\n",
        "        next_states.append(next_state)\n",
        "        dones.append(done)\n",
        "        state = next_state\n",
        "\n",
        "    states = torch.stack(states).to(device)\n",
        "    actions = torch.tensor(actions).to(device)\n",
        "    rewards = torch.tensor(rewards).to(device)\n",
        "    next_states = torch.stack(next_states).to(device)\n",
        "    dones = torch.tensor(dones, dtype=torch.float32).to(device)\n",
        "\n",
        "    next_state_values = model_baseline(next_states).max().detach()\n",
        "    state_action_values = model_baseline(states).gather(1, actions.unsqueeze(1)).squeeze(1)\n",
        "\n",
        "    expected_q_value = rewards + GAMMA * next_state_values * (1 - dones)\n",
        "    loss = nn.MSELoss()(state_action_values, expected_q_value)\n",
        "\n",
        "    optimizer.zero_grad()\n",
        "    loss.backward()\n",
        "    optimizer.step()\n",
        "\n",
        "    results_baseline['rewards_train'].append(r_train)\n",
        "\n",
        "    if step%EVAL_EPISODE == 0:\n",
        "        r_test = []\n",
        "        for j in range(N_EVAL):\n",
        "            r = test_agent(model_baseline, GAMMA)\n",
        "            r_test.append(r)\n",
        "\n",
        "        results_baseline['weights'][step] = model_baseline.state_dict()\n",
        "        results_baseline['rewards_test'].append(np.mean(r_test))\n",
        "        results_baseline['epochs_save'].append(step)\n",
        "\n",
        "        display.clear_output(True)\n",
        "        plt.plot(results_baseline['rewards_train'], label = \"reward train\")\n",
        "        plt.plot(results_baseline['epochs_save'],results_baseline['rewards_test'], label = \"reward test\")\n",
        "        plt.legend()\n",
        "        plt.show()\n",
        "    eps -= EPSILON_DECAY\n",
        "torch.save(results_baseline, 'results_baseline.pth')"
      ]
    },
    {
      "cell_type": "code",
      "execution_count": null,
      "id": "a5bac821-daf9-486c-b87c-95a0c7ab245f",
      "metadata": {
        "colab": {
          "base_uri": "https://localhost:8080/",
          "height": 207
        },
        "id": "a5bac821-daf9-486c-b87c-95a0c7ab245f",
        "outputId": "e9c8b569-e391-4f45-e989-fae80b5b35ee"
      },
      "outputs": [
        {
          "output_type": "error",
          "ename": "NameError",
          "evalue": "name 'env' is not defined",
          "traceback": [
            "\u001b[0;31m---------------------------------------------------------------------------\u001b[0m",
            "\u001b[0;31mNameError\u001b[0m                                 Traceback (most recent call last)",
            "\u001b[0;32m<ipython-input-1-176dd65ced63>\u001b[0m in \u001b[0;36m<cell line: 1>\u001b[0;34m()\u001b[0m\n\u001b[0;32m----> 1\u001b[0;31m \u001b[0mstate\u001b[0m\u001b[0;34m,\u001b[0m \u001b[0mobs_to_render\u001b[0m \u001b[0;34m=\u001b[0m \u001b[0menv\u001b[0m\u001b[0;34m.\u001b[0m\u001b[0mreset_with_render\u001b[0m\u001b[0;34m(\u001b[0m\u001b[0;34m)\u001b[0m\u001b[0;34m\u001b[0m\u001b[0;34m\u001b[0m\u001b[0m\n\u001b[0m\u001b[1;32m      2\u001b[0m \u001b[0mstate\u001b[0m \u001b[0;34m=\u001b[0m \u001b[0mtorch\u001b[0m\u001b[0;34m.\u001b[0m\u001b[0mtensor\u001b[0m\u001b[0;34m(\u001b[0m\u001b[0mstate\u001b[0m\u001b[0;34m,\u001b[0m \u001b[0mdtype\u001b[0m\u001b[0;34m=\u001b[0m\u001b[0mtorch\u001b[0m\u001b[0;34m.\u001b[0m\u001b[0mfloat32\u001b[0m\u001b[0;34m)\u001b[0m\u001b[0;34m.\u001b[0m\u001b[0mflatten\u001b[0m\u001b[0;34m(\u001b[0m\u001b[0;34m)\u001b[0m\u001b[0;34m.\u001b[0m\u001b[0mto\u001b[0m\u001b[0;34m(\u001b[0m\u001b[0mdevice\u001b[0m\u001b[0;34m)\u001b[0m\u001b[0;34m\u001b[0m\u001b[0;34m\u001b[0m\u001b[0m\n\u001b[1;32m      3\u001b[0m \u001b[0menv\u001b[0m\u001b[0;34m.\u001b[0m\u001b[0mrender\u001b[0m\u001b[0;34m(\u001b[0m\u001b[0mobs_to_render\u001b[0m\u001b[0;34m)\u001b[0m\u001b[0;34m\u001b[0m\u001b[0;34m\u001b[0m\u001b[0m\n\u001b[1;32m      4\u001b[0m \u001b[0mdone\u001b[0m \u001b[0;34m=\u001b[0m \u001b[0;32mFalse\u001b[0m\u001b[0;34m\u001b[0m\u001b[0;34m\u001b[0m\u001b[0m\n\u001b[1;32m      5\u001b[0m \u001b[0mtot_rew_test\u001b[0m \u001b[0;34m=\u001b[0m \u001b[0;36m0\u001b[0m\u001b[0;34m\u001b[0m\u001b[0;34m\u001b[0m\u001b[0m\n",
            "\u001b[0;31mNameError\u001b[0m: name 'env' is not defined"
          ]
        }
      ],
      "source": [
        "state, obs_to_render = env.reset_with_render()\n",
        "state = torch.tensor(state, dtype=torch.float32).flatten().to(device)\n",
        "env.render(obs_to_render)\n",
        "done = False\n",
        "tot_rew_test = 0\n",
        "with torch.no_grad():\n",
        "        while not done:\n",
        "            action = model_baseline.action(state, 0)\n",
        "            state, rew , done, _, obs_to_render = env.step_with_render(action)\n",
        "            state = torch.tensor(state, dtype=torch.float32).flatten().to(device)\n",
        "            tot_rew_test += rew\n",
        "            env.render(obs_to_render)\n",
        "            display.display(plt.gcf())\n",
        "            display.clear_output(wait=True)\n",
        "print(tot_rew_test)"
      ]
    },
    {
      "cell_type": "markdown",
      "id": "1433e377-490a-4d07-9f75-1282e3cb6be4",
      "metadata": {
        "id": "1433e377-490a-4d07-9f75-1282e3cb6be4"
      },
      "source": [
        "# 3. Replay Buffer"
      ]
    },
    {
      "cell_type": "code",
      "execution_count": null,
      "id": "6244f4c8-f179-497e-abea-3ab095b1ec8f",
      "metadata": {
        "colab": {
          "background_save": true
        },
        "id": "6244f4c8-f179-497e-abea-3ab095b1ec8f"
      },
      "outputs": [],
      "source": [
        "class ReplayBuffer:\n",
        "    def __init__(self, data_names, buffer_size, batch_size):\n",
        "        self.data_keys = data_names\n",
        "        self.data_dict = {}\n",
        "        self.buffer_size = buffer_size\n",
        "        self.batch_size = batch_size\n",
        "        self.reset()\n",
        "\n",
        "    def reset(self):\n",
        "        for name in self.data_keys:\n",
        "            self.data_dict[name] = deque(maxlen=self.buffer_size)\n",
        "\n",
        "    def push(self, data):\n",
        "        \"\"\"Add a transition to the buffer.\"\"\"\n",
        "        for key in self.data_keys:\n",
        "            self.data_dict[key].append(data[key])\n",
        "\n",
        "    def sample(self):\n",
        "        \"\"\"Sample a batch of transitions.\"\"\"\n",
        "        indices = random.sample(range(len(self)), self.batch_size)\n",
        "        batch = [{key: self.data_dict[key][i] for key in self.data_keys} for i in indices]\n",
        "        return batch\n",
        "\n",
        "    def __len__(self):\n",
        "        return len(next(iter(self.data_dict.values())))"
      ]
    },
    {
      "cell_type": "code",
      "execution_count": null,
      "id": "e2b56db6-608b-4193-a7f4-b5f30cef1b0c",
      "metadata": {
        "colab": {
          "background_save": true
        },
        "id": "e2b56db6-608b-4193-a7f4-b5f30cef1b0c",
        "outputId": "f40e9420-a623-44ec-a69f-6388f44f1c47"
      },
      "outputs": [
        {
          "data": {
            "image/png": "[encoded data removed]",
            "text/plain": [
              "<Figure size 640x480 with 1 Axes>"
            ]
          },
          "metadata": {},
          "output_type": "display_data"
        },
        {
          "name": "stderr",
          "output_type": "stream",
          "text": [
            "100%|██████████| 150000/150000 [1:40:30<00:00, 24.87it/s]\n"
          ]
        }
      ],
      "source": [
        "set_seed(SEED)\n",
        "model_replay_buffer = DQN(env.observation_space.shape[0] * env.observation_space.shape[1] * env.observation_space.shape[2],\n",
        "                          env.action_space.n,\n",
        "                          HIDDEN_UNITS,\n",
        "                          HIDDEN_LAYERS).to(device)\n",
        "replay_buffer = ReplayBuffer(['state', 'action', 'reward', 'next_state', 'done'],\n",
        "                             BUFFER_SIZE, BATCH_SIZE)\n",
        "\n",
        "optimizer = optim.Adam(params=model_replay_buffer.parameters(), lr=LEARNING_RATE)\n",
        "\n",
        "step = 0\n",
        "\n",
        "results_rb = {\n",
        "    'params' : params,\n",
        "    'epochs_save' : [],\n",
        "    'weights': {},\n",
        "    'rewards_test': [],\n",
        "    'rewards_train': []\n",
        "}\n",
        "\n",
        "eps = EPSILON_START\n",
        "for step in tqdm(range(N_EPISODES)):\n",
        "    done = False\n",
        "    state = torch.tensor(env.reset(), dtype=torch.float32).flatten().to(device)\n",
        "    r_train = 0\n",
        "    while not done:\n",
        "        action = model_replay_buffer.action(state, eps)\n",
        "        next_state, reward, done, info = env.step(action)\n",
        "        next_state = torch.tensor(next_state, dtype=torch.float32).flatten().to(device)\n",
        "        replay_buffer.push({'state':state, 'action':action, 'reward':reward,\n",
        "                            'next_state':next_state, 'done':done})\n",
        "        r_train += reward\n",
        "\n",
        "    if len(replay_buffer) >= replay_buffer.batch_size:\n",
        "        batch = replay_buffer.sample()\n",
        "\n",
        "        states = torch.stack([b['state'] for b in batch]).to(device)\n",
        "        actions = torch.tensor([b['action'] for b in batch]).to(device)\n",
        "        rewards = torch.tensor([b['reward'] for b in batch]).to(device)\n",
        "        next_states = torch.stack([b['next_state'] for b in batch]).to(device)\n",
        "        dones = torch.tensor([b['done'] for b in batch], dtype=torch.float32).to(device)\n",
        "\n",
        "        state_action_values = model_replay_buffer(states).gather(1, actions.unsqueeze(1)).squeeze(1)\n",
        "        next_state_values = model_replay_buffer(next_states).max(1)[0].detach()\n",
        "        expected_q_values = rewards + GAMMA * next_state_values * (1 - dones)\n",
        "\n",
        "        loss = nn.MSELoss()(state_action_values, expected_q_value)\n",
        "        optimizer.zero_grad()\n",
        "        loss.backward()\n",
        "        optimizer.step()\n",
        "\n",
        "    results_rb['rewards_train'].append(r_train)\n",
        "\n",
        "    if step%EVAL_EPISODE == 0:\n",
        "        r_test = []\n",
        "        for j in range(10):\n",
        "            r = test_agent(model_replay_buffer, GAMMA)\n",
        "            r_test.append(r)\n",
        "        results_rb['weights'][step] = model_replay_buffer.state_dict()\n",
        "        results_rb['rewards_test'].append(np.mean(r_test))\n",
        "        results_rb['epochs_save'].append(step)\n",
        "\n",
        "        display.clear_output(True)\n",
        "        plt.plot(results_rb['rewards_train'], label = \"reward train\")\n",
        "        plt.plot(results_rb['epochs_save'],results_rb['rewards_test'], label = \"reward test\")\n",
        "        plt.legend()\n",
        "        plt.show()\n",
        "\n",
        "    eps -= EPSILON_DECAY\n",
        "torch.save(results_rb, 'results_rb.pth')"
      ]
    },
    {
      "cell_type": "code",
      "execution_count": null,
      "id": "JwiaZpgjTP83",
      "metadata": {
        "colab": {
          "background_save": true
        },
        "id": "JwiaZpgjTP83",
        "outputId": "b47d1c6c-1c10-41ea-a05a-85a1a5d172f4"
      },
      "outputs": [
        {
          "data": {
            "image/png": "[encoded data removed]",
            "text/plain": [
              "<Figure size 640x480 with 1 Axes>"
            ]
          },
          "metadata": {},
          "output_type": "display_data"
        }
      ],
      "source": [
        "state, obs_to_render = env.reset_with_render()\n",
        "state = torch.tensor(state, dtype=torch.float32).flatten().to(device)\n",
        "env.render(obs_to_render)\n",
        "done = False\n",
        "tot_rew_test = 0\n",
        "with torch.no_grad():\n",
        "        while not done:\n",
        "            action = model_replay_buffer.action(state, 0)\n",
        "            state, rew , done, _, obs_to_render = env.step_with_render(action)\n",
        "            state = torch.tensor(state, dtype=torch.float32).flatten().to(device)\n",
        "            tot_rew_test += rew\n",
        "            env.render(obs_to_render)\n",
        "            display.display(plt.gcf())\n",
        "            display.clear_output(wait=True)\n",
        "print(tot_rew_test)"
      ]
    },
    {
      "cell_type": "markdown",
      "id": "62510892-1faa-41c1-9bc3-239064c2f727",
      "metadata": {
        "id": "62510892-1faa-41c1-9bc3-239064c2f727"
      },
      "source": [
        "# 4. Target Network"
      ]
    },
    {
      "cell_type": "code",
      "execution_count": null,
      "id": "76316b1c-614d-4aa0-93fb-1219e3cc6e07",
      "metadata": {
        "id": "76316b1c-614d-4aa0-93fb-1219e3cc6e07"
      },
      "outputs": [],
      "source": [
        "set_seed(SEED)\n",
        "model_tn = DQN(env.observation_space.shape[0] * env.observation_space.shape[1] * env.observation_space.shape[2],\n",
        "                          env.action_space.n,\n",
        "                          HIDDEN_UNITS,\n",
        "                          HIDDEN_LAYERS).to(device)\n",
        "\n",
        "model_tn_target = DQN(env.observation_space.shape[0] * env.observation_space.shape[1] * env.observation_space.shape[2],\n",
        "                          env.action_space.n,\n",
        "                          HIDDEN_UNITS,\n",
        "                          HIDDEN_LAYERS).to(device)\n",
        "\n",
        "model_tn_target.load_state_dict(model_tn.state_dict())\n",
        "\n",
        "replay_buffer = ReplayBuffer(['state', 'action', 'reward', 'next_state', 'done'],\n",
        "                             BUFFER_SIZE, BATCH_SIZE)\n",
        "\n",
        "optimizer = optim.Adam(params=model_tn.parameters(), lr=LEARNING_RATE)\n",
        "\n",
        "step = 0\n",
        "\n",
        "results_tm = {\n",
        "    'params' : params,\n",
        "    'epochs_save' : [],\n",
        "    'weights': {},\n",
        "    'rewards_test': [],\n",
        "    'rewards_train': []\n",
        "}\n",
        "\n",
        "eps = EPSILON_START\n",
        "for step in tqdm(range(N_EPISODES)):\n",
        "    done = False\n",
        "    state = torch.tensor(env.reset(), dtype=torch.float32).flatten().to(device)\n",
        "    r_train = 0\n",
        "    while not done:\n",
        "        action = model_tn.action(state, eps)\n",
        "        next_state, reward, done, info = env.step(action)\n",
        "        next_state = torch.tensor(next_state, dtype=torch.float32).flatten().to(device)\n",
        "        replay_buffer.push({'state':state, 'action':action, 'reward':reward,\n",
        "                            'next_state':next_state, 'done':done})\n",
        "        r_train += reward\n",
        "\n",
        "    results_tm['rewards_train'].append(r_train)\n",
        "\n",
        "    if len(replay_buffer) >= replay_buffer.batch_size:\n",
        "        batch = replay_buffer.sample()\n",
        "\n",
        "        states = torch.stack([b['state'] for b in batch]).to(device)\n",
        "        actions = torch.tensor([b['action'] for b in batch]).to(device)\n",
        "        rewards = torch.tensor([b['reward'] for b in batch]).to(device)\n",
        "        next_states = torch.stack([b['next_state'] for b in batch]).to(device)\n",
        "        dones = torch.tensor([b['done'] for b in batch], dtype=torch.float32).to(device)\n",
        "\n",
        "        state_action_values = model_tn(states).gather(1, actions.unsqueeze(1)).squeeze(1)\n",
        "        next_state_values = model_tn_target(next_states).max(1)[0].detach()\n",
        "        expected_q_values = rewards + GAMMA * next_state_values * (1 - dones)\n",
        "\n",
        "        loss = nn.MSELoss()(state_action_values, expected_q_value)\n",
        "        optimizer.zero_grad()\n",
        "        loss.backward()\n",
        "        optimizer.step()\n",
        "\n",
        "    if step % UPDATE_EVERY == 0:\n",
        "        model_tn_target.load_state_dict(model_tn.state_dict())\n",
        "\n",
        "    if step%EVAL_EPISODE == 0:\n",
        "        r_test = []\n",
        "        for j in range(10):\n",
        "            r = test_agent(model_tn, GAMMA)\n",
        "            r_test.append(r)\n",
        "        results_tm['weights'][step] = model_tn.state_dict()\n",
        "        results_tm['rewards_test'].append(np.mean(r_test))\n",
        "        results_tm['epochs_save'].append(step)\n",
        "\n",
        "        display.clear_output(True)\n",
        "        plt.plot(results_tm['rewards_train'], label = \"reward train\")\n",
        "        plt.plot(results_tm['epochs_save'], results_tm['rewards_test'], label = \"reward test\")\n",
        "        plt.legend()\n",
        "        plt.show()\n",
        "\n",
        "    eps -= EPSILON_DECAY\n",
        "torch.save(results_tm, 'results_tm.pth')"
      ]
    },
    {
      "cell_type": "code",
      "execution_count": null,
      "id": "D-Gd5wSWTeBC",
      "metadata": {
        "id": "D-Gd5wSWTeBC"
      },
      "outputs": [],
      "source": [
        "state, obs_to_render = env.reset_with_render()\n",
        "state = torch.tensor(state, dtype=torch.float32).flatten().to(device)\n",
        "env.render(obs_to_render)\n",
        "done = False\n",
        "tot_rew_test = 0\n",
        "with torch.no_grad():\n",
        "        while not done:\n",
        "            action = model_tn.action(state, 0)\n",
        "            state, rew , done, _, obs_to_render = env.step_with_render(action)\n",
        "            state = torch.tensor(state, dtype=torch.float32).flatten().to(device)\n",
        "            tot_rew_test += rew\n",
        "            env.render(obs_to_render)\n",
        "            display.display(plt.gcf())\n",
        "            display.clear_output(wait=True)\n",
        "print(tot_rew_test)"
      ]
    },
    {
      "cell_type": "markdown",
      "id": "4a1d0713-4f56-4560-bbbf-bea2c0cb3909",
      "metadata": {
        "id": "4a1d0713-4f56-4560-bbbf-bea2c0cb3909"
      },
      "source": [
        "# 5. Loss Function Comparaison"
      ]
    },
    {
      "cell_type": "code",
      "execution_count": null,
      "id": "43f1d5d2-ee04-4cc8-bca7-71ff2ef1695c",
      "metadata": {
        "id": "43f1d5d2-ee04-4cc8-bca7-71ff2ef1695c"
      },
      "outputs": [],
      "source": [
        "set_seed(SEED)\n",
        "model_lf = DQN(env.observation_space.shape[0] * env.observation_space.shape[1] * env.observation_space.shape[2],\n",
        "                          env.action_space.n,\n",
        "                          HIDDEN_UNITS,\n",
        "                          HIDDEN_LAYERS).to(device)\n",
        "\n",
        "model_lf_target = DQN(env.observation_space.shape[0] * env.observation_space.shape[1] * env.observation_space.shape[2],\n",
        "                          env.action_space.n,\n",
        "                          HIDDEN_UNITS,\n",
        "                          HIDDEN_LAYERS).to(device)\n",
        "\n",
        "model_lf_target.load_state_dict(model_lf.state_dict())\n",
        "\n",
        "replay_buffer = ReplayBuffer(['state', 'action', 'reward', 'next_state', 'done'],\n",
        "                             BUFFER_SIZE, BATCH_SIZE)\n",
        "\n",
        "optimizer = optim.Adam(params=model_lf.parameters(), lr=LEARNING_RATE)\n",
        "\n",
        "results_lf = {\n",
        "    'params' : params,\n",
        "    'epochs_save' : [],\n",
        "    'weights': {},\n",
        "    'rewards_test': [],\n",
        "    'rewards_train': []\n",
        "}\n",
        "\n",
        "step = 0\n",
        "eps = EPSILON_START\n",
        "for step in tqdm(range(N_EPISODES)):\n",
        "    done = False\n",
        "    state = torch.tensor(env.reset(), dtype=torch.float32).flatten().to(device)\n",
        "    r_train = 0\n",
        "    while not done:\n",
        "        action = model_lf.action(state, eps)\n",
        "        next_state, reward, done, info = env.step(action)\n",
        "        next_state = torch.tensor(next_state, dtype=torch.float32).flatten().to(device)\n",
        "        replay_buffer.push({'state':state, 'action':action, 'reward':reward,\n",
        "                            'next_state':next_state, 'done':done})\n",
        "        r_train += reward\n",
        "\n",
        "    results_lf['rewards_train'].append(r_train)\n",
        "\n",
        "    if len(replay_buffer) >= replay_buffer.batch_size:\n",
        "        batch = replay_buffer.sample()\n",
        "\n",
        "        states = torch.stack([b['state'] for b in batch]).to(device)\n",
        "        actions = torch.tensor([b['action'] for b in batch]).to(device)\n",
        "        rewards = torch.tensor([b['reward'] for b in batch]).to(device)\n",
        "        next_states = torch.stack([b['next_state'] for b in batch]).to(device)\n",
        "        dones = torch.tensor([b['done'] for b in batch], dtype=torch.float32).to(device)\n",
        "\n",
        "        state_action_values = model_lf(states).gather(1, actions.unsqueeze(1)).squeeze(1)\n",
        "        next_state_values = model_lf_target(next_states).max(1)[0].detach()\n",
        "        expected_q_values = rewards + GAMMA * next_state_values * (1 - dones)\n",
        "\n",
        "        loss = nn.SmoothL1Loss()(state_action_values, expected_q_value)\n",
        "        optimizer.zero_grad()\n",
        "        loss.backward()\n",
        "        optimizer.step()\n",
        "\n",
        "    if step % UPDATE_EVERY == 0:\n",
        "        model_lf_target.load_state_dict(model_lf.state_dict())\n",
        "\n",
        "    if step%EVAL_EPISODE == 0:\n",
        "        r_test = []\n",
        "        for j in range(10):\n",
        "            r = test_agent(model_lf, GAMMA)\n",
        "            r_test.append(r)\n",
        "        results_lf['weights'][step] = model_lf.state_dict()\n",
        "        results_lf['rewards_test'].append(np.mean(r_test))\n",
        "        results_lf['epochs_save'].append(step)\n",
        "\n",
        "        display.clear_output(True)\n",
        "        plt.plot(results_lf['rewards_train'], label = \"reward train\")\n",
        "        plt.plot(results_lf['epochs_save'], results_lf['rewards_test'], label = \"reward test\")\n",
        "        plt.legend()\n",
        "        plt.show()\n",
        "\n",
        "    eps -= EPSILON_DECAY\n",
        "    step += 1\n",
        "torch.save(results_lf, 'results_lf.pth')"
      ]
    },
    {
      "cell_type": "code",
      "execution_count": null,
      "id": "3YcaOUF_TiMR",
      "metadata": {
        "id": "3YcaOUF_TiMR"
      },
      "outputs": [],
      "source": [
        "state, obs_to_render = env.reset_with_render()\n",
        "state = torch.tensor(state, dtype=torch.float32).flatten().to(device)\n",
        "env.render(obs_to_render)\n",
        "done = False\n",
        "tot_rew_test = 0\n",
        "with torch.no_grad():\n",
        "        while not done:\n",
        "            action = model_lf.action(state, 0)\n",
        "            state, rew , done, _, obs_to_render = env.step_with_render(action)\n",
        "            state = torch.tensor(state, dtype=torch.float32).flatten().to(device)\n",
        "            tot_rew_test += rew\n",
        "            env.render(obs_to_render)\n",
        "            display.display(plt.gcf())\n",
        "            display.clear_output(wait=True)\n",
        "print(tot_rew_test)"
      ]
    },
    {
      "cell_type": "markdown",
      "id": "d74ac533-ed9e-454d-be44-d5de6c28856d",
      "metadata": {
        "id": "d74ac533-ed9e-454d-be44-d5de6c28856d"
      },
      "source": [
        "# 6. Prioritized Experience Replay"
      ]
    },
    {
      "cell_type": "code",
      "execution_count": null,
      "id": "yj6AojzHK5l3",
      "metadata": {
        "id": "yj6AojzHK5l3"
      },
      "outputs": [],
      "source": [
        "class PrioritizedReplayBuffer:\n",
        "    def __init__(self, data_names, buffer_size, batch_size, alpha=0.6):\n",
        "        self.data_keys = data_names\n",
        "        self.data_dict = {}\n",
        "        self.buffer_size = buffer_size\n",
        "        self.alpha = alpha\n",
        "        self.priorities = deque(maxlen=buffer_size)\n",
        "        self.batch_size = batch_size\n",
        "        self.reset()\n",
        "\n",
        "    def reset(self):\n",
        "        for name in self.data_keys:\n",
        "            self.data_dict[name] = deque(maxlen=self.buffer_size)\n",
        "        self.priorities = deque(maxlen=self.buffer_size)\n",
        "\n",
        "    def push(self, data):\n",
        "        \"\"\"Add a transition to the buffer.\"\"\"\n",
        "        max_priority = max(self.priorities, default=1.0)\n",
        "        self.priorities.append(max_priority)\n",
        "        for key in self.data_keys:\n",
        "            self.data_dict[key].append(data[key])\n",
        "\n",
        "    def sample(self, beta=0.4):\n",
        "        \"\"\"Sample a batch of transitions.\"\"\"\n",
        "        if len(self) == self.buffer_size:\n",
        "            priorities = np.array(self.priorities, dtype=np.float32)\n",
        "            scaled_priorities = priorities ** self.alpha\n",
        "            sample_probs = scaled_priorities / sum(scaled_priorities)\n",
        "        else:\n",
        "            sample_probs = np.ones(len(self)) / len(self)\n",
        "\n",
        "        indices = np.random.choice(len(self), self.batch_size, p=sample_probs)\n",
        "        samples = [{key: self.data_dict[key][i] for key in self.data_keys} for i in indices]\n",
        "\n",
        "        weights = (len(self) * sample_probs[indices]) ** (-beta)\n",
        "        weights /= weights.max()\n",
        "        return samples, weights, indices\n",
        "\n",
        "    def update_priorities(self, indices, td_errors):\n",
        "        for i, td_error in zip(indices, td_errors):\n",
        "            self.priorities[i] = abs(td_error) + 1e-6\n",
        "\n",
        "    def __len__(self):\n",
        "        return len(next(iter(self.data_dict.values())))"
      ]
    },
    {
      "cell_type": "code",
      "execution_count": null,
      "id": "TZ071H2oJ6bT",
      "metadata": {
        "id": "TZ071H2oJ6bT"
      },
      "outputs": [],
      "source": [
        "set_seed(SEED)\n",
        "model_per = DQN(env.observation_space.shape[0] * env.observation_space.shape[1] * env.observation_space.shape[2],\n",
        "                          env.action_space.n,\n",
        "                          HIDDEN_UNITS,\n",
        "                          HIDDEN_LAYERS).to(device)\n",
        "\n",
        "model_per_target = DQN(env.observation_space.shape[0] * env.observation_space.shape[1] * env.observation_space.shape[2],\n",
        "                          env.action_space.n,\n",
        "                          HIDDEN_UNITS,\n",
        "                          HIDDEN_LAYERS).to(device)\n",
        "\n",
        "model_per_target.load_state_dict(model_per.state_dict())\n",
        "\n",
        "replay_buffer = PrioritizedReplayBuffer(['state', 'action', 'reward', 'next_state', 'done'],\n",
        "                             BUFFER_SIZE, BATCH_SIZE)\n",
        "\n",
        "optimizer = optim.Adam(params=model_per.parameters(), lr=LEARNING_RATE)\n",
        "\n",
        "results_per = {\n",
        "    'params' : params,\n",
        "    'epochs_save' : [],\n",
        "    'weights': {},\n",
        "    'rewards_test': [],\n",
        "    'rewards_train': []\n",
        "}\n",
        "\n",
        "step = 0\n",
        "eps  = EPSILON_START\n",
        "beta = BETA_START\n",
        "for step in tqdm(range(N_EPISODES)):\n",
        "    done = False\n",
        "    state = torch.tensor(env.reset(), dtype=torch.float32).flatten().to(device)\n",
        "    r_train = 0\n",
        "    while not done:\n",
        "        action = model_per.action(state, eps)\n",
        "        next_state, reward, done, info = env.step(action)\n",
        "        next_state = torch.tensor(next_state, dtype=torch.float32).flatten().to(device)\n",
        "        replay_buffer.push({'state':state, 'action':action, 'reward':reward,\n",
        "                            'next_state':next_state, 'done':done})\n",
        "        r_train += reward\n",
        "\n",
        "    results_per['rewards_train'].append(r_train)\n",
        "\n",
        "    if len(replay_buffer) > replay_buffer.batch_size:\n",
        "        batch, weights, indices = replay_buffer.sample(beta)\n",
        "        for b in batch:\n",
        "\n",
        "            next_state_values = model_per_target(b['next_state']).max().detach()\n",
        "            state_action_values = model_per(b['state'])[b['action']]\n",
        "\n",
        "            expected_q_value = b['reward'] + GAMMA * next_state_values * (1 - b['done'])\n",
        "\n",
        "            td_errors = state_action_values - expected_q_value\n",
        "            loss = torch.mean((td_errors ** 2) * weights)\n",
        "\n",
        "            optimizer.zero_grad()\n",
        "            loss.backward()\n",
        "            optimizer.step()\n",
        "            replay_buffer.update_priorities(indices, td_errors.detach().cpu().numpy())\n",
        "\n",
        "    if step % UPDATE_EVERY == 0:\n",
        "        model_per_target.load_state_dict(model_per.state_dict())\n",
        "\n",
        "    if step%EVAL_EPISODE == 0:\n",
        "        r_test = []\n",
        "        for j in range(10):\n",
        "            r = test_agent(model_per, GAMMA)\n",
        "            r_test.append(r)\n",
        "        results_per['weights'][step] = model_per.state_dict()\n",
        "        results_per['rewards_test'].append(np.mean(r_test))\n",
        "        results_per['epochs_save'].append(step)\n",
        "\n",
        "        display.clear_output(True)\n",
        "        plt.plot(results_per['rewards_train'], label = \"reward train\")\n",
        "        plt.plot(results_per['epochs_save'], results_per['rewards_test'], label = \"reward test\")\n",
        "        plt.legend()\n",
        "        plt.show()\n",
        "\n",
        "    eps -= EPSILON_DECAY\n",
        "    step += 1\n",
        "    beta = min(1.0, beta + BETA_DECAY)\n",
        "torch.save(results_per, 'results_per.pth')"
      ]
    }
  ],
  "metadata": {
    "colab": {
      "provenance": []
    },
    "kernelspec": {
      "display_name": "Python 3",
      "name": "python3"
    },
    "language_info": {
      "codemirror_mode": {
        "name": "ipython",
        "version": 3
      },
      "file_extension": ".py",
      "mimetype": "text/x-python",
      "name": "python",
      "nbconvert_exporter": "python",
      "pygments_lexer": "ipython3",
      "version": "3.11.5"
    }
  },
  "nbformat": 4,
  "nbformat_minor": 5
}
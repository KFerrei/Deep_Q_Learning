{
 "cells": [
  {
   "cell_type": "markdown",
   "id": "1122bff3-d09c-4954-a089-b4b4872c8b27",
   "metadata": {},
   "source": [
    "# Skeleton Notebook Deep Q-Learning Project (MHBF)"
   ]
  },
  {
   "cell_type": "code",
   "execution_count": 44,
   "id": "9d3afca4-944a-4a0e-a34b-bf5444ce7ffb",
   "metadata": {},
   "outputs": [
    {
     "name": "stdout",
     "output_type": "stream",
     "text": [
      "The autoreload extension is already loaded. To reload it, use:\n",
      "  %reload_ext autoreload\n"
     ]
    }
   ],
   "source": [
    "%matplotlib inline\n",
    "%load_ext autoreload\n",
    "%autoreload 2\n",
    "\n",
    "# Import required packages\n",
    "import gym\n",
    "import gym_grid\n",
    "\n",
    "import matplotlib.pyplot as plt\n",
    "\n",
    "import numpy as np\n",
    "import random\n",
    "\n",
    "import torch\n",
    "import torch.nn as nn\n",
    "import torch.optim as optim\n",
    "import torch.nn.functional as F\n",
    "\n",
    "from IPython import display\n",
    "from collections import namedtuple, deque\n",
    "from tqdm import tqdm\n",
    "\n",
    "import warnings\n",
    "warnings.filterwarnings(\"ignore\")"
   ]
  },
  {
   "cell_type": "code",
   "execution_count": 46,
   "id": "5599cf0b-5a75-44c1-b54b-79d1c94266a1",
   "metadata": {},
   "outputs": [],
   "source": [
    "if torch.cuda.is_available():\n",
    "    device = torch.device('cuda')\n",
    "elif torch.backends.mps.is_available():\n",
    "    device = torch.device('mps')\n",
    "else:\n",
    "    device = torch.device('cpu')"
   ]
  },
  {
   "cell_type": "markdown",
   "id": "5cba614b-63eb-4e8b-8c46-bad02735c0fb",
   "metadata": {},
   "source": [
    "# 0. Environment Implementation"
   ]
  },
  {
   "cell_type": "code",
   "execution_count": 49,
   "id": "e6077c2c-8f41-42d3-9aee-8803adedd189",
   "metadata": {},
   "outputs": [
    {
     "data": {
      "image/png": "[encoded data removed]",
      "text/plain": [
       "<Figure size 1000x1000 with 1 Axes>"
      ]
     },
     "metadata": {},
     "output_type": "display_data"
    }
   ],
   "source": [
    "# Visualize the environment\n",
    "plt.figure(figsize=(10, 10))\n",
    "# T-Maze Environment\n",
    "#env = gym.make(\"LinearTrack-v0\")\n",
    "env = gym.make(\"DeadlyGrid-v0\")\n",
    "_, obs_to_render = env.reset_with_render()\n",
    "env.reset()\n",
    "env.render(obs_to_render)"
   ]
  },
  {
   "cell_type": "code",
   "execution_count": 51,
   "id": "695a5017-5dce-4413-aee0-3b4050cd03a7",
   "metadata": {},
   "outputs": [
    {
     "name": "stdout",
     "output_type": "stream",
     "text": [
      "State space:  Box(0, 1, (6, 14, 5), uint8)\n",
      "State shape:  (6, 14, 5)\n",
      "Action space:  Discrete(5)\n",
      "Number of actions:  5\n"
     ]
    }
   ],
   "source": [
    "print('State space: ', env.observation_space)\n",
    "print('State shape: ', env.observation_space.shape)\n",
    "print('Action space: ', env.action_space)\n",
    "print('Number of actions: ', env.action_space.n)"
   ]
  },
  {
   "cell_type": "markdown",
   "id": "858d0861-0176-43bb-a699-e2498dd9bdfb",
   "metadata": {},
   "source": [
    "# 1. Definition of model and params"
   ]
  },
  {
   "cell_type": "code",
   "execution_count": 54,
   "id": "c47b7035-60dd-4b62-950c-043fe2c47f61",
   "metadata": {},
   "outputs": [],
   "source": [
    "# Discount factor\n",
    "GAMMA = 0.99\n",
    "# Learning rate\n",
    "LEARNING_RATE = 0.001\n",
    "# Capacity of the replay buffer\n",
    "BUFFER_SIZE = 1000\n",
    "# Update target net every ... episodes\n",
    "UPDATE_EVERY= 500\n",
    "# Batch size\n",
    "BATCH_SIZE = 128\n",
    "# Eval Episode\n",
    "EVAL_EPISODE = 500\n",
    "# Number of eval\n",
    "N_EVAL = 50\n",
    "# Hidden Units\n",
    "HIDDEN_UNITS = 128\n",
    "# Hidden layers\n",
    "HIDDEN_LAYERS = 1\n",
    "# Number of training episodes\n",
    "N_EPISODES = 100000\n",
    "# Initial value of epsilon\n",
    "EPSILON_START = 1.0\n",
    "# End value of epsilon\n",
    "EPSILON_END = 0.01\n",
    "# Epsilon decay\n",
    "EPSILON_DECAY = (EPSILON_START - EPSILON_END) / N_EPISODES"
   ]
  },
  {
   "cell_type": "code",
   "execution_count": 56,
   "id": "c03cf8c0-edc2-4c56-b4ab-4d88af756c2b",
   "metadata": {},
   "outputs": [],
   "source": [
    "class DQN(nn.Module):\n",
    "    def __init__(self, input_dim, output_dim, hidden_units, hidden_layers):\n",
    "        super(DQN, self).__init__()\n",
    "        \n",
    "        self.action_space_size = output_dim\n",
    "        self.hidden_layers = hidden_layers\n",
    "        self.layer_in = nn.Linear(input_dim, hidden_units)\n",
    "        self.hidden_layer= nn.Linear(hidden_units, hidden_units)\n",
    "        self.layer_out = nn.Linear(hidden_units, output_dim)\n",
    "    \n",
    "    def forward(self, x):\n",
    "        x = F.relu(self.layer_in(x))\n",
    "        for i in range(self.hidden_layers):\n",
    "            x = F.relu(self.hidden_layer(x))\n",
    "        x = self.layer_out(x)\n",
    "        return x\n",
    "\n",
    "    def action(self, state, epsilon):\n",
    "        if random.random() > epsilon:\n",
    "            state   = torch.tensor(state, dtype=torch.float32).flatten()\n",
    "            q_value = self.forward(state)\n",
    "            action  = int(torch.argmax(q_value, dim=-1))\n",
    "        else:\n",
    "            action = random.randrange(self.action_space_size)\n",
    "        return action "
   ]
  },
  {
   "cell_type": "code",
   "execution_count": 12,
   "id": "4c3d24d4-28ad-4357-ab02-706476e10201",
   "metadata": {},
   "outputs": [],
   "source": [
    "def test_agent(model, gamma):\n",
    "    done = False\n",
    "    episode_return = 0\n",
    "    i = 0\n",
    "    state = env.reset()\n",
    "    with torch.no_grad():\n",
    "        while not done:\n",
    "            action = model.action(state, 0.01)\n",
    "            state, reward, done, info = env.step(action)\n",
    "            episode_return += gamma**i * reward\n",
    "            i += 1\n",
    "    return total_reward"
   ]
  },
  {
   "cell_type": "markdown",
   "id": "93f24766-bdb9-43a4-bd58-0af0a20d6ac7",
   "metadata": {},
   "source": [
    "# 2. Baseline"
   ]
  },
  {
   "cell_type": "code",
   "execution_count": 42,
   "id": "2948b05e-5a16-49fd-81c7-4ddf3f81d1fa",
   "metadata": {},
   "outputs": [
    {
     "name": "stderr",
     "output_type": "stream",
     "text": [
      "  0%|                                                | 0/100000 [00:00<?, ?it/s]\n"
     ]
    },
    {
     "ename": "AttributeError",
     "evalue": "'numpy.ndarray' object has no attribute 'to'",
     "output_type": "error",
     "traceback": [
      "\u001b[0;31m---------------------------------------------------------------------------\u001b[0m",
      "\u001b[0;31mAttributeError\u001b[0m                            Traceback (most recent call last)",
      "Cell \u001b[0;32mIn[42], line 22\u001b[0m\n\u001b[1;32m     20\u001b[0m r_train \u001b[38;5;241m=\u001b[39m \u001b[38;5;241m0\u001b[39m\n\u001b[1;32m     21\u001b[0m \u001b[38;5;28;01mwhile\u001b[39;00m \u001b[38;5;129;01mnot\u001b[39;00m done:\n\u001b[0;32m---> 22\u001b[0m     action \u001b[38;5;241m=\u001b[39m model_baseline\u001b[38;5;241m.\u001b[39maction(state\u001b[38;5;241m.\u001b[39mto(device), eps)\n\u001b[1;32m     23\u001b[0m     next_state, reward, done, info \u001b[38;5;241m=\u001b[39m env\u001b[38;5;241m.\u001b[39mstep(action)\n\u001b[1;32m     24\u001b[0m     r_train \u001b[38;5;241m+\u001b[39m\u001b[38;5;241m=\u001b[39m reward\n",
      "\u001b[0;31mAttributeError\u001b[0m: 'numpy.ndarray' object has no attribute 'to'"
     ]
    }
   ],
   "source": [
    "model_baseline = DQN(env.observation_space.shape[0] * env.observation_space.shape[1] * env.observation_space.shape[2],\n",
    "                     env.action_space.n,\n",
    "                     HIDDEN_UNITS, \n",
    "                     HIDDEN_LAYERS)\n",
    "optimizer = optim.Adam(params=model_baseline.parameters(), lr=LEARNING_RATE)\n",
    "\n",
    "results_baseline = {\n",
    "    'epochs_save' : [],\n",
    "    'weights': {},\n",
    "    'rewards_test': []\n",
    "    'rewards_train': []\n",
    "}\n",
    "\n",
    "step = 0\n",
    "eps = EPSILON_START\n",
    "\n",
    "for step in tqdm(range(N_EPISODES)):\n",
    "    done = False\n",
    "    state = env.reset()\n",
    "    r_train = 0\n",
    "    while not done:\n",
    "        action = model_baseline.action(state, eps)\n",
    "        next_state, reward, done, info = env.step(action)\n",
    "        r_train += reward\n",
    "        \n",
    "        next_state_values = model_baseline(torch.tensor(next_state, dtype=torch.float32).flatten()).max().detach()\n",
    "        state_action_values = model_baseline(torch.tensor(state, dtype=torch.float32).flatten())[action]\n",
    "        \n",
    "        expected_q_value = reward + GAMMA * next_state_values * (1 - done)\n",
    "        loss = nn.MSELoss()(state_action_values, expected_q_value)\n",
    "        optimizer.zero_grad()\n",
    "        loss.backward()\n",
    "        optimizer.step()\n",
    "        state = next_state\n",
    "    results_baseline['rewards_train'].append(r_train)\n",
    "    \n",
    "    if step%EVAL_EPISODE == 0:\n",
    "        r_test = []\n",
    "        for j in range(N_EVAL):\n",
    "            r = test_agent(model_baseline, GAMMA)\n",
    "            r_test.append(r)\n",
    "\n",
    "        results_baseline['weights'][episode] = model_baseline.state_dict()\n",
    "        results_baseline['weights'].append(np.mean(r_test))\n",
    "        results_baseline['epochs_save'].append(step)\n",
    "        \n",
    "        display.clear_output(True)\n",
    "        plt.plot(results_baseline['rewards_train'], label = \"reward train\")\n",
    "        plt.plot(results_baseline['epochs_save'],results_baseline['weights'], label = \"reward test\")\n",
    "        plt.legend()\n",
    "        plt.show()\n",
    "        \n",
    "    eps -= EPSILON_DECAY\n",
    "    step += 1\n",
    "torch.save(results, '/deadl/results_baseline.pth')"
   ]
  },
  {
   "cell_type": "code",
   "execution_count": null,
   "id": "a5bac821-daf9-486c-b87c-95a0c7ab245f",
   "metadata": {},
   "outputs": [],
   "source": [
    "state, obs_to_render = env.reset_with_render()\n",
    "env.render(obs_to_render)\n",
    "done = False\n",
    "tot_rew_test = 0\n",
    "with torch.no_grad():\n",
    "        while not done:\n",
    "            action = model_baseline.action(state, 0)\n",
    "            state, rew , done, _, obs_to_render = env.step_with_render(action)\n",
    "            tot_rew_test += rew\n",
    "            env.render(obs_to_render)\n",
    "            display.display(plt.gcf())\n",
    "            display.clear_output(wait=True)\n",
    "print(tot_rew_test)"
   ]
  },
  {
   "cell_type": "markdown",
   "id": "1433e377-490a-4d07-9f75-1282e3cb6be4",
   "metadata": {},
   "source": [
    "# 3. Replay Buffer"
   ]
  },
  {
   "cell_type": "code",
   "execution_count": 24,
   "id": "6244f4c8-f179-497e-abea-3ab095b1ec8f",
   "metadata": {},
   "outputs": [],
   "source": [
    "class ReplayBuffer:\n",
    "    def __init__(self, data_names, buffer_size, batch_size):\n",
    "        self.data_keys = data_names\n",
    "        self.data_dict = {}\n",
    "        self.buffer_size = buffer_size\n",
    "        self.batch_size = batch_size\n",
    "        self.reset()\n",
    "    \n",
    "    def reset(self):\n",
    "        for name in self.data_keys:\n",
    "            self.data_dict[name] = deque(maxlen=self.buffer_size)\n",
    "\n",
    "    def push(self, data):\n",
    "        \"\"\"Add a transition to the buffer.\"\"\"\n",
    "        for key in self.data_keys:\n",
    "            self.data_dict[key].append(data[key])\n",
    "\n",
    "    def sample(self):\n",
    "        \"\"\"Sample a batch of transitions.\"\"\"\n",
    "        indices = random.sample(range(len(self)), self.batch_size)\n",
    "        batch = [{key: self.data_dict[key][i] for key in self.data_keys} for i in indices]\n",
    "        return batch\n",
    "\n",
    "    def __len__(self):\n",
    "        return len(next(iter(self.data_dict.values())))"
   ]
  },
  {
   "cell_type": "code",
   "execution_count": null,
   "id": "e2b56db6-608b-4193-a7f4-b5f30cef1b0c",
   "metadata": {},
   "outputs": [],
   "source": [
    "model_replay_buffer = DQN(env.observation_space.shape[0] * env.observation_space.shape[1] * env.observation_space.shape[2],\n",
    "                          env.action_space.n,\n",
    "                          HIDDEN_UNITS, \n",
    "                          HIDDEN_LAYERS)\n",
    "\n",
    "replay_buffer = ReplayBuffer(['state', 'action', 'reward', 'next_state', 'done'], \n",
    "                             BUFFER_SIZE, BATCH_SIZE)\n",
    "\n",
    "optimizer = optim.Adam(params=model_replay_buffer.parameters(), lr=LEARNING_RATE)\n",
    "\n",
    "step = 0\n",
    "\n",
    "results_rb = {\n",
    "    'epochs_save' : [],\n",
    "    'weights': {},\n",
    "    'rewards_test': [],\n",
    "    'rewards_train': []\n",
    "}\n",
    "\n",
    "eps = EPSILON_START\n",
    "for step in tqdm(range(N_EPISODES)):\n",
    "    done = False\n",
    "    state = env.reset()\n",
    "    r_train = 0\n",
    "    while not done:\n",
    "        action = model_replay_buffer.action(state, eps)\n",
    "        next_state, reward, done, info = env.step(action)\n",
    "        replay_buffer.push({'state':state, 'action':action, 'reward':reward, \n",
    "                            'next_state':next_state, 'done':done})\n",
    "        r_train += reward\n",
    "        \n",
    "    results_rb['rewards_train'].append(r_train)\n",
    "    \n",
    "    if len(replay_buffer) > replay_buffer.batch_size:\n",
    "        batch = replay_buffer.sample()\n",
    "        for b in batch:            \n",
    "            next_state_values = model_replay_buffer(torch.tensor(b['next_state'], dtype=torch.float32).flatten()).max().detach()\n",
    "            state_action_values = model_replay_buffer(torch.tensor(b['state'], dtype=torch.float32).flatten())[b['action']]\n",
    "        \n",
    "            expected_q_value = b['reward'] + GAMMA * next_state_values * (1 - b['done'])\n",
    "            loss = nn.MSELoss()(state_action_values, expected_q_value)\n",
    "            optimizer.zero_grad()\n",
    "            loss.backward()\n",
    "            optimizer.step()\n",
    "    \n",
    "    if step%EVAL_EPISODE == 0:        \n",
    "        r_test = []\n",
    "        for j in range(10):\n",
    "            r = test_agent(model_replay_buffer, GAMMA)\n",
    "            r_test.append(r)\n",
    "        results_rb['weights'][step] = model_replay_buffer.state_dict()\n",
    "        results_rb['rewards_test'].append(np.mean(r_test))\n",
    "        results_rb['epochs_save'].append(step)\n",
    "        \n",
    "        display.clear_output(True)\n",
    "        plt.plot(results_rb['rewards_train'], label = \"reward train\")\n",
    "        plt.plot(results_rb['epochs_save'],results_rb['rewards_test'], label = \"reward test\")\n",
    "        plt.legend()\n",
    "        plt.show()\n",
    "        \n",
    "    eps -= EPSILON_DECAY\n",
    "    step += 1\n",
    "torch.save(results_rb, 'results_rb.pth')"
   ]
  },
  {
   "cell_type": "code",
   "execution_count": null,
   "id": "c89eb320-2f7d-4c25-bbe5-a311842cf337",
   "metadata": {},
   "outputs": [],
   "source": [
    "state, obs_to_render = env.reset_with_render()\n",
    "env.render(obs_to_render)\n",
    "done = False\n",
    "tot_rew_test = 0\n",
    "with torch.no_grad():\n",
    "        while not done:\n",
    "            action = model_replay_buffer.action(state, 0)\n",
    "            state, rew , done, _, obs_to_render = env.step_with_render(action)\n",
    "            tot_rew_test += rew\n",
    "            env.render(obs_to_render)\n",
    "            display.display(plt.gcf())\n",
    "            display.clear_output(wait=True)\n",
    "print(tot_rew_test)"
   ]
  },
  {
   "cell_type": "markdown",
   "id": "62510892-1faa-41c1-9bc3-239064c2f727",
   "metadata": {},
   "source": [
    "# 4. Target Network"
   ]
  },
  {
   "cell_type": "code",
   "execution_count": null,
   "id": "76316b1c-614d-4aa0-93fb-1219e3cc6e07",
   "metadata": {},
   "outputs": [],
   "source": [
    "model_tn = DQN(env.observation_space.shape[0] * env.observation_space.shape[1] * env.observation_space.shape[2],\n",
    "                          env.action_space.n,\n",
    "                          HIDDEN_UNITS, \n",
    "                          HIDDEN_LAYERS)\n",
    "\n",
    "model_tn_target = DQN(env.observation_space.shape[0] * env.observation_space.shape[1] * env.observation_space.shape[2],\n",
    "                          env.action_space.n,\n",
    "                          HIDDEN_UNITS, \n",
    "                          HIDDEN_LAYERS)\n",
    "model_tn_target.load_state_dict(model_tn.state_dict())\n",
    "\n",
    "replay_buffer = ReplayBuffer(['state', 'action', 'reward', 'next_state', 'done'], \n",
    "                             BUFFER_SIZE, BATCH_SIZE)\n",
    "\n",
    "optimizer = optim.Adam(params=model_tn.parameters(), lr=LEARNING_RATE)\n",
    "\n",
    "step = 0\n",
    "\n",
    "results_tm = {\n",
    "    'epochs_save' : [],\n",
    "    'weights': {},\n",
    "    'rewards_test': [],\n",
    "    'rewards_train': []\n",
    "}\n",
    "\n",
    "eps = EPSILON_START\n",
    "for step in tqdm(range(N_EPISODES)):\n",
    "    done = False\n",
    "    state = env.reset()\n",
    "    r_train = 0\n",
    "    while not done:\n",
    "        action = model_tn.action(state, eps)\n",
    "        next_state, reward, done, info = env.step(action)\n",
    "        replay_buffer.push({'state':state, 'action':action, 'reward':reward, \n",
    "                            'next_state':next_state, 'done':done})\n",
    "        r_train += reward\n",
    "        \n",
    "    results_tm['rewards_train'].append(r_train)\n",
    "    \n",
    "    if len(replay_buffer) > replay_buffer.batch_size:\n",
    "        batch = replay_buffer.sample()\n",
    "        for b in batch:      \n",
    "            \n",
    "            next_state_values = model_tn_target(torch.tensor(b['next_state'], dtype=torch.float32).flatten()).max().detach()\n",
    "            state_action_values = model_tn(torch.tensor(b['state'], dtype=torch.float32).flatten())[b['action']]\n",
    "        \n",
    "            expected_q_value = b['reward'] + GAMMA * next_state_values * (1 - b['done'])\n",
    "            \n",
    "            loss = nn.MSELoss()(state_action_values, expected_q_value)\n",
    "            optimizer.zero_grad()\n",
    "            loss.backward()\n",
    "            optimizer.step()\n",
    "            \n",
    "    if step % UPDATE_EVERY == 0:\n",
    "        model_tn_target.load_state_dict(model_tn.state_dict())\n",
    "    \n",
    "    if step%EVAL_EPISODE == 0:        \n",
    "        r_test = []\n",
    "        for j in range(10):\n",
    "            r = test_agent(model_tn, GAMMA)\n",
    "            r_test.append(r)\n",
    "        results_tm['weights'][step] = model_tn.state_dict()\n",
    "        results_tm['rewards_test'].append(np.mean(r_test))\n",
    "        results_tm['epochs_save'].append(step)\n",
    "        \n",
    "        display.clear_output(True)\n",
    "        plt.plot(results_tm['rewards_train'], label = \"reward train\")\n",
    "        plt.plot(results_tm['epochs_save'], results_tm['rewards_test'], label = \"reward test\")\n",
    "        plt.legend()\n",
    "        plt.show()\n",
    "        \n",
    "    eps -= EPSILON_DECAY\n",
    "    step += 1\n",
    "torch.save(results_tm, 'results_tm.pth')"
   ]
  },
  {
   "cell_type": "markdown",
   "id": "4a1d0713-4f56-4560-bbbf-bea2c0cb3909",
   "metadata": {},
   "source": [
    "# 5. Loss Function Comparaison"
   ]
  },
  {
   "cell_type": "code",
   "execution_count": 30,
   "id": "43f1d5d2-ee04-4cc8-bca7-71ff2ef1695c",
   "metadata": {},
   "outputs": [
    {
     "data": {
      "image/png": "[encoded data removed]",
      "text/plain": [
       "<Figure size 640x480 with 1 Axes>"
      ]
     },
     "metadata": {},
     "output_type": "display_data"
    },
    {
     "name": "stderr",
     "output_type": "stream",
     "text": [
      "  5%|█▋                                 | 4921/100000 [16:25<5:17:24,  4.99it/s]\n"
     ]
    },
    {
     "ename": "KeyboardInterrupt",
     "evalue": "",
     "output_type": "error",
     "traceback": [
      "\u001b[0;31m---------------------------------------------------------------------------\u001b[0m",
      "\u001b[0;31mKeyboardInterrupt\u001b[0m                         Traceback (most recent call last)",
      "Cell \u001b[0;32mIn[30], line 52\u001b[0m\n\u001b[1;32m     50\u001b[0m         optimizer\u001b[38;5;241m.\u001b[39mzero_grad()\n\u001b[1;32m     51\u001b[0m         loss\u001b[38;5;241m.\u001b[39mbackward()\n\u001b[0;32m---> 52\u001b[0m         optimizer\u001b[38;5;241m.\u001b[39mstep()\n\u001b[1;32m     54\u001b[0m \u001b[38;5;28;01mif\u001b[39;00m step \u001b[38;5;241m%\u001b[39m UPDATE_EVERY \u001b[38;5;241m==\u001b[39m \u001b[38;5;241m0\u001b[39m:\n\u001b[1;32m     55\u001b[0m     model_lf_target\u001b[38;5;241m.\u001b[39mload_state_dict(model_lf\u001b[38;5;241m.\u001b[39mstate_dict())\n",
      "File \u001b[0;32m~/anaconda3/lib/python3.11/site-packages/torch/optim/optimizer.py:385\u001b[0m, in \u001b[0;36mOptimizer.profile_hook_step.<locals>.wrapper\u001b[0;34m(*args, **kwargs)\u001b[0m\n\u001b[1;32m    380\u001b[0m         \u001b[38;5;28;01melse\u001b[39;00m:\n\u001b[1;32m    381\u001b[0m             \u001b[38;5;28;01mraise\u001b[39;00m \u001b[38;5;167;01mRuntimeError\u001b[39;00m(\n\u001b[1;32m    382\u001b[0m                 \u001b[38;5;124mf\u001b[39m\u001b[38;5;124m\"\u001b[39m\u001b[38;5;132;01m{\u001b[39;00mfunc\u001b[38;5;132;01m}\u001b[39;00m\u001b[38;5;124m must return None or a tuple of (new_args, new_kwargs), but got \u001b[39m\u001b[38;5;132;01m{\u001b[39;00mresult\u001b[38;5;132;01m}\u001b[39;00m\u001b[38;5;124m.\u001b[39m\u001b[38;5;124m\"\u001b[39m\n\u001b[1;32m    383\u001b[0m             )\n\u001b[0;32m--> 385\u001b[0m out \u001b[38;5;241m=\u001b[39m func(\u001b[38;5;241m*\u001b[39margs, \u001b[38;5;241m*\u001b[39m\u001b[38;5;241m*\u001b[39mkwargs)\n\u001b[1;32m    386\u001b[0m \u001b[38;5;28mself\u001b[39m\u001b[38;5;241m.\u001b[39m_optimizer_step_code()\n\u001b[1;32m    388\u001b[0m \u001b[38;5;66;03m# call optimizer step post hooks\u001b[39;00m\n",
      "File \u001b[0;32m~/anaconda3/lib/python3.11/site-packages/torch/optim/optimizer.py:74\u001b[0m, in \u001b[0;36m_use_grad_for_differentiable.<locals>._use_grad\u001b[0;34m(self, *args, **kwargs)\u001b[0m\n\u001b[1;32m     60\u001b[0m prev_grad \u001b[38;5;241m=\u001b[39m torch\u001b[38;5;241m.\u001b[39mis_grad_enabled()\n\u001b[1;32m     61\u001b[0m \u001b[38;5;28;01mtry\u001b[39;00m:\n\u001b[1;32m     62\u001b[0m     \u001b[38;5;66;03m# Note on graph break below:\u001b[39;00m\n\u001b[1;32m     63\u001b[0m     \u001b[38;5;66;03m# we need to graph break to ensure that aot respects the no_grad annotation.\u001b[39;00m\n\u001b[0;32m   (...)\u001b[0m\n\u001b[1;32m     72\u001b[0m     \u001b[38;5;66;03m# graph break to allow the fully fused fwd-bwd-optimizer graph to be compiled.\u001b[39;00m\n\u001b[1;32m     73\u001b[0m     \u001b[38;5;66;03m# see https://github.com/pytorch/pytorch/issues/104053\u001b[39;00m\n\u001b[0;32m---> 74\u001b[0m     torch\u001b[38;5;241m.\u001b[39mset_grad_enabled(\u001b[38;5;28mself\u001b[39m\u001b[38;5;241m.\u001b[39mdefaults[\u001b[38;5;124m'\u001b[39m\u001b[38;5;124mdifferentiable\u001b[39m\u001b[38;5;124m'\u001b[39m])\n\u001b[1;32m     75\u001b[0m     torch\u001b[38;5;241m.\u001b[39m_dynamo\u001b[38;5;241m.\u001b[39mgraph_break()\n\u001b[1;32m     76\u001b[0m     ret \u001b[38;5;241m=\u001b[39m func(\u001b[38;5;28mself\u001b[39m, \u001b[38;5;241m*\u001b[39margs, \u001b[38;5;241m*\u001b[39m\u001b[38;5;241m*\u001b[39mkwargs)\n",
      "File \u001b[0;32m~/anaconda3/lib/python3.11/site-packages/torch/autograd/grad_mode.py:186\u001b[0m, in \u001b[0;36mset_grad_enabled.__init__\u001b[0;34m(self, mode)\u001b[0m\n\u001b[1;32m    184\u001b[0m \u001b[38;5;28mself\u001b[39m\u001b[38;5;241m.\u001b[39mprev \u001b[38;5;241m=\u001b[39m torch\u001b[38;5;241m.\u001b[39mis_grad_enabled()\n\u001b[1;32m    185\u001b[0m \u001b[38;5;28mself\u001b[39m\u001b[38;5;241m.\u001b[39mmode \u001b[38;5;241m=\u001b[39m mode\n\u001b[0;32m--> 186\u001b[0m torch\u001b[38;5;241m.\u001b[39m_C\u001b[38;5;241m.\u001b[39m_set_grad_enabled(mode)\n",
      "\u001b[0;31mKeyboardInterrupt\u001b[0m: "
     ]
    }
   ],
   "source": [
    "model_lf = DQN(env.observation_space.shape[0] * env.observation_space.shape[1] * env.observation_space.shape[2],\n",
    "                          env.action_space.n,\n",
    "                          HIDDEN_UNITS, \n",
    "                          HIDDEN_LAYERS)\n",
    "\n",
    "model_lf_target = DQN(env.observation_space.shape[0] * env.observation_space.shape[1] * env.observation_space.shape[2],\n",
    "                          env.action_space.n,\n",
    "                          HIDDEN_UNITS, \n",
    "                          HIDDEN_LAYERS)\n",
    "\n",
    "model_lf_target.load_state_dict(model_lf.state_dict())\n",
    "\n",
    "replay_buffer = ReplayBuffer(['state', 'action', 'reward', 'next_state', 'done'], \n",
    "                             BUFFER_SIZE, BATCH_SIZE)\n",
    "\n",
    "optimizer = optim.Adam(params=model_lf.parameters(), lr=LEARNING_RATE)\n",
    "\n",
    "results_lf = {\n",
    "    'epochs_save' : [],\n",
    "    'weights': {},\n",
    "    'rewards_test': [],\n",
    "    'rewards_train': []\n",
    "}\n",
    "\n",
    "step = 0\n",
    "eps = EPSILON_START\n",
    "for step in tqdm(range(N_EPISODES)):\n",
    "    done = False\n",
    "    state = env.reset()\n",
    "    r_train = 0\n",
    "    while not done:\n",
    "        action = model_lf.action(state, eps)\n",
    "        next_state, reward, done, info = env.step(action)\n",
    "        replay_buffer.push({'state':state, 'action':action, 'reward':reward, \n",
    "                            'next_state':next_state, 'done':done})\n",
    "        r_train += reward\n",
    "        \n",
    "    results_lf['rewards_train'].append(r_train)\n",
    "    \n",
    "    if len(replay_buffer) > replay_buffer.batch_size:\n",
    "        batch = replay_buffer.sample()\n",
    "        for b in batch:      \n",
    "            \n",
    "            next_state_values = model_lf_target(torch.tensor(b['next_state'], dtype=torch.float32).flatten()).max().detach()\n",
    "            state_action_values = model_lf(torch.tensor(b['state'], dtype=torch.float32).flatten())[b['action']]\n",
    "        \n",
    "            expected_q_value = b['reward'] + GAMMA * next_state_values * (1 - b['done'])\n",
    "            \n",
    "            loss = nn.SmoothL1Loss()(state_action_values, expected_q_value)\n",
    "            optimizer.zero_grad()\n",
    "            loss.backward()\n",
    "            optimizer.step()\n",
    "            \n",
    "    if step % UPDATE_EVERY == 0:\n",
    "        model_lf_target.load_state_dict(model_lf.state_dict())\n",
    "    \n",
    "    if step%EVAL_EPISODE == 0:        \n",
    "        r_test = []\n",
    "        for j in range(10):\n",
    "            r = test_agent(model_lf, GAMMA)\n",
    "            r_test.append(r)\n",
    "        results_lf['weights'][step] = model_lf.state_dict()\n",
    "        results_lf['rewards_test'].append(np.mean(r_test))\n",
    "        results_lf['epochs_save'].append(step)\n",
    "        \n",
    "        display.clear_output(True)\n",
    "        plt.plot(results_lf['rewards_train'], label = \"reward train\")\n",
    "        plt.plot(results_lf['epochs_save'], results_lf['rewards_test'], label = \"reward test\")\n",
    "        plt.legend()\n",
    "        plt.show()\n",
    "        \n",
    "    eps -= EPSILON_DECAY\n",
    "    step += 1\n",
    "torch.save(results_lf, 'results_lf.pth')"
   ]
  },
  {
   "cell_type": "markdown",
   "id": "151c3635-d604-49e4-9b93-02b09a916dcd",
   "metadata": {},
   "source": [
    "# 6.Hyperparameter Intuition"
   ]
  },
  {
   "cell_type": "markdown",
   "id": "ed6eebcb-94c2-4250-b9f9-296f5f84af62",
   "metadata": {},
   "source": [
    "# 7. Behavioural Analysis"
   ]
  },
  {
   "cell_type": "markdown",
   "id": "d74ac533-ed9e-454d-be44-d5de6c28856d",
   "metadata": {},
   "source": [
    "# 8. Prioritized Experience Replay "
   ]
  },
  {
   "cell_type": "code",
   "execution_count": null,
   "id": "646f6bc0-0aa4-49a6-945e-6afd46a0df93",
   "metadata": {},
   "outputs": [],
   "source": []
  },
  {
   "cell_type": "code",
   "execution_count": null,
   "id": "11f0ae52-5cac-41e9-a63f-929a4941743f",
   "metadata": {},
   "outputs": [],
   "source": []
  }
 ],
 "metadata": {
  "kernelspec": {
   "display_name": "Python 3 (ipykernel)",
   "language": "python",
   "name": "python3"
  },
  "language_info": {
   "codemirror_mode": {
    "name": "ipython",
    "version": 3
   },
   "file_extension": ".py",
   "mimetype": "text/x-python",
   "name": "python",
   "nbconvert_exporter": "python",
   "pygments_lexer": "ipython3",
   "version": "3.11.5"
  }
 },
 "nbformat": 4,
 "nbformat_minor": 5
}

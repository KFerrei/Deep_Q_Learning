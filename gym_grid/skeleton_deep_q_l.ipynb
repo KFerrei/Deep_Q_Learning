{
 "cells": [
  {
   "cell_type": "markdown",
   "metadata": {},
   "source": [
    "# Skeleton Notebook Deep Q-Learning Project (MHBF)"
   ]
  },
  {
   "cell_type": "code",
   "execution_count": 1,
   "metadata": {},
   "outputs": [],
   "source": [
    "# Install required packages\n",
    "#!pip install -q gym==0.15.4\n",
    "#!pip install -q pycolab==1.2\n",
    "#!pip install -q torch==1.2.0\n",
    "#!pip install -q matplotlib==3.1.2\n",
    "#!pip install -e ."
   ]
  },
  {
   "cell_type": "code",
   "execution_count": 40,
   "metadata": {},
   "outputs": [
    {
     "name": "stdout",
     "output_type": "stream",
     "text": [
      "Collecting tensorflow\n",
      "  Downloading tensorflow-2.16.1-cp311-cp311-macosx_10_15_x86_64.whl.metadata (4.1 kB)\n",
      "Collecting absl-py>=1.0.0 (from tensorflow)\n",
      "  Downloading absl_py-2.1.0-py3-none-any.whl.metadata (2.3 kB)\n",
      "Collecting astunparse>=1.6.0 (from tensorflow)\n",
      "  Downloading astunparse-1.6.3-py2.py3-none-any.whl.metadata (4.4 kB)\n",
      "Collecting flatbuffers>=23.5.26 (from tensorflow)\n",
      "  Downloading flatbuffers-24.3.25-py2.py3-none-any.whl.metadata (850 bytes)\n",
      "Collecting gast!=0.5.0,!=0.5.1,!=0.5.2,>=0.2.1 (from tensorflow)\n",
      "  Downloading gast-0.5.4-py3-none-any.whl.metadata (1.3 kB)\n",
      "Collecting google-pasta>=0.1.1 (from tensorflow)\n",
      "  Downloading google_pasta-0.2.0-py3-none-any.whl.metadata (814 bytes)\n",
      "Collecting h5py>=3.10.0 (from tensorflow)\n",
      "  Downloading h5py-3.11.0-cp311-cp311-macosx_10_9_x86_64.whl.metadata (2.5 kB)\n",
      "Collecting libclang>=13.0.0 (from tensorflow)\n",
      "  Downloading libclang-18.1.1-py2.py3-none-macosx_10_9_x86_64.whl.metadata (5.2 kB)\n",
      "Collecting ml-dtypes~=0.3.1 (from tensorflow)\n",
      "  Downloading ml_dtypes-0.3.2-cp311-cp311-macosx_10_9_universal2.whl.metadata (20 kB)\n",
      "Collecting opt-einsum>=2.3.2 (from tensorflow)\n",
      "  Downloading opt_einsum-3.3.0-py3-none-any.whl.metadata (6.5 kB)\n",
      "Requirement already satisfied: packaging in /Users/ferreirakevin/anaconda3/lib/python3.11/site-packages (from tensorflow) (23.2)\n",
      "Requirement already satisfied: protobuf!=4.21.0,!=4.21.1,!=4.21.2,!=4.21.3,!=4.21.4,!=4.21.5,<5.0.0dev,>=3.20.3 in /Users/ferreirakevin/anaconda3/lib/python3.11/site-packages (from tensorflow) (3.20.3)\n",
      "Requirement already satisfied: requests<3,>=2.21.0 in /Users/ferreirakevin/anaconda3/lib/python3.11/site-packages (from tensorflow) (2.31.0)\n",
      "Requirement already satisfied: setuptools in /Users/ferreirakevin/anaconda3/lib/python3.11/site-packages (from tensorflow) (68.0.0)\n",
      "Requirement already satisfied: six>=1.12.0 in /Users/ferreirakevin/anaconda3/lib/python3.11/site-packages (from tensorflow) (1.16.0)\n",
      "Collecting termcolor>=1.1.0 (from tensorflow)\n",
      "  Downloading termcolor-2.4.0-py3-none-any.whl.metadata (6.1 kB)\n",
      "Requirement already satisfied: typing-extensions>=3.6.6 in /Users/ferreirakevin/anaconda3/lib/python3.11/site-packages (from tensorflow) (4.9.0)\n",
      "Requirement already satisfied: wrapt>=1.11.0 in /Users/ferreirakevin/anaconda3/lib/python3.11/site-packages (from tensorflow) (1.14.1)\n",
      "Collecting grpcio<2.0,>=1.24.3 (from tensorflow)\n",
      "  Downloading grpcio-1.64.1-cp311-cp311-macosx_10_9_universal2.whl.metadata (3.3 kB)\n",
      "Collecting tensorboard<2.17,>=2.16 (from tensorflow)\n",
      "  Downloading tensorboard-2.16.2-py3-none-any.whl.metadata (1.6 kB)\n",
      "Collecting keras>=3.0.0 (from tensorflow)\n",
      "  Downloading keras-3.3.3-py3-none-any.whl.metadata (5.7 kB)\n",
      "Collecting tensorflow-io-gcs-filesystem>=0.23.1 (from tensorflow)\n",
      "  Downloading tensorflow_io_gcs_filesystem-0.37.0-cp311-cp311-macosx_10_14_x86_64.whl.metadata (14 kB)\n",
      "Requirement already satisfied: numpy<2.0.0,>=1.23.5 in /Users/ferreirakevin/anaconda3/lib/python3.11/site-packages (from tensorflow) (1.26.4)\n",
      "Requirement already satisfied: wheel<1.0,>=0.23.0 in /Users/ferreirakevin/anaconda3/lib/python3.11/site-packages (from astunparse>=1.6.0->tensorflow) (0.38.4)\n",
      "Requirement already satisfied: rich in /Users/ferreirakevin/anaconda3/lib/python3.11/site-packages (from keras>=3.0.0->tensorflow) (13.3.5)\n",
      "Collecting namex (from keras>=3.0.0->tensorflow)\n",
      "  Downloading namex-0.0.8-py3-none-any.whl.metadata (246 bytes)\n",
      "Collecting optree (from keras>=3.0.0->tensorflow)\n",
      "  Downloading optree-0.11.0-cp311-cp311-macosx_10_9_x86_64.whl.metadata (45 kB)\n",
      "\u001b[2K     \u001b[90m━━━━━━━━━━━━━━━━━━━━━━━━━━━━━━━━━━━━━━━━\u001b[0m \u001b[32m45.4/45.4 kB\u001b[0m \u001b[31m1.2 MB/s\u001b[0m eta \u001b[36m0:00:00\u001b[0m\n",
      "\u001b[?25hRequirement already satisfied: charset-normalizer<4,>=2 in /Users/ferreirakevin/anaconda3/lib/python3.11/site-packages (from requests<3,>=2.21.0->tensorflow) (2.0.4)\n",
      "Requirement already satisfied: idna<4,>=2.5 in /Users/ferreirakevin/anaconda3/lib/python3.11/site-packages (from requests<3,>=2.21.0->tensorflow) (3.4)\n",
      "Requirement already satisfied: urllib3<3,>=1.21.1 in /Users/ferreirakevin/anaconda3/lib/python3.11/site-packages (from requests<3,>=2.21.0->tensorflow) (1.26.18)\n",
      "Requirement already satisfied: certifi>=2017.4.17 in /Users/ferreirakevin/anaconda3/lib/python3.11/site-packages (from requests<3,>=2.21.0->tensorflow) (2024.6.2)\n",
      "Requirement already satisfied: markdown>=2.6.8 in /Users/ferreirakevin/anaconda3/lib/python3.11/site-packages (from tensorboard<2.17,>=2.16->tensorflow) (3.4.1)\n",
      "Collecting tensorboard-data-server<0.8.0,>=0.7.0 (from tensorboard<2.17,>=2.16->tensorflow)\n",
      "  Downloading tensorboard_data_server-0.7.2-py3-none-macosx_10_9_x86_64.whl.metadata (1.1 kB)\n",
      "Requirement already satisfied: werkzeug>=1.0.1 in /Users/ferreirakevin/anaconda3/lib/python3.11/site-packages (from tensorboard<2.17,>=2.16->tensorflow) (2.2.3)\n",
      "Requirement already satisfied: MarkupSafe>=2.1.1 in /Users/ferreirakevin/anaconda3/lib/python3.11/site-packages (from werkzeug>=1.0.1->tensorboard<2.17,>=2.16->tensorflow) (2.1.3)\n",
      "Requirement already satisfied: markdown-it-py<3.0.0,>=2.2.0 in /Users/ferreirakevin/anaconda3/lib/python3.11/site-packages (from rich->keras>=3.0.0->tensorflow) (2.2.0)\n",
      "Requirement already satisfied: pygments<3.0.0,>=2.13.0 in /Users/ferreirakevin/anaconda3/lib/python3.11/site-packages (from rich->keras>=3.0.0->tensorflow) (2.15.1)\n",
      "Requirement already satisfied: mdurl~=0.1 in /Users/ferreirakevin/anaconda3/lib/python3.11/site-packages (from markdown-it-py<3.0.0,>=2.2.0->rich->keras>=3.0.0->tensorflow) (0.1.0)\n",
      "Downloading tensorflow-2.16.1-cp311-cp311-macosx_10_15_x86_64.whl (259.6 MB)\n",
      "\u001b[2K   \u001b[90m━━━━━━━━━━━━━━━━━━━━━━━━━━━━━━━━━━━━━━━━\u001b[0m \u001b[32m259.6/259.6 MB\u001b[0m \u001b[31m4.8 MB/s\u001b[0m eta \u001b[36m0:00:00\u001b[0m:00:01\u001b[0m00:01\u001b[0m\n",
      "\u001b[?25hDownloading absl_py-2.1.0-py3-none-any.whl (133 kB)\n",
      "\u001b[2K   \u001b[90m━━━━━━━━━━━━━━━━━━━━━━━━━━━━━━━━━━━━━━━━\u001b[0m \u001b[32m133.7/133.7 kB\u001b[0m \u001b[31m3.2 MB/s\u001b[0m eta \u001b[36m0:00:00\u001b[0m:00:01\u001b[0m\n",
      "\u001b[?25hDownloading astunparse-1.6.3-py2.py3-none-any.whl (12 kB)\n",
      "Downloading flatbuffers-24.3.25-py2.py3-none-any.whl (26 kB)\n",
      "Downloading gast-0.5.4-py3-none-any.whl (19 kB)\n",
      "Downloading google_pasta-0.2.0-py3-none-any.whl (57 kB)\n",
      "\u001b[2K   \u001b[90m━━━━━━━━━━━━━━━━━━━━━━━━━━━━━━━━━━━━━━━━\u001b[0m \u001b[32m57.5/57.5 kB\u001b[0m \u001b[31m1.6 MB/s\u001b[0m eta \u001b[36m0:00:00\u001b[0m\n",
      "\u001b[?25hDownloading grpcio-1.64.1-cp311-cp311-macosx_10_9_universal2.whl (10.4 MB)\n",
      "\u001b[2K   \u001b[90m━━━━━━━━━━━━━━━━━━━━━━━━━━━━━━━━━━━━━━━━\u001b[0m \u001b[32m10.4/10.4 MB\u001b[0m \u001b[31m26.0 MB/s\u001b[0m eta \u001b[36m0:00:00\u001b[0m00:01\u001b[0m00:01\u001b[0m\n",
      "\u001b[?25hDownloading h5py-3.11.0-cp311-cp311-macosx_10_9_x86_64.whl (3.5 MB)\n",
      "\u001b[2K   \u001b[90m━━━━━━━━━━━━━━━━━━━━━━━━━━━━━━━━━━━━━━━━\u001b[0m \u001b[32m3.5/3.5 MB\u001b[0m \u001b[31m22.6 MB/s\u001b[0m eta \u001b[36m0:00:00\u001b[0m00:01\u001b[0m00:01\u001b[0m\n",
      "\u001b[?25hDownloading keras-3.3.3-py3-none-any.whl (1.1 MB)\n",
      "\u001b[2K   \u001b[90m━━━━━━━━━━━━━━━━━━━━━━━━━━━━━━━━━━━━━━━━\u001b[0m \u001b[32m1.1/1.1 MB\u001b[0m \u001b[31m16.1 MB/s\u001b[0m eta \u001b[36m0:00:00\u001b[0ma \u001b[36m0:00:01\u001b[0m\n",
      "\u001b[?25hDownloading libclang-18.1.1-py2.py3-none-macosx_10_9_x86_64.whl (26.5 MB)\n",
      "\u001b[2K   \u001b[90m━━━━━━━━━━━━━━━━━━━━━━━━━━━━━━━━━━━━━━━━\u001b[0m \u001b[32m26.5/26.5 MB\u001b[0m \u001b[31m25.7 MB/s\u001b[0m eta \u001b[36m0:00:00\u001b[0m00:01\u001b[0m00:01\u001b[0m\n",
      "\u001b[?25hDownloading ml_dtypes-0.3.2-cp311-cp311-macosx_10_9_universal2.whl (389 kB)\n",
      "\u001b[2K   \u001b[90m━━━━━━━━━━━━━━━━━━━━━━━━━━━━━━━━━━━━━━━━\u001b[0m \u001b[32m389.8/389.8 kB\u001b[0m \u001b[31m8.7 MB/s\u001b[0m eta \u001b[36m0:00:00\u001b[0m:00:01\u001b[0m\n",
      "\u001b[?25hDownloading opt_einsum-3.3.0-py3-none-any.whl (65 kB)\n",
      "\u001b[2K   \u001b[90m━━━━━━━━━━━━━━━━━━━━━━━━━━━━━━━━━━━━━━━━\u001b[0m \u001b[32m65.5/65.5 kB\u001b[0m \u001b[31m1.9 MB/s\u001b[0m eta \u001b[36m0:00:00\u001b[0m\n",
      "\u001b[?25hDownloading tensorboard-2.16.2-py3-none-any.whl (5.5 MB)\n",
      "\u001b[2K   \u001b[90m━━━━━━━━━━━━━━━━━━━━━━━━━━━━━━━━━━━━━━━━\u001b[0m \u001b[32m5.5/5.5 MB\u001b[0m \u001b[31m23.1 MB/s\u001b[0m eta \u001b[36m0:00:00\u001b[0m00:01\u001b[0m00:01\u001b[0m\n",
      "\u001b[?25hDownloading tensorflow_io_gcs_filesystem-0.37.0-cp311-cp311-macosx_10_14_x86_64.whl (2.5 MB)\n",
      "\u001b[2K   \u001b[90m━━━━━━━━━━━━━━━━━━━━━━━━━━━━━━━━━━━━━━━━\u001b[0m \u001b[32m2.5/2.5 MB\u001b[0m \u001b[31m21.4 MB/s\u001b[0m eta \u001b[36m0:00:00\u001b[0m00:01\u001b[0m00:01\u001b[0m\n",
      "\u001b[?25hDownloading termcolor-2.4.0-py3-none-any.whl (7.7 kB)\n",
      "Downloading tensorboard_data_server-0.7.2-py3-none-macosx_10_9_x86_64.whl (4.8 MB)\n",
      "\u001b[2K   \u001b[90m━━━━━━━━━━━━━━━━━━━━━━━━━━━━━━━━━━━━━━━━\u001b[0m \u001b[32m4.8/4.8 MB\u001b[0m \u001b[31m23.3 MB/s\u001b[0m eta \u001b[36m0:00:00\u001b[0m00:01\u001b[0m00:01\u001b[0m\n",
      "\u001b[?25hDownloading namex-0.0.8-py3-none-any.whl (5.8 kB)\n",
      "Downloading optree-0.11.0-cp311-cp311-macosx_10_9_x86_64.whl (296 kB)\n",
      "\u001b[2K   \u001b[90m━━━━━━━━━━━━━━━━━━━━━━━━━━━━━━━━━━━━━━━━\u001b[0m \u001b[32m296.6/296.6 kB\u001b[0m \u001b[31m7.3 MB/s\u001b[0m eta \u001b[36m0:00:00\u001b[0mta \u001b[36m0:00:01\u001b[0m\n",
      "\u001b[?25hInstalling collected packages: namex, libclang, flatbuffers, termcolor, tensorflow-io-gcs-filesystem, tensorboard-data-server, optree, opt-einsum, ml-dtypes, h5py, grpcio, google-pasta, gast, astunparse, absl-py, tensorboard, keras, tensorflow\n",
      "  Attempting uninstall: h5py\n",
      "    Found existing installation: h5py 3.9.0\n",
      "    Uninstalling h5py-3.9.0:\n",
      "      Successfully uninstalled h5py-3.9.0\n",
      "Successfully installed absl-py-2.1.0 astunparse-1.6.3 flatbuffers-24.3.25 gast-0.5.4 google-pasta-0.2.0 grpcio-1.64.1 h5py-3.11.0 keras-3.3.3 libclang-18.1.1 ml-dtypes-0.3.2 namex-0.0.8 opt-einsum-3.3.0 optree-0.11.0 tensorboard-2.16.2 tensorboard-data-server-0.7.2 tensorflow-2.16.1 tensorflow-io-gcs-filesystem-0.37.0 termcolor-2.4.0\n"
     ]
    }
   ],
   "source": [
    "!pip install tensorflow"
   ]
  },
  {
   "cell_type": "code",
   "execution_count": 112,
   "metadata": {},
   "outputs": [
    {
     "name": "stdout",
     "output_type": "stream",
     "text": [
      "The autoreload extension is already loaded. To reload it, use:\n",
      "  %reload_ext autoreload\n"
     ]
    }
   ],
   "source": [
    "%matplotlib inline\n",
    "%load_ext autoreload\n",
    "%autoreload 2\n",
    "\n",
    "# Import required packages\n",
    "import gym\n",
    "import gym_grid\n",
    "\n",
    "import numpy as np\n",
    "import matplotlib.pyplot as plt\n",
    "import torch.optim as optim\n",
    "\n",
    "import warnings\n",
    "warnings.filterwarnings(\"ignore\")"
   ]
  },
  {
   "cell_type": "markdown",
   "metadata": {},
   "source": [
    "# Part 1 - Environment Implementation"
   ]
  },
  {
   "cell_type": "code",
   "execution_count": 8,
   "metadata": {},
   "outputs": [
    {
     "data": {
      "image/png": "[encoded data removed]",
      "text/plain": [
       "<Figure size 1000x1000 with 1 Axes>"
      ]
     },
     "metadata": {},
     "output_type": "display_data"
    },
    {
     "data": {
      "image/png": "[encoded data removed]",
      "text/plain": [
       "<Figure size 1000x1000 with 1 Axes>"
      ]
     },
     "metadata": {},
     "output_type": "display_data"
    }
   ],
   "source": [
    "# Visualize the environment\n",
    "plt.figure(figsize=(10, 10))\n",
    "\n",
    "# T-Maze Environment\n",
    "env_lin = gym.make(\"LinearTrack-v0\")\n",
    "_, obs_to_render = env_lin.reset_with_render()\n",
    "env_lin.reset()\n",
    "env_lin.render(obs_to_render)\n",
    "\n",
    "plt.figure(figsize=(10, 10))\n",
    "# Deadly Gridworld\n",
    "env_grid = gym.make(\"DeadlyGrid-v0\")\n",
    "_, obs_to_render = env_grid.reset_with_render()\n",
    "env_grid.reset()\n",
    "env_grid.render(obs_to_render)"
   ]
  },
  {
   "cell_type": "code",
   "execution_count": 18,
   "metadata": {},
   "outputs": [
    {
     "name": "stdout",
     "output_type": "stream",
     "text": [
      "1300\n"
     ]
    },
    {
     "data": {
      "image/png": "[encoded data removed]",
      "text/plain": [
       "<Figure size 640x480 with 1 Axes>"
      ]
     },
     "metadata": {},
     "output_type": "display_data"
    }
   ],
   "source": [
    "# Run random steps & Visualize the episode\n",
    "from IPython import display\n",
    "\n",
    "_, obs_to_render = env_grid.reset_with_render()\n",
    "env_grid.render(obs_to_render)\n",
    "rew_total = 0\n",
    "\n",
    "i = 0\n",
    "actions = [4] + [2 for i in range(11)]+[1]+[3 for i in range(11)]+[1]+[2 for i in range(11)]+[1]+[3 for i in range(11)]+[1]\n",
    "\n",
    "while True:\n",
    "    #action = env.action_space.sample()\n",
    "    action = actions[i]\n",
    "    i+=1\n",
    "    _, rew , done, _, obs_to_render = env_grid.step_with_render(action)\n",
    "    env_grid.render(obs_to_render)\n",
    "    display.display(plt.gcf())\n",
    "    display.clear_output(wait=True)\n",
    "    rew_total += rew\n",
    "    if done:\n",
    "        break\n",
    "print(rew_total)"
   ]
  },
  {
   "cell_type": "markdown",
   "metadata": {},
   "source": [
    "# Part 2 - Deep Q-Learning Agents"
   ]
  },
  {
   "cell_type": "code",
   "execution_count": 22,
   "metadata": {},
   "outputs": [],
   "source": [
    "import torch\n",
    "import torch.nn as nn\n",
    "import torch.optim as optim\n",
    "import torch.nn.functional as F\n",
    "\n",
    "class DQN(nn.Module):\n",
    "    def __init__(self, input_dim=384, output_dim=3):\n",
    "        super(DQN, self).__init__()\n",
    "        self.layer_in = nn.Linear(input_dim, 128)\n",
    "        self.hidden_layer = nn.ReLU()\n",
    "        self.layer_out = nn.Linear(128, output_dim)\n",
    "    \n",
    "    def forward(self, x):\n",
    "        x = self.layer_in(x)\n",
    "        x = self.hidden_layer(x)\n",
    "        x = self.layer_out(x)\n",
    "        return x"
   ]
  },
  {
   "cell_type": "code",
   "execution_count": 23,
   "metadata": {},
   "outputs": [],
   "source": [
    "def epsilon_greedy_policy(state, epsilon, network):\n",
    "    if np.random.rand() < epsilon:\n",
    "        return np.random.randint(0, network.layer_out.out_features)\n",
    "    else:\n",
    "        with torch.no_grad():\n",
    "            state = torch.FloatTensor(state).flatten().unsqueeze(0)\n",
    "            q_values = q_network(state)\n",
    "            return q_values.argmax().item()"
   ]
  },
  {
   "cell_type": "code",
   "execution_count": 118,
   "metadata": {},
   "outputs": [],
   "source": [
    "def update_q_value(network, optimizer, loss_function, state, action, reward, \n",
    "                   next_state, gamma=0.99, eta=0.001):\n",
    "    \n",
    "    #Convert inputs to tensors\n",
    "    state = torch.FloatTensor(state).flatten().unsqueeze(0)\n",
    "    next_state = torch.FloatTensor(next_state).flatten().unsqueeze(0)\n",
    "\n",
    "    # Forward pass to get Q-values\n",
    "    q_values = network(state)\n",
    "\n",
    "    # Get the Q-value for the chosen action\n",
    "    q_value = q_values[0][action].squeeze(0)\n",
    "\n",
    "    # Calculate the target Q-value\n",
    "    with torch.no_grad():\n",
    "        next_q_values = network(next_state)\n",
    "        next_q_value = next_q_values.max(1)[0]\n",
    "        target_q_value = q_value + eta*(reward + gamma * next_q_value - q_value)\n",
    "\n",
    "    # Calculate loss\n",
    "    loss = loss_function(q_value, target_q_value)\n",
    "\n",
    "    # Backpropagation\n",
    "    optimizer.zero_grad()\n",
    "    loss.backward()\n",
    "    optimizer.step()\n",
    "    print(q_value, target_q_value)\n",
    "    return target_q_value"
   ]
  },
  {
   "cell_type": "code",
   "execution_count": 120,
   "metadata": {},
   "outputs": [
    {
     "name": "stdout",
     "output_type": "stream",
     "text": [
      "tensor(-0.0266, grad_fn=<SqueezeBackward1>) tensor([-0.0265])\n",
      "tensor(-0.0704, grad_fn=<SqueezeBackward1>) tensor([-0.0703])\n",
      "tensor(0.0256, grad_fn=<SqueezeBackward1>) tensor([0.0257])\n",
      "tensor(0.1334, grad_fn=<SqueezeBackward1>) tensor([0.2334])\n",
      "tensor(0.2006, grad_fn=<SqueezeBackward1>) tensor([0.2005])\n",
      "tensor(0.2576, grad_fn=<SqueezeBackward1>) tensor([0.2576])\n",
      "tensor(0.3053, grad_fn=<SqueezeBackward1>) tensor([0.3052])\n",
      "tensor(0.3463, grad_fn=<SqueezeBackward1>) tensor([0.3462])\n",
      "tensor(0.3822, grad_fn=<SqueezeBackward1>) tensor([0.3821])\n",
      "tensor(0.4142, grad_fn=<SqueezeBackward1>) tensor([0.4141])\n",
      "tensor(0.4421, grad_fn=<SqueezeBackward1>) tensor([0.4420])\n",
      "tensor(0.4671, grad_fn=<SqueezeBackward1>) tensor([0.4670])\n",
      "tensor(0.4896, grad_fn=<SqueezeBackward1>) tensor([0.4894])\n",
      "tensor(0.5090, grad_fn=<SqueezeBackward1>) tensor([0.5089])\n",
      "tensor(0.5262, grad_fn=<SqueezeBackward1>) tensor([0.5260])\n",
      "tensor(0.5416, grad_fn=<SqueezeBackward1>) tensor([0.5416])\n",
      "tensor(0.5557, grad_fn=<SqueezeBackward1>) tensor([0.5556])\n",
      "tensor(0.5683, grad_fn=<SqueezeBackward1>) tensor([0.5682])\n",
      "tensor(0.5793, grad_fn=<SqueezeBackward1>) tensor([0.5792])\n",
      "tensor(0.5890, grad_fn=<SqueezeBackward1>) tensor([0.5889])\n",
      "tensor(0.5979, grad_fn=<SqueezeBackward1>) tensor([0.5977])\n",
      "tensor(0.6058, grad_fn=<SqueezeBackward1>) tensor([0.6057])\n",
      "tensor(0.6130, grad_fn=<SqueezeBackward1>) tensor([0.6129])\n",
      "tensor(0.6195, grad_fn=<SqueezeBackward1>) tensor([0.6194])\n",
      "tensor(0.6254, grad_fn=<SqueezeBackward1>) tensor([0.6252])\n",
      "tensor(0.6306, grad_fn=<SqueezeBackward1>) tensor([0.6305])\n",
      "tensor(0.6354, grad_fn=<SqueezeBackward1>) tensor([0.6352])\n",
      "tensor(0.6396, grad_fn=<SqueezeBackward1>) tensor([0.6395])\n",
      "tensor(0.6434, grad_fn=<SqueezeBackward1>) tensor([0.6433])\n",
      "tensor(0.6467, grad_fn=<SqueezeBackward1>) tensor([0.6466])\n",
      "tensor(0.6497, grad_fn=<SqueezeBackward1>) tensor([0.6496])\n",
      "tensor(0.6524, grad_fn=<SqueezeBackward1>) tensor([0.6523])\n",
      "tensor(0.6547, grad_fn=<SqueezeBackward1>) tensor([0.6546])\n",
      "tensor(0.6567, grad_fn=<SqueezeBackward1>) tensor([0.6566])\n",
      "tensor(0.6585, grad_fn=<SqueezeBackward1>) tensor([0.6584])\n",
      "tensor(0.6600, grad_fn=<SqueezeBackward1>) tensor([0.6599])\n",
      "tensor(0.6613, grad_fn=<SqueezeBackward1>) tensor([0.6612])\n",
      "tensor(0.6624, grad_fn=<SqueezeBackward1>) tensor([0.6623])\n",
      "tensor(0.6633, grad_fn=<SqueezeBackward1>) tensor([0.6631])\n",
      "tensor(0.6640, grad_fn=<SqueezeBackward1>) tensor([0.6639])\n",
      "tensor(0.6645, grad_fn=<SqueezeBackward1>) tensor([0.6644])\n",
      "tensor(0.6650, grad_fn=<SqueezeBackward1>) tensor([0.6649])\n",
      "tensor(0.6653, grad_fn=<SqueezeBackward1>) tensor([0.6651])\n",
      "tensor(0.6654, grad_fn=<SqueezeBackward1>) tensor([0.6653])\n",
      "tensor(0.6655, grad_fn=<SqueezeBackward1>) tensor([0.6653])\n",
      "tensor(0.6654, grad_fn=<SqueezeBackward1>) tensor([0.6653])\n",
      "tensor(0.6652, grad_fn=<SqueezeBackward1>) tensor([0.6651])\n",
      "tensor(0.6650, grad_fn=<SqueezeBackward1>) tensor([0.6649])\n",
      "tensor(0.6647, grad_fn=<SqueezeBackward1>) tensor([0.6646])\n",
      "tensor(0.6643, grad_fn=<SqueezeBackward1>) tensor([0.6642])\n",
      "tensor(0.6638, grad_fn=<SqueezeBackward1>) tensor([0.6637])\n",
      "tensor(0.6633, grad_fn=<SqueezeBackward1>) tensor([0.6632])\n",
      "tensor(0.6627, grad_fn=<SqueezeBackward1>) tensor([0.6626])\n",
      "tensor(0.6621, grad_fn=<SqueezeBackward1>) tensor([0.6620])\n",
      "tensor(0.6614, grad_fn=<SqueezeBackward1>) tensor([0.6613])\n",
      "tensor(0.6607, grad_fn=<SqueezeBackward1>) tensor([0.6606])\n",
      "tensor(0.6599, grad_fn=<SqueezeBackward1>) tensor([0.6598])\n",
      "tensor(0.6591, grad_fn=<SqueezeBackward1>) tensor([0.6590])\n",
      "tensor(0.6583, grad_fn=<SqueezeBackward1>) tensor([0.6581])\n",
      "tensor(0.6574, grad_fn=<SqueezeBackward1>) tensor([0.6573])\n",
      "tensor(0.6565, grad_fn=<SqueezeBackward1>) tensor([0.6564])\n",
      "tensor(0.6555, grad_fn=<SqueezeBackward1>) tensor([0.6555])\n",
      "tensor(0.6546, grad_fn=<SqueezeBackward1>) tensor([0.6545])\n",
      "tensor(0.6536, grad_fn=<SqueezeBackward1>) tensor([0.6535])\n",
      "tensor(0.6526, grad_fn=<SqueezeBackward1>) tensor([0.6525])\n",
      "tensor(0.6516, grad_fn=<SqueezeBackward1>) tensor([0.6515])\n",
      "tensor(0.6505, grad_fn=<SqueezeBackward1>) tensor([0.6504])\n",
      "tensor(0.6495, grad_fn=<SqueezeBackward1>) tensor([0.6494])\n",
      "tensor(0.6484, grad_fn=<SqueezeBackward1>) tensor([0.6483])\n",
      "tensor(0.6473, grad_fn=<SqueezeBackward1>) tensor([0.6472])\n",
      "tensor(0.6462, grad_fn=<SqueezeBackward1>) tensor([0.6461])\n",
      "tensor(0.6451, grad_fn=<SqueezeBackward1>) tensor([0.6450])\n",
      "tensor(0.6439, grad_fn=<SqueezeBackward1>) tensor([0.6438])\n",
      "tensor(0.6428, grad_fn=<SqueezeBackward1>) tensor([0.6427])\n",
      "tensor(0.6416, grad_fn=<SqueezeBackward1>) tensor([0.6415])\n",
      "tensor(0.6404, grad_fn=<SqueezeBackward1>) tensor([0.6404])\n",
      "tensor(0.6393, grad_fn=<SqueezeBackward1>) tensor([0.6392])\n",
      "tensor(0.6381, grad_fn=<SqueezeBackward1>) tensor([0.6380])\n",
      "tensor(0.6369, grad_fn=<SqueezeBackward1>) tensor([0.6368])\n",
      "tensor(0.6357, grad_fn=<SqueezeBackward1>) tensor([0.6356])\n",
      "tensor(0.6345, grad_fn=<SqueezeBackward1>) tensor([0.6344])\n",
      "tensor(0.6332, grad_fn=<SqueezeBackward1>) tensor([0.6332])\n",
      "tensor(0.6320, grad_fn=<SqueezeBackward1>) tensor([0.6319])\n",
      "tensor(0.6308, grad_fn=<SqueezeBackward1>) tensor([0.6307])\n",
      "tensor(0.6296, grad_fn=<SqueezeBackward1>) tensor([0.6294])\n",
      "tensor(0.6283, grad_fn=<SqueezeBackward1>) tensor([0.6282])\n",
      "tensor(0.6271, grad_fn=<SqueezeBackward1>) tensor([0.6269])\n",
      "tensor(0.6258, grad_fn=<SqueezeBackward1>) tensor([0.6257])\n",
      "tensor(0.6245, grad_fn=<SqueezeBackward1>) tensor([0.6244])\n",
      "tensor(0.6233, grad_fn=<SqueezeBackward1>) tensor([0.6232])\n",
      "tensor(0.6220, grad_fn=<SqueezeBackward1>) tensor([0.6219])\n",
      "tensor(0.6207, grad_fn=<SqueezeBackward1>) tensor([0.6206])\n",
      "tensor(0.6194, grad_fn=<SqueezeBackward1>) tensor([0.6193])\n",
      "tensor(0.6181, grad_fn=<SqueezeBackward1>) tensor([0.6181])\n",
      "tensor(0.6169, grad_fn=<SqueezeBackward1>) tensor([0.6167])\n",
      "tensor(0.6156, grad_fn=<SqueezeBackward1>) tensor([0.6155])\n",
      "tensor(0.6143, grad_fn=<SqueezeBackward1>) tensor([0.6141])\n",
      "tensor(0.6130, grad_fn=<SqueezeBackward1>) tensor([0.6129])\n",
      "tensor(0.6117, grad_fn=<SqueezeBackward1>) tensor([0.6115])\n"
     ]
    }
   ],
   "source": [
    "# Const\n",
    "epsilon = 1 #->0\n",
    "\n",
    "# Init env and network\n",
    "state = env_grid.reset()\n",
    "q_network = DQN(6*14*5, 5)\n",
    "optimizer = optim.Adam(q_network.parameters(), lr=0.001) \n",
    "loss_function = nn.MSELoss()\n",
    "\n",
    "while True:\n",
    "    \n",
    "    action = epsilon_greedy_policy(state, epsilon, q_network)\n",
    "    next_state, reward, done, info = env_grid.step(action)\n",
    "    \n",
    "    update_q_value(q_network, optimizer, loss_function, state, action, reward, \n",
    "                   next_state, gamma=0.99, eta=0.001)\n",
    "    \n",
    "    epsilon *= 0.8\n",
    "    \n",
    "    if done:\n",
    "        break"
   ]
  },
  {
   "cell_type": "code",
   "execution_count": null,
   "metadata": {},
   "outputs": [],
   "source": []
  }
 ],
 "metadata": {
  "kernelspec": {
   "display_name": "Python 3 (ipykernel)",
   "language": "python",
   "name": "python3"
  },
  "language_info": {
   "codemirror_mode": {
    "name": "ipython",
    "version": 3
   },
   "file_extension": ".py",
   "mimetype": "text/x-python",
   "name": "python",
   "nbconvert_exporter": "python",
   "pygments_lexer": "ipython3",
   "version": "3.11.5"
  }
 },
 "nbformat": 4,
 "nbformat_minor": 4
}
